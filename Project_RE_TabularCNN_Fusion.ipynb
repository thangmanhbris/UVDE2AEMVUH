{
  "cells": [
    {
      "cell_type": "code",
      "execution_count": null,
      "metadata": {
        "id": "aXG4UBDrFeXe"
      },
      "outputs": [],
      "source": [
        "!mkdir /content/Bing_data"
      ]
    },
    {
      "cell_type": "code",
      "execution_count": null,
      "metadata": {
        "id": "06suxRY4GKNK"
      },
      "outputs": [],
      "source": [
        "#/content/drive/MyDrive/Sync/BingImage-ACACIA_RIDGE_QLD7.zip\n",
        "\n",
        "import zipfile\n",
        "\n",
        "zip_file = \"/content/drive/MyDrive/Bing_data/Bing_data06.zip\"\n",
        "\n",
        "try:\n",
        "    with zipfile.ZipFile(zip_file) as z:\n",
        "        z.extractall(\"/content/Bing_data/\")\n",
        "        print(\"Extracted all\")\n",
        "except:\n",
        "    print(\"Invalid file\")"
      ]
    },
    {
      "cell_type": "code",
      "execution_count": null,
      "metadata": {
        "id": "YINl_ZjaPXLe"
      },
      "outputs": [],
      "source": [
        "!mkdir /content/Google_data"
      ]
    },
    {
      "cell_type": "code",
      "execution_count": null,
      "metadata": {
        "id": "wdSWDmbgPdnq"
      },
      "outputs": [],
      "source": [
        "#/content/drive/MyDrive/Sync/BingImage-ACACIA_RIDGE_QLD7.zip\n",
        "\n",
        "import zipfile\n",
        "\n",
        "zip_file = \"/content/drive/MyDrive/Google_data/Google_data06.zip\"\n",
        "\n",
        "try:\n",
        "    with zipfile.ZipFile(zip_file) as z:\n",
        "        z.extractall(\"/content/Google_data/\")\n",
        "        print(\"Extracted all\")\n",
        "except:\n",
        "    print(\"Invalid file\")"
      ]
    },
    {
      "cell_type": "code",
      "execution_count": null,
      "metadata": {
        "colab": {
          "base_uri": "https://localhost:8080/"
        },
        "id": "svcyfdNiHmjm",
        "outputId": "307ab234-ac5b-45ef-f4a3-3730d3d21522"
      },
      "outputs": [],
      "source": [
        "cd /content/drive/MyDrive/image_tabular-master"
      ]
    },
    {
      "cell_type": "code",
      "execution_count": null,
      "metadata": {
        "colab": {
          "base_uri": "https://localhost:8080/",
          "height": 35
        },
        "id": "4gWt6K57H3U3",
        "outputId": "81c84415-1373-4814-f8b0-8e1017af33e0"
      },
      "outputs": [
        {
          "data": {
            "application/vnd.google.colaboratory.intrinsic+json": {
              "type": "string"
            },
            "text/plain": [
              "'1.0.61'"
            ]
          },
          "execution_count": 9,
          "metadata": {},
          "output_type": "execute_result"
        }
      ],
      "source": [
        "import fastai; fastai.__version__"
      ]
    },
    {
      "cell_type": "code",
      "execution_count": null,
      "metadata": {
        "id": "GHB9xSliH95P"
      },
      "outputs": [],
      "source": [
        "%reload_ext autoreload\n",
        "%autoreload 2\n",
        "%matplotlib inline"
      ]
    },
    {
      "cell_type": "code",
      "execution_count": null,
      "metadata": {
        "id": "PIV6qHuFIDu5"
      },
      "outputs": [],
      "source": [
        "from fastai.vision import *\n",
        "from fastai.tabular import *\n",
        "from image_tabular.core import *\n",
        "from image_tabular.dataset import *\n",
        "from image_tabular.model import *\n",
        "from image_tabular.metric import *"
      ]
    },
    {
      "cell_type": "code",
      "execution_count": null,
      "metadata": {
        "id": "Hw73mYBHIJ6Z"
      },
      "outputs": [],
      "source": [
        "bs = 32\n",
        "imsize = 256\n",
        "\n",
        "np.random.seed(2)"
      ]
    },
    {
      "cell_type": "code",
      "execution_count": null,
      "metadata": {
        "id": "YKaOfVeDIQuS"
      },
      "outputs": [],
      "source": [
        "import warnings\n",
        "warnings.filterwarnings(\"ignore\", category=UserWarning, module=\"torch.nn.functional\")"
      ]
    },
    {
      "cell_type": "code",
      "execution_count": null,
      "metadata": {
        "id": "OG5LSktzIaTW"
      },
      "outputs": [],
      "source": [
        "data_path = Path(\"/content/sample_data/\")"
      ]
    },
    {
      "cell_type": "code",
      "execution_count": null,
      "metadata": {
        "colab": {
          "base_uri": "https://localhost:8080/",
          "height": 661
        },
        "id": "8MHQ16XYIl2O",
        "outputId": "b89f59af-6d17-4e91-db3d-dd280728eea2"
      },
      "outputs": [],
      "source": [
        "house_price_df = pd.read_csv('/content/drive/MyDrive/QUTREProject/Brisbane_suburbs_02_sales_2018_property_GB_Prop_dist16_new2.csv', index_col=0)\n",
        "house_price_df"
      ]
    },
    {
      "cell_type": "code",
      "execution_count": null,
      "metadata": {
        "colab": {
          "base_uri": "https://localhost:8080/"
        },
        "id": "jWj0jCM5b7NS",
        "outputId": "f9a247ee-133d-4980-c00f-963db78468c2"
      },
      "outputs": [],
      "source": [
        "house_price_df.columns"
      ]
    },
    {
      "cell_type": "code",
      "execution_count": null,
      "metadata": {
        "colab": {
          "base_uri": "https://localhost:8080/",
          "height": 661
        },
        "id": "4NDBsuEiTD3s",
        "outputId": "ec2451c3-c5ef-4bfc-9571-b42eb68b14d7"
      },
      "outputs": [],
      "source": [
        "test_df = house_price_df.loc[(house_price_df['suburb_id_x']=='QLD1346') | (house_price_df['suburb_id_x']=='QLD627') | (house_price_df['suburb_id_x']=='QLD24') | \\\n",
        "                         (house_price_df['suburb_id_x']=='QLD3231') | (house_price_df['suburb_id_x']=='QLD32') | (house_price_df['suburb_id_x']=='QLD510') | \\\n",
        "                         (house_price_df['suburb_id_x']=='QLD545') | (house_price_df['suburb_id_x']=='QLD718') | (house_price_df['suburb_id_x']=='QLD389') ]\n",
        "test_df"
      ]
    },
    {
      "cell_type": "code",
      "execution_count": null,
      "metadata": {
        "colab": {
          "base_uri": "https://localhost:8080/",
          "height": 661
        },
        "id": "sJyImhk-JIIw",
        "outputId": "d47053a8-962e-4cce-f594-615c5441bb26"
      },
      "outputs": [],
      "source": [
        "# train_df=house_price_df.sample(frac=0.8,random_state=200) #random state is a seed value\n",
        "# test_df=house_price_df.drop(train_df.index)\n",
        "train_df=house_price_df.drop(test_df.index)\n",
        "train_df.reset_index()\n",
        "test_df.reset_index()"
      ]
    },
    {
      "cell_type": "code",
      "execution_count": null,
      "metadata": {
        "colab": {
          "base_uri": "https://localhost:8080/",
          "height": 661
        },
        "id": "ipq95ibEJ04q",
        "outputId": "570e4d82-1994-43f0-e91a-74613d6e769a"
      },
      "outputs": [],
      "source": [
        "train_df.reset_index(drop=True, inplace=True)\n",
        "train_df"
      ]
    },
    {
      "cell_type": "code",
      "execution_count": null,
      "metadata": {
        "colab": {
          "base_uri": "https://localhost:8080/",
          "height": 661
        },
        "id": "G32ePS7dJ6PX",
        "outputId": "a7a8cff1-720d-45d1-a88a-c49bd8b20c67"
      },
      "outputs": [],
      "source": [
        "test_df.reset_index(drop=True, inplace=True)\n",
        "test_df"
      ]
    },
    {
      "cell_type": "code",
      "execution_count": null,
      "metadata": {
        "colab": {
          "base_uri": "https://localhost:8080/"
        },
        "id": "y7QQmtqGJ_JP",
        "outputId": "d1186b9c-585a-4260-d559-98e6417f61de"
      },
      "outputs": [],
      "source": [
        "# Check the length of the dataset\n",
        "print(train_df.shape)\n",
        "print(test_df.shape)"
      ]
    },
    {
      "cell_type": "code",
      "execution_count": null,
      "metadata": {
        "colab": {
          "base_uri": "https://localhost:8080/",
          "height": 386
        },
        "id": "fgtbJ5L6KKpi",
        "outputId": "2e386b5c-10e3-4139-b06c-56171dabaae3"
      },
      "outputs": [],
      "source": [
        "train_df.head()"
      ]
    },
    {
      "cell_type": "code",
      "execution_count": null,
      "metadata": {
        "colab": {
          "base_uri": "https://localhost:8080/"
        },
        "id": "n-BwKDBhKTNg",
        "outputId": "f32aabcd-de85-4eab-9b9c-2d550f06c7d1"
      },
      "outputs": [],
      "source": [
        "print(train_df.columns)"
      ]
    },
    {
      "cell_type": "code",
      "execution_count": null,
      "metadata": {
        "colab": {
          "base_uri": "https://localhost:8080/",
          "height": 394
        },
        "id": "tJHmiiRGKgU1",
        "outputId": "63dfe3e8-f418-4a61-d01a-d0765195d46f"
      },
      "outputs": [],
      "source": [
        "train_df.describe()"
      ]
    },
    {
      "cell_type": "code",
      "execution_count": null,
      "metadata": {
        "id": "_covaofWKmHF"
      },
      "outputs": [],
      "source": [
        "# # Split our variables into target, categorical and continuous variables\n",
        "# dep_var = 'price_value'\n",
        "\n",
        "# # cat_names = ['suburb_id_x']\n",
        "# cat_names = ['street_id_x']\n",
        "# cont_names = ['propertyFeatures_bedrooms_x', 'propertyFeatures_bathrooms_x', 'propertyFeatures_carparks_x', 'landDetails_propertyArea_x', 'school_dist'\\\n",
        "#               , 'hospital_dist', 'uni_dist', 'park_dist', 'mall_dist', 'CBD_dist', 'First_year_transaction']\n",
        "\n",
        "# print(cat_names)\n",
        "# print(cont_names)"
      ]
    },
    {
      "cell_type": "code",
      "execution_count": null,
      "metadata": {
        "id": "sg1E4sIDKyzp"
      },
      "outputs": [],
      "source": [
        "tfms = get_transforms(do_flip=False, max_rotate=5, max_zoom=1.05)\n",
        "\n",
        "procs = [Normalize]\n",
        "\n",
        "size = 256"
      ]
    },
    {
      "cell_type": "code",
      "execution_count": null,
      "metadata": {
        "colab": {
          "base_uri": "https://localhost:8080/"
        },
        "id": "HPOc__sJK6Ob",
        "outputId": "e363b896-acd1-411b-b578-d7f1bbdd3af7"
      },
      "outputs": [],
      "source": [
        "# idx for validation, shared by image and tabular data\n",
        "val_idx = get_valid_index(train_df)\n",
        "len(val_idx)"
      ]
    },
    {
      "cell_type": "code",
      "execution_count": null,
      "metadata": {
        "colab": {
          "base_uri": "https://localhost:8080/"
        },
        "id": "iUpKcUqkLD0i",
        "outputId": "faf29abc-eb56-48ab-b501-d41b8e75b198"
      },
      "outputs": [],
      "source": [
        "# load image data using train_df and prepare fastai LabelLists\n",
        "image_path = Path(\"/content/Google_data/\")\n",
        "\n",
        "image_data = (ImageList.from_df(train_df, path=image_path, cols=\"image_Google\")\n",
        "              .split_by_idx(val_idx)\n",
        "              .label_from_df(cols=\"price_value\", label_cls=FloatList, log=True)\n",
        "              .transform(tfms, size=size))\n",
        "\n",
        "# add test data so that we can make predictions\n",
        "test_image_data = ImageList.from_df(test_df, path=image_path, cols=\"image_Google\")\n",
        "image_data.add_test(test_image_data)"
      ]
    },
    {
      "cell_type": "code",
      "execution_count": null,
      "metadata": {
        "colab": {
          "base_uri": "https://localhost:8080/",
          "height": 290
        },
        "id": "j3n6D_yTLrbp",
        "outputId": "a771b7b7-2f80-4377-c7b2-b7aa7bab14f9"
      },
      "outputs": [],
      "source": [
        "# show one example image\n",
        "print(image_data.train[0][1])\n",
        "image_data.train[0][0]"
      ]
    },
    {
      "cell_type": "code",
      "execution_count": null,
      "metadata": {
        "id": "f-MvTjTmLzU3"
      },
      "outputs": [],
      "source": [
        "dep_var = 'price_value'\n",
        "# cat_names = ['suburb_id_x']\n",
        "cat_names = []\n",
        "# cat_names = ['street_id_x']\n",
        "cont_names = ['propertyFeatures_bedrooms_x', 'propertyFeatures_bathrooms_x', 'propertyFeatures_carparks_x', 'landDetails_propertyArea_x', 'school_dist'\\\n",
        "              , 'hospital_dist', 'uni_dist', 'park_dist', 'mall_dist', 'CBD_dist', 'First_year_transaction', 'highway_dist', 'bus_stop_dist', \\\n",
        "       'ferry_terminal_dist', 'railway_station_dist', 'number_transaction', \\\n",
        "       'crime_rate_2017', 'state_school_percentage', \\\n",
        "       'class_size_achievement_pct_2017', 'Density', 'Score2017']\n",
        "procs = [FillMissing, Categorify, Normalize]"
      ]
    },
    {
      "cell_type": "code",
      "execution_count": null,
      "metadata": {
        "colab": {
          "base_uri": "https://localhost:8080/"
        },
        "id": "jGZE9GbRMFvN",
        "outputId": "2b39e8e2-5270-4edf-b778-2c82b618d2cc"
      },
      "outputs": [],
      "source": [
        "tab_data = (TabularList.from_df(train_df, path=data_path, cat_names=cat_names, cont_names=cont_names, procs=procs)\n",
        "                           .split_by_idx(val_idx)\n",
        "                           .label_from_df(cols=dep_var, label_cls=FloatList, log=True))\n",
        "\n",
        "# add test\n",
        "tab_data.add_test(TabularList.from_df(test_df, cat_names=cat_names, cont_names=cont_names,\n",
        "                                      processor = tab_data.train.x.processor))"
      ]
    },
    {
      "cell_type": "code",
      "execution_count": null,
      "metadata": {
        "colab": {
          "base_uri": "https://localhost:8080/"
        },
        "id": "5S2j8I8YMa7n",
        "outputId": "dd9a1e40-66b0-455f-c954-6348da8d1166"
      },
      "outputs": [],
      "source": [
        "tab_data.train[0]"
      ]
    },
    {
      "cell_type": "code",
      "execution_count": null,
      "metadata": {
        "id": "Z9WycIEFMfoH"
      },
      "outputs": [],
      "source": [
        "integrate_train, integrate_valid, integrate_test = get_imagetabdatasets(image_data, tab_data)"
      ]
    },
    {
      "cell_type": "code",
      "execution_count": null,
      "metadata": {
        "colab": {
          "base_uri": "https://localhost:8080/"
        },
        "id": "Lzl4VuidMxEQ",
        "outputId": "6cbb6d45-9576-476e-a331-590b98586fb3"
      },
      "outputs": [],
      "source": [
        "# package train, valid, and test datasets into a fastai databunch\n",
        "bs = 64\n",
        "\n",
        "db = DataBunch.create(integrate_train, integrate_valid, integrate_test, path=data_path, bs=bs)\n",
        "db"
      ]
    },
    {
      "cell_type": "code",
      "execution_count": null,
      "metadata": {
        "id": "zhozFHmZM9pb"
      },
      "outputs": [],
      "source": [
        "# image normalization with imagenet_stats\n",
        "db.norm, db.denorm = normalize_funcs_image_tab(*imagenet_stats)\n",
        "db.add_tfm(db.norm)"
      ]
    },
    {
      "cell_type": "code",
      "execution_count": null,
      "metadata": {
        "colab": {
          "base_uri": "https://localhost:8080/"
        },
        "id": "AL28lsfONEE_",
        "outputId": "9a4b2d46-4f2b-4117-b673-64a7e90c0d42"
      },
      "outputs": [],
      "source": [
        "# check the shape of one batch\n",
        "x, y = next(iter(db.train_dl))\n",
        "len(x)"
      ]
    },
    {
      "cell_type": "code",
      "execution_count": null,
      "metadata": {
        "colab": {
          "base_uri": "https://localhost:8080/"
        },
        "id": "HHksz6CjNNLz",
        "outputId": "fb25b28b-c07a-4880-cf20-663109cb84f1"
      },
      "outputs": [],
      "source": [
        "# images\n",
        "x[0].shape"
      ]
    },
    {
      "cell_type": "code",
      "execution_count": null,
      "metadata": {
        "colab": {
          "base_uri": "https://localhost:8080/"
        },
        "id": "avPOH5foNTT1",
        "outputId": "abc4afb5-9580-478f-9e37-1ecbd8fb1066"
      },
      "outputs": [],
      "source": [
        "# categorical and continuous tabular data\n",
        "x[1][0].shape, x[1][1].shape"
      ]
    },
    {
      "cell_type": "code",
      "execution_count": null,
      "metadata": {
        "colab": {
          "base_uri": "https://localhost:8080/"
        },
        "id": "o2cH2qftNX1C",
        "outputId": "5b3e8886-c476-4133-961b-af2bfd921c81"
      },
      "outputs": [],
      "source": [
        "# targets\n",
        "y.shape"
      ]
    },
    {
      "cell_type": "code",
      "execution_count": null,
      "metadata": {
        "colab": {
          "base_uri": "https://localhost:8080/",
          "height": 66,
          "referenced_widgets": [
            "9434f7a8f8484c6898fe9e3d7d129b5f",
            "9d5740a3e1094703961f448b03081506",
            "1a7722df9a27496283e01ee86a041d0e",
            "63536dc43f3043edb58c367a580ad2c4",
            "794eb454e56b4d919f84853ffba77d5e",
            "929366ea7d8f4f509f075741e3fe17d1",
            "940b66b0ed9247408bf0799b29143eff",
            "635d3f2630f74763ae8f418c03c95117",
            "be880a3fb42d4797940c9d7ffec808cf",
            "02026917262645c9a0bfd803ac53c6f5",
            "77d84b6cfc8944a985b269c524f8bcfc"
          ]
        },
        "id": "SgDR-6hzNdvj",
        "outputId": "0c3f085e-3725-458d-855f-3c1ba343fa31"
      },
      "outputs": [],
      "source": [
        "# cnn model for images, use Resnet50 as an example\n",
        "#cnn_arch = models.resnet50\n",
        "cnn_arch = models.resnet34\n",
        "\n",
        "# cnn_out_sz is the output size of the cnn model that will be concatenated with tabular model output\n",
        "cnn_out_sz = 256\n",
        "\n",
        "# use fastai functions to get a cnn model\n",
        "image_data_db = image_data.databunch()\n",
        "image_data_db.c = cnn_out_sz\n",
        "cnn_learn = cnn_learner(image_data_db, cnn_arch, ps=0.2)\n",
        "cnn_model = cnn_learn.model"
      ]
    },
    {
      "cell_type": "code",
      "execution_count": null,
      "metadata": {
        "colab": {
          "base_uri": "https://localhost:8080/"
        },
        "id": "4Zq5Oj8ONklZ",
        "outputId": "817a697c-1d89-49d9-c7e1-c7703cae8194"
      },
      "outputs": [],
      "source": [
        "# get embedding sizes of categorical data\n",
        "emb_szs = tab_data.train.get_emb_szs()\n",
        "\n",
        "# output size of the tabular model that will be concatenated with cnn model output\n",
        "tab_out_sz = 1\n",
        "\n",
        "# use fastai functions to get a tabular model\n",
        "tabular_model = TabularModel(emb_szs, len(cont_names), out_sz=tab_out_sz, layers=[], ps=0.2)\n",
        "tabular_model"
      ]
    },
    {
      "cell_type": "code",
      "execution_count": null,
      "metadata": {
        "id": "mZ9Nt9JxNqm-"
      },
      "outputs": [],
      "source": [
        "# use gpu by default if available\n",
        "device = torch.device('cuda:0' if torch.cuda.is_available() else 'cpu')\n",
        "#device = torch.device('cpu')"
      ]
    },
    {
      "cell_type": "code",
      "execution_count": null,
      "metadata": {
        "colab": {
          "base_uri": "https://localhost:8080/"
        },
        "id": "FkNhoaBrNyba",
        "outputId": "a18b6eca-58b9-4e71-f4a7-7781603b0c5f"
      },
      "outputs": [],
      "source": [
        "torch.cuda.is_available()"
      ]
    },
    {
      "cell_type": "code",
      "execution_count": null,
      "metadata": {
        "id": "lYION-e7N6HZ"
      },
      "outputs": [],
      "source": [
        "# get an integrated model that combines the two components and concatenate their outputs\n",
        "# which will pass through additional fully connected layers\n",
        "integrate_model = CNNTabularModel(cnn_model,\n",
        "                                  tabular_model,\n",
        "                                  layers = [cnn_out_sz + tab_out_sz, 1],\n",
        "                                  ps=0.2,\n",
        "                                  out_sz=1).to(device)"
      ]
    },
    {
      "cell_type": "code",
      "execution_count": null,
      "metadata": {
        "colab": {
          "base_uri": "https://localhost:8080/"
        },
        "id": "2A4FI7WnN86g",
        "outputId": "2ee622ce-2bea-4e7c-fd0d-e2b3918dcb80"
      },
      "outputs": [],
      "source": [
        "# check model output dimension, should be (bs, 2)\n",
        "integrate_model(*x).shape"
      ]
    },
    {
      "cell_type": "code",
      "execution_count": null,
      "metadata": {
        "id": "MYewLum8OCRI"
      },
      "outputs": [],
      "source": [
        "# adjust loss function weight because the dataset is extremely unbalanced\n",
        "weights = [1/(1-train_df[\"price_value\"].mean()), 1/train_df[\"price_value\"].mean()]\n",
        "#loss_func = CrossEntropyFlat(weight=torch.FloatTensor(weights).to(device))\n",
        "#loss_func = CrossEntropyFlat(weight=torch.FloatTensor(weights).to(device))\n",
        "class L1LossFlat(nn.SmoothL1Loss):\n",
        "    def forward(self, input:Tensor, target:Tensor) -> Rank0Tensor:\n",
        "        return super().forward(input.view(-1), target.view(-1))"
      ]
    },
    {
      "cell_type": "code",
      "execution_count": null,
      "metadata": {
        "id": "E9G4gkEUOHkY"
      },
      "outputs": [],
      "source": [
        "# package everything in a fastai learner, add auc roc score as a metric\n",
        "#learn = Learner(db, integrate_model, metrics=[accuracy, ROCAUC()], loss_func=loss_func)\n",
        "learn = Learner(db, integrate_model, metrics=[root_mean_squared_error, r2_score])\n",
        "learn.loss_func = MSELossFlat()"
      ]
    },
    {
      "cell_type": "code",
      "execution_count": null,
      "metadata": {
        "id": "fvqyUvvuOPeZ"
      },
      "outputs": [],
      "source": [
        "# organize layer groups in order to use differential learning rates provided by fastai\n",
        "# the first two layer groups are earlier layers of resnet\n",
        "# the last layer group consists of the fully connected layers of cnn model, tabular model,\n",
        "# and final fully connected layers for the concatenated data\n",
        "learn.layer_groups = [nn.Sequential(*flatten_model(cnn_learn.layer_groups[0])),\n",
        "                      nn.Sequential(*flatten_model(cnn_learn.layer_groups[1])),\n",
        "                      nn.Sequential(*(flatten_model(cnn_learn.layer_groups[2]) +\n",
        "                                      flatten_model(integrate_model.tabular_model) +\n",
        "                                      flatten_model(integrate_model.layers)))]"
      ]
    },
    {
      "cell_type": "code",
      "execution_count": null,
      "metadata": {
        "colab": {
          "base_uri": "https://localhost:8080/",
          "height": 441
        },
        "id": "WYGAjR9ZOXZv",
        "outputId": "eeeff1e1-e2cf-403c-80a2-9c3839dc19f5"
      },
      "outputs": [],
      "source": [
        "# find learning rate to train the last layer group first\n",
        "learn.freeze()\n",
        "learn.lr_find()\n",
        "learn.recorder.plot(suggestion=True)"
      ]
    },
    {
      "cell_type": "code",
      "execution_count": null,
      "metadata": {
        "colab": {
          "background_save": true,
          "base_uri": "https://localhost:8080/",
          "height": 926
        },
        "id": "pK9sCHcqP-Sa",
        "outputId": "cea61010-8193-4929-a6f2-940aaf4d2bd8"
      },
      "outputs": [],
      "source": [
        "# train\n",
        "min_grad_lr = 2e-1 # learn.recorder.min_grad_lr\n",
        "learn.fit_one_cycle(13, min_grad_lr)"
      ]
    },
    {
      "cell_type": "code",
      "execution_count": null,
      "metadata": {
        "colab": {
          "background_save": true
        },
        "id": "QImRAs8mPa6f",
        "outputId": "685d0a98-9b5e-4b50-94e5-0772f2933d58"
      },
      "outputs": [],
      "source": [
        "learn.recorder.plot_losses()"
      ]
    },
    {
      "cell_type": "code",
      "execution_count": null,
      "metadata": {
        "colab": {
          "background_save": true
        },
        "id": "G-xr8TIXPior",
        "outputId": "5d42db1d-60ea-4ca8-d2db-dd0c8874b925"
      },
      "outputs": [],
      "source": [
        "learn.save('TabularCNN_resnet34_freeze')\n",
        "learn.load('TabularCNN_resnet34_freeze')"
      ]
    },
    {
      "cell_type": "code",
      "execution_count": null,
      "metadata": {
        "colab": {
          "background_save": true
        },
        "id": "Lfhqy28oPvpI",
        "outputId": "dc0fa7b7-f3cd-44fa-954a-e884eb1a3347"
      },
      "outputs": [],
      "source": [
        "# make predictions for the test set\n",
        "preds, y = learn.get_preds(DatasetType.Test)"
      ]
    },
    {
      "cell_type": "code",
      "execution_count": null,
      "metadata": {
        "colab": {
          "background_save": true
        },
        "id": "GVtR-oJlP1Jr",
        "outputId": "15f204e6-42eb-44ee-d539-b02fde84a7fb"
      },
      "outputs": [],
      "source": [
        "print(preds)"
      ]
    },
    {
      "cell_type": "code",
      "execution_count": null,
      "metadata": {
        "colab": {
          "background_save": true
        },
        "id": "8zBNDEYmQH6V",
        "outputId": "e52f5afa-2e85-4da6-c609-3bd9fcfb4090"
      },
      "outputs": [],
      "source": [
        "print(y)"
      ]
    },
    {
      "cell_type": "code",
      "execution_count": null,
      "metadata": {
        "colab": {
          "background_save": true
        },
        "id": "rV1lC2LyQL-_",
        "outputId": "66bf38ba-7e7e-427e-fbba-6ce3c162b40f"
      },
      "outputs": [],
      "source": [
        "# submit predictions to kaggle\n",
        "labels = [np.exp(p[0].data.item()) for p in preds]\n",
        "submission = pd.DataFrame({'Id': test_df['id_combined'], 'Price': test_df['price_value']})\n",
        "submission[\"Predicted\"] = labels\n",
        "submission.to_csv(data_path/'image_tab_freeze.csv', index=False)\n",
        "submission.head()"
      ]
    },
    {
      "cell_type": "code",
      "execution_count": null,
      "metadata": {
        "colab": {
          "background_save": true
        },
        "id": "4Kh3H0vmQTob"
      },
      "outputs": [],
      "source": [
        "import pandas\n",
        "import matplotlib.pyplot as plt\n",
        "import statsmodels.api\n",
        "import statsmodels.formula.api as sm\n",
        "import scipy.stats as stats"
      ]
    },
    {
      "cell_type": "code",
      "execution_count": null,
      "metadata": {
        "colab": {
          "background_save": true
        },
        "id": "oLfaHZjsQgSK",
        "outputId": "8aa2efa6-3f86-4b65-a229-1af4e37317bc"
      },
      "outputs": [],
      "source": [
        "fig = plt.figure(figsize=[10, 10])\n",
        "ax = fig.add_subplot(2, 2, 1)\n",
        "ax.scatter(submission['Price'], submission['Predicted'])\n",
        "ax.set_xlabel('value')\n",
        "ax.set_ylabel('predicted')\n",
        "ax.set_title(str(submission['Price'].corr(submission['Predicted'])))"
      ]
    },
    {
      "cell_type": "code",
      "execution_count": null,
      "metadata": {
        "colab": {
          "background_save": true
        },
        "id": "TJM-cjSyQmDH",
        "outputId": "e9b1d327-0107-4234-daeb-bdae4bca920c"
      },
      "outputs": [],
      "source": [
        "import numpy as np\n",
        "Y_true = submission['Price']\n",
        "pred = submission['Predicted']\n",
        "\n",
        "\n",
        "#RMSLE\n",
        "error = np.square(np.log(pred + 1) - np.log(Y_true +1)).mean() ** 0.5\n",
        "print(error)\n",
        "\n",
        "score = 1 - error\n",
        "print(\"SCORE For test : \",score)\n"
      ]
    },
    {
      "cell_type": "code",
      "execution_count": null,
      "metadata": {
        "colab": {
          "background_save": true
        },
        "id": "lljkn2DlNh0U"
      },
      "outputs": [],
      "source": [
        "dfCopyf = test_df.copy()\n",
        "dfCopyf[\"Predicted\"] = labels"
      ]
    },
    {
      "cell_type": "code",
      "execution_count": null,
      "metadata": {
        "colab": {
          "background_save": true
        },
        "id": "e44_CPQ_Nrbd"
      },
      "outputs": [],
      "source": [
        "# dfCopy.reset_index(drop=True, inplace=True)\n",
        "dfCopyf.to_csv('/content/drive/MyDrive/QUTREProject/2018_test_results_Hedonic_CNN_Fusion_Google256_Exp2_new2_freeze.csv',index=False)\n",
        "dfCopyf.to_pickle('/content/drive/MyDrive/QUTREProject/2018_test_results_Hedonic_CNN_Fusion_Google256_Exp2_new2_freeze.pkl')"
      ]
    },
    {
      "cell_type": "code",
      "execution_count": null,
      "metadata": {
        "colab": {
          "background_save": true
        },
        "id": "ZavwX-3JYhZ5",
        "outputId": "1c30c675-0bd2-42d7-f34b-45602c8fbb1e"
      },
      "outputs": [],
      "source": [
        "# unfreeze all layer groups to train the entire model using differential learning rates\n",
        "learn.unfreeze()\n",
        "learn.fit_one_cycle(5, slice(min_grad_lr, 1e-5))"
      ]
    },
    {
      "cell_type": "code",
      "execution_count": null,
      "metadata": {
        "colab": {
          "background_save": true
        },
        "id": "Pra9XUBIdYXp",
        "outputId": "07b0d984-7f06-4328-f233-2cf71e459d57"
      },
      "outputs": [],
      "source": [
        "learn.recorder.plot_losses()"
      ]
    },
    {
      "cell_type": "code",
      "execution_count": null,
      "metadata": {
        "colab": {
          "background_save": true
        },
        "id": "G5gKUCjHdzJx",
        "outputId": "96c25275-f04f-4f03-cf5c-ce8ace9a7689"
      },
      "outputs": [],
      "source": [
        "learn.save('TabularCNN_resnet34_unfreeze')\n",
        "learn.load('TabularCNN_resnet34_unfreeze')"
      ]
    },
    {
      "cell_type": "code",
      "execution_count": null,
      "metadata": {
        "colab": {
          "background_save": true
        },
        "id": "MW11OnU9e9Rl",
        "outputId": "4a84f648-ad40-49e6-b97f-f642187e329f"
      },
      "outputs": [],
      "source": [
        "# make predictions for the test set\n",
        "preds, y = learn.get_preds(DatasetType.Test)"
      ]
    },
    {
      "cell_type": "code",
      "execution_count": null,
      "metadata": {
        "colab": {
          "background_save": true
        },
        "id": "qkbwefyCiA-w",
        "outputId": "b7758762-7793-4e0a-a8a8-6463a3b532f1"
      },
      "outputs": [],
      "source": [
        "print(preds)"
      ]
    },
    {
      "cell_type": "code",
      "execution_count": null,
      "metadata": {
        "colab": {
          "background_save": true
        },
        "id": "1WhA86lsiFQJ",
        "outputId": "ff56d5cd-a001-46a9-850b-f68799471742"
      },
      "outputs": [],
      "source": [
        "print(y)"
      ]
    },
    {
      "cell_type": "code",
      "execution_count": null,
      "metadata": {
        "colab": {
          "background_save": true
        },
        "id": "vLzTLO11fWT_",
        "outputId": "9f2799b1-39d0-4328-892f-596d561bdfbf"
      },
      "outputs": [],
      "source": [
        "# submit predictions to kaggle\n",
        "labels = [np.exp(p[0].data.item()) for p in preds]\n",
        "submission = pd.DataFrame({'Id': test_df['id_combined'], 'Price': test_df['price_value'], 'street_id': test_df['street_id_x']})\n",
        "submission[\"Predicted\"] = labels\n",
        "submission.to_csv(data_path/'image_tab_unfreeze.csv', index=False)\n",
        "submission.head()"
      ]
    },
    {
      "cell_type": "code",
      "execution_count": null,
      "metadata": {
        "colab": {
          "background_save": true
        },
        "id": "pOYLy9m-WMJv",
        "outputId": "62deae61-01af-4e01-d983-1282320c108c"
      },
      "outputs": [],
      "source": [
        "fig = plt.figure(figsize=[10, 10])\n",
        "ax = fig.add_subplot(2, 2, 1)\n",
        "ax.scatter(submission['Price'], submission['Predicted'])\n",
        "ax.set_xlabel('value')\n",
        "ax.set_ylabel('predicted')\n",
        "ax.set_title(str(submission['Price'].corr(submission['Predicted'])))"
      ]
    },
    {
      "cell_type": "code",
      "execution_count": null,
      "metadata": {
        "colab": {
          "background_save": true
        },
        "id": "0e9lH4VJWSNw",
        "outputId": "3c29acdf-cae4-437d-92ce-a29915ac278f"
      },
      "outputs": [],
      "source": [
        "import numpy as np\n",
        "Y_true = submission['Price']\n",
        "pred = submission['Predicted']\n",
        "\n",
        "\n",
        "#RMSLE\n",
        "error = np.square(np.log(pred + 1) - np.log(Y_true +1)).mean() ** 0.5\n",
        "print(error)\n",
        "\n",
        "score = 1 - error\n",
        "print(\"SCORE For test : \",score)\n"
      ]
    },
    {
      "cell_type": "code",
      "execution_count": null,
      "metadata": {
        "colab": {
          "background_save": true
        },
        "id": "ct7mJiZqP5FA"
      },
      "outputs": [],
      "source": [
        "# # embeddings = cnn_learn.predict(DatasetType.Test)\n",
        "# embeddings, y = cnn_learn.get_preds(DatasetType.Test)"
      ]
    },
    {
      "cell_type": "code",
      "execution_count": null,
      "metadata": {
        "colab": {
          "background_save": true
        },
        "id": "zFFLAnJ7z04h"
      },
      "outputs": [],
      "source": [
        "# print(embeddings)"
      ]
    },
    {
      "cell_type": "code",
      "execution_count": null,
      "metadata": {
        "colab": {
          "background_save": true
        },
        "id": "j8QB0b6D0B0l"
      },
      "outputs": [],
      "source": [
        "# print(embeddings.shape)"
      ]
    },
    {
      "cell_type": "code",
      "execution_count": null,
      "metadata": {
        "colab": {
          "background_save": true
        },
        "id": "3cQlVFO5V3VD"
      },
      "outputs": [],
      "source": [
        "# print(embeddings[5])"
      ]
    },
    {
      "cell_type": "code",
      "execution_count": null,
      "metadata": {
        "id": "C5DWe3btWCol"
      },
      "outputs": [],
      "source": [
        "# embeddings01 = embeddings[0:3]"
      ]
    },
    {
      "cell_type": "code",
      "execution_count": null,
      "metadata": {
        "id": "zPvYqQjJWRzK"
      },
      "outputs": [],
      "source": [
        "# print(embeddings01)"
      ]
    },
    {
      "cell_type": "code",
      "execution_count": null,
      "metadata": {
        "id": "QWsTaq5ee9X6"
      },
      "outputs": [],
      "source": [
        "# test_df"
      ]
    },
    {
      "cell_type": "code",
      "execution_count": null,
      "metadata": {
        "id": "a1dILlFogr2z"
      },
      "outputs": [],
      "source": [
        "dfCopy = test_df.copy()\n",
        "dfCopy"
      ]
    },
    {
      "cell_type": "code",
      "execution_count": null,
      "metadata": {
        "id": "Pd5eI2qMavFF"
      },
      "outputs": [],
      "source": [
        "dfCopy[\"Predicted\"] = labels\n",
        "dfCopy"
      ]
    },
    {
      "cell_type": "code",
      "execution_count": null,
      "metadata": {
        "id": "gvCXKjpqa6ea"
      },
      "outputs": [],
      "source": [
        "# dfCopy.reset_index(drop=True, inplace=True)\n",
        "dfCopy.to_csv('/content/drive/MyDrive/QUTREProject/2018_test_results_Hedonic_CNN_Fusion_Google256_Exp2_new2_unfreeze.csv',index=False)\n",
        "dfCopy.to_pickle('/content/drive/MyDrive/QUTREProject/2018_test_results_Hedonic_CNN_Fusion_Google256_Exp2_new2_unfreeze.pkl')"
      ]
    },
    {
      "cell_type": "code",
      "execution_count": null,
      "metadata": {
        "id": "MHOH2ikikE75"
      },
      "outputs": [],
      "source": [
        "# dfCopy['Index_x'] = 0\n",
        "# dfCopy"
      ]
    },
    {
      "cell_type": "code",
      "execution_count": null,
      "metadata": {
        "id": "JlbbrIFqm9na"
      },
      "outputs": [],
      "source": [
        "# class_price_01 = 1000000\n",
        "# class_price_02 = 800000\n",
        "# class_price_03 = 600000\n",
        "# class_price_04 = 400000\n",
        "# class_price_05 = 200000\n",
        "\n",
        "# for ii in range(len(dfCopy)):\n",
        "#   if dfCopy['price_value'][ii] > class_price_01:\n",
        "#         dfCopy.iloc[[ii],[40]] = 6\n",
        "#   elif (dfCopy['price_value'][ii] <= class_price_01) & (dfCopy['price_value'][ii] > class_price_02):\n",
        "#         dfCopy.iloc[[ii],[40]] = 5\n",
        "#   elif (dfCopy['price_value'][ii] <= class_price_02) & (dfCopy['price_value'][ii] > class_price_03):\n",
        "#         dfCopy.iloc[[ii],[40]] = 4\n",
        "#   elif (dfCopy['price_value'][ii] <= class_price_03) & (dfCopy['price_value'][ii] > class_price_04):\n",
        "#         dfCopy.iloc[[ii],[40]] = 3\n",
        "#   elif (dfCopy['price_value'][ii] <= class_price_04) & (dfCopy['price_value'][ii] > class_price_05):\n",
        "#         dfCopy.iloc[[ii],[40]] = 2\n",
        "#   else:\n",
        "#         pass\n",
        "\n",
        "#   # dfCopy['Index_x'][ii] = ii\n",
        "# dfCopy"
      ]
    },
    {
      "cell_type": "code",
      "execution_count": null,
      "metadata": {
        "id": "5Lc9N-tkWV-b"
      },
      "outputs": [],
      "source": [
        "# class_price_01 = 1000000\n",
        "# class_price_02 = 800000\n",
        "# class_price_03 = 600000\n",
        "# class_price_04 = 400000\n",
        "# class_price_05 = 200000\n",
        "\n",
        "# for ii in range(len(dfCopy)):\n",
        "#   if submission['Predicted'][ii] > class_price_01:\n",
        "#         dfCopy.iloc[[ii],[41]] = 6\n",
        "#   elif (submission['Predicted'][ii] <= class_price_01) & (submission['Predicted'][ii] > class_price_02):\n",
        "#         dfCopy.iloc[[ii],[41]] = 5\n",
        "#   elif (submission['Predicted'][ii] <= class_price_02) & (submission['Predicted'][ii] > class_price_03):\n",
        "#         dfCopy.iloc[[ii],[41]] = 4\n",
        "#   elif (submission['Predicted'][ii] <= class_price_03) & (submission['Predicted'][ii] > class_price_04):\n",
        "#         dfCopy.iloc[[ii],[41]] = 3\n",
        "#   elif (submission['Predicted'][ii] <= class_price_04) & (submission['Predicted'][ii] > class_price_05):\n",
        "#         dfCopy.iloc[[ii],[41]] = 2\n",
        "#   else:\n",
        "#         pass\n",
        "\n",
        "#   # dfCopy['Index_x'][ii] = ii\n",
        "# dfCopy"
      ]
    },
    {
      "cell_type": "code",
      "execution_count": null,
      "metadata": {
        "id": "T4quMzCbj2x4"
      },
      "outputs": [],
      "source": [
        "# dfCopy.set_index('Index_x', inplace=True)\n",
        "# dfCopy"
      ]
    },
    {
      "cell_type": "code",
      "execution_count": null,
      "metadata": {
        "id": "xJM1KcUtsicf"
      },
      "outputs": [],
      "source": [
        "# # QLD125992\n",
        "# dfCopy[\"Index_x\"] = 0\n",
        "# dfCopy.loc[dfCopy[\"suburb_id_x\"] == 'QLD545', \"Index_x\"] = 1\n",
        "# dfCopy.loc[dfCopy[\"suburb_id_x\"] == 'QLD2303', \"Index_x\"] = 2\n",
        "# dfCopy.loc[dfCopy[\"suburb_id_x\"] == 'QLD2330', \"Index_x\"] = 3\n",
        "# dfCopy.loc[dfCopy[\"suburb_id_x\"] == 'QLD1082', \"Index_x\"] = 4\n",
        "# dfCopy.loc[dfCopy[\"suburb_id_x\"] == 'QLD1834', \"Index_x\"] = 5\n"
      ]
    },
    {
      "cell_type": "code",
      "execution_count": null,
      "metadata": {
        "id": "RByKBbgBc1av"
      },
      "outputs": [],
      "source": [
        "# # street_id_test = dfCopy['suburb_id_x']\n",
        "# street_id_test = dfCopy['Index_x']\n",
        "# street_id_test"
      ]
    },
    {
      "cell_type": "code",
      "execution_count": null,
      "metadata": {
        "id": "BjSAA1Xodh8V"
      },
      "outputs": [],
      "source": [
        "# print(street_id_test[0][3:])"
      ]
    },
    {
      "cell_type": "code",
      "execution_count": null,
      "metadata": {
        "id": "FVOqJmnAeJKs"
      },
      "outputs": [],
      "source": [
        "# for ii in range(len(street_id_test)):\n",
        "#   street_id_test[ii] = int(street_id_test[ii][3:])\n",
        "# street_id_test"
      ]
    },
    {
      "cell_type": "code",
      "execution_count": null,
      "metadata": {
        "id": "xGfXfFpcrJSU"
      },
      "outputs": [],
      "source": [
        "# embeddings01 = embeddings[0:500]"
      ]
    },
    {
      "cell_type": "code",
      "execution_count": null,
      "metadata": {
        "id": "9CaBGbPWPIJp"
      },
      "outputs": [],
      "source": [
        "# from sklearn.manifold import TSNE\n",
        "\n",
        "# tsne_embeddings = TSNE(random_state=2, verbose=1,\n",
        "#                     metric='euclidean').fit_transform(embeddings)"
      ]
    },
    {
      "cell_type": "code",
      "execution_count": null,
      "metadata": {
        "id": "4kd9lIvtxj95"
      },
      "outputs": [],
      "source": [
        "# print(tsne_embeddings)"
      ]
    },
    {
      "cell_type": "code",
      "execution_count": null,
      "metadata": {
        "id": "7DRerihMxoly"
      },
      "outputs": [],
      "source": [
        "# dataframe=pd.DataFrame(tsne_embeddings, columns=['a','b'])\n",
        "# dataframe"
      ]
    },
    {
      "cell_type": "code",
      "execution_count": null,
      "metadata": {
        "id": "aY8KqRBjxyCm"
      },
      "outputs": [],
      "source": [
        "# dataframe.to_csv('/content/drive/MyDrive/QUTREProject/tsne_embeddings_2018_T-1_Google256_CNN_HE_Fusion_Colab.csv')"
      ]
    },
    {
      "cell_type": "code",
      "execution_count": null,
      "metadata": {
        "id": "Jj3FLWiyPecD"
      },
      "outputs": [],
      "source": [
        "# fig = plt.figure(figsize=[12, 12])\n",
        "# ax = fig.add_subplot(1, 1, 1)\n",
        "# # ax.scatter(tsne_embeddings[:,0], tsne_embeddings[:,1],c = street_id_test);\n",
        "# sc = ax.scatter(tsne_embeddings[:,0], tsne_embeddings[:,1], c=street_id_test, cmap='tab10')\n",
        "# ax.legend(*sc.legend_elements(), title='clusters')"
      ]
    },
    {
      "cell_type": "code",
      "execution_count": null,
      "metadata": {
        "id": "31CgaC3Kwu62"
      },
      "outputs": [],
      "source": [
        "# from matplotlib.offsetbox import OffsetImage, AnnotationBbox\n",
        "# from matplotlib.cbook import get_sample_data\n",
        "# import PIL\n",
        "# from PIL import Image\n",
        "\n",
        "\n",
        "# def plot_images_in_2d(x, y, image_paths, axis=None, zoom=1):\n",
        "#     if axis is None:\n",
        "#         axis = plt.gca()\n",
        "#     x, y = np.atleast_1d(x, y)\n",
        "#     for x0, y0, image_path in zip(x, y, image_paths):\n",
        "#         image = Image.open(image_path)\n",
        "#         image.thumbnail((100, 100), Image.ANTIALIAS)\n",
        "#         img = OffsetImage(image, zoom=zoom)\n",
        "#         anno_box = AnnotationBbox(img, (x0, y0),\n",
        "#                                   xycoords='data',\n",
        "#                                   frameon=False)\n",
        "#         axis.add_artist(anno_box)\n",
        "#     axis.update_datalim(np.column_stack([x, y]))\n",
        "#     axis.autoscale()"
      ]
    },
    {
      "cell_type": "code",
      "execution_count": null,
      "metadata": {
        "id": "EXxfKSEZwxaz"
      },
      "outputs": [],
      "source": [
        "# def show_tsne(x, y, selected_filenames):\n",
        "#     fig, axis = plt.subplots()\n",
        "#     fig.set_size_inches(22, 22, forward=True)\n",
        "#     plot_images_in_2d(x, y, selected_filenames, zoom=0.3, axis=axis)\n",
        "#     plt.show()"
      ]
    },
    {
      "cell_type": "code",
      "execution_count": null,
      "metadata": {
        "id": "sBE3aZU_zDGw"
      },
      "outputs": [],
      "source": [
        "# selected_filenames = '/content/Bing_data/' + dfCopy['image_Bing']\n",
        "# selected_filenames"
      ]
    },
    {
      "cell_type": "code",
      "execution_count": null,
      "metadata": {
        "id": "41ty5Pj03yCD"
      },
      "outputs": [],
      "source": [
        "# selected_filenames = '/content/Google_data/' + dfCopy['image_Google']\n",
        "# selected_filenames"
      ]
    },
    {
      "cell_type": "code",
      "execution_count": null,
      "metadata": {
        "id": "re1TkH9aw4fH"
      },
      "outputs": [],
      "source": [
        "# show_tsne(tsne_embeddings[:, 0], tsne_embeddings[:, 1], selected_filenames)"
      ]
    },
    {
      "cell_type": "code",
      "execution_count": null,
      "metadata": {
        "id": "UAof4muT0Ryc"
      },
      "outputs": [],
      "source": [
        "# def tsne_to_grid_plotter_manual(x, y, selected_filenames):\n",
        "#     S = 2000\n",
        "#     s = 100\n",
        "#     x = (x - min(x)) / (max(x) - min(x))\n",
        "#     y = (y - min(y)) / (max(y) - min(y))\n",
        "#     x_values = []\n",
        "#     y_values = []\n",
        "#     filename_plot = []\n",
        "#     x_y_dict = {}\n",
        "#     for i, image_path in enumerate(selected_filenames):\n",
        "#         a = np.ceil(x[i] * (S - s))\n",
        "#         b = np.ceil(y[i] * (S - s))\n",
        "#         a = int(a - np.mod(a, s))\n",
        "#         b = int(b - np.mod(b, s))\n",
        "#         if str(a) + \"|\" + str(b) in x_y_dict:\n",
        "#             continue\n",
        "#         x_y_dict[str(a) + \"|\" + str(b)] = 1\n",
        "#         x_values.append(a)\n",
        "#         y_values.append(b)\n",
        "#         filename_plot.append(image_path)\n",
        "#     fig, axis = plt.subplots()\n",
        "#     fig.set_size_inches(22, 22, forward=True)\n",
        "#     plot_images_in_2d(x_values, y_values, filename_plot, zoom=.58, axis=axis)\n",
        "#     plt.show()"
      ]
    },
    {
      "cell_type": "code",
      "execution_count": null,
      "metadata": {
        "id": "6tBV9TIi0iwD"
      },
      "outputs": [],
      "source": [
        "# tsne_to_grid_plotter_manual(tsne_embeddings[:, 0], tsne_embeddings[:, 1],\n",
        "#                             selected_filenames)"
      ]
    }
  ],
  "metadata": {
    "accelerator": "GPU",
    "colab": {
      "provenance": []
    },
    "kernelspec": {
      "display_name": "Python 3",
      "name": "python3"
    },
    "language_info": {
      "name": "python"
    },
    "widgets": {
      "application/vnd.jupyter.widget-state+json": {
        "02026917262645c9a0bfd803ac53c6f5": {
          "model_module": "@jupyter-widgets/base",
          "model_module_version": "1.2.0",
          "model_name": "LayoutModel",
          "state": {
            "_model_module": "@jupyter-widgets/base",
            "_model_module_version": "1.2.0",
            "_model_name": "LayoutModel",
            "_view_count": null,
            "_view_module": "@jupyter-widgets/base",
            "_view_module_version": "1.2.0",
            "_view_name": "LayoutView",
            "align_content": null,
            "align_items": null,
            "align_self": null,
            "border": null,
            "bottom": null,
            "display": null,
            "flex": null,
            "flex_flow": null,
            "grid_area": null,
            "grid_auto_columns": null,
            "grid_auto_flow": null,
            "grid_auto_rows": null,
            "grid_column": null,
            "grid_gap": null,
            "grid_row": null,
            "grid_template_areas": null,
            "grid_template_columns": null,
            "grid_template_rows": null,
            "height": null,
            "justify_content": null,
            "justify_items": null,
            "left": null,
            "margin": null,
            "max_height": null,
            "max_width": null,
            "min_height": null,
            "min_width": null,
            "object_fit": null,
            "object_position": null,
            "order": null,
            "overflow": null,
            "overflow_x": null,
            "overflow_y": null,
            "padding": null,
            "right": null,
            "top": null,
            "visibility": null,
            "width": null
          }
        },
        "1a7722df9a27496283e01ee86a041d0e": {
          "model_module": "@jupyter-widgets/controls",
          "model_module_version": "1.5.0",
          "model_name": "FloatProgressModel",
          "state": {
            "_dom_classes": [],
            "_model_module": "@jupyter-widgets/controls",
            "_model_module_version": "1.5.0",
            "_model_name": "FloatProgressModel",
            "_view_count": null,
            "_view_module": "@jupyter-widgets/controls",
            "_view_module_version": "1.5.0",
            "_view_name": "ProgressView",
            "bar_style": "success",
            "description": "",
            "description_tooltip": null,
            "layout": "IPY_MODEL_635d3f2630f74763ae8f418c03c95117",
            "max": 87319819,
            "min": 0,
            "orientation": "horizontal",
            "style": "IPY_MODEL_be880a3fb42d4797940c9d7ffec808cf",
            "value": 87319819
          }
        },
        "63536dc43f3043edb58c367a580ad2c4": {
          "model_module": "@jupyter-widgets/controls",
          "model_module_version": "1.5.0",
          "model_name": "HTMLModel",
          "state": {
            "_dom_classes": [],
            "_model_module": "@jupyter-widgets/controls",
            "_model_module_version": "1.5.0",
            "_model_name": "HTMLModel",
            "_view_count": null,
            "_view_module": "@jupyter-widgets/controls",
            "_view_module_version": "1.5.0",
            "_view_name": "HTMLView",
            "description": "",
            "description_tooltip": null,
            "layout": "IPY_MODEL_02026917262645c9a0bfd803ac53c6f5",
            "placeholder": "​",
            "style": "IPY_MODEL_77d84b6cfc8944a985b269c524f8bcfc",
            "value": " 83.3M/83.3M [00:00&lt;00:00, 240MB/s]"
          }
        },
        "635d3f2630f74763ae8f418c03c95117": {
          "model_module": "@jupyter-widgets/base",
          "model_module_version": "1.2.0",
          "model_name": "LayoutModel",
          "state": {
            "_model_module": "@jupyter-widgets/base",
            "_model_module_version": "1.2.0",
            "_model_name": "LayoutModel",
            "_view_count": null,
            "_view_module": "@jupyter-widgets/base",
            "_view_module_version": "1.2.0",
            "_view_name": "LayoutView",
            "align_content": null,
            "align_items": null,
            "align_self": null,
            "border": null,
            "bottom": null,
            "display": null,
            "flex": null,
            "flex_flow": null,
            "grid_area": null,
            "grid_auto_columns": null,
            "grid_auto_flow": null,
            "grid_auto_rows": null,
            "grid_column": null,
            "grid_gap": null,
            "grid_row": null,
            "grid_template_areas": null,
            "grid_template_columns": null,
            "grid_template_rows": null,
            "height": null,
            "justify_content": null,
            "justify_items": null,
            "left": null,
            "margin": null,
            "max_height": null,
            "max_width": null,
            "min_height": null,
            "min_width": null,
            "object_fit": null,
            "object_position": null,
            "order": null,
            "overflow": null,
            "overflow_x": null,
            "overflow_y": null,
            "padding": null,
            "right": null,
            "top": null,
            "visibility": null,
            "width": null
          }
        },
        "77d84b6cfc8944a985b269c524f8bcfc": {
          "model_module": "@jupyter-widgets/controls",
          "model_module_version": "1.5.0",
          "model_name": "DescriptionStyleModel",
          "state": {
            "_model_module": "@jupyter-widgets/controls",
            "_model_module_version": "1.5.0",
            "_model_name": "DescriptionStyleModel",
            "_view_count": null,
            "_view_module": "@jupyter-widgets/base",
            "_view_module_version": "1.2.0",
            "_view_name": "StyleView",
            "description_width": ""
          }
        },
        "794eb454e56b4d919f84853ffba77d5e": {
          "model_module": "@jupyter-widgets/base",
          "model_module_version": "1.2.0",
          "model_name": "LayoutModel",
          "state": {
            "_model_module": "@jupyter-widgets/base",
            "_model_module_version": "1.2.0",
            "_model_name": "LayoutModel",
            "_view_count": null,
            "_view_module": "@jupyter-widgets/base",
            "_view_module_version": "1.2.0",
            "_view_name": "LayoutView",
            "align_content": null,
            "align_items": null,
            "align_self": null,
            "border": null,
            "bottom": null,
            "display": null,
            "flex": null,
            "flex_flow": null,
            "grid_area": null,
            "grid_auto_columns": null,
            "grid_auto_flow": null,
            "grid_auto_rows": null,
            "grid_column": null,
            "grid_gap": null,
            "grid_row": null,
            "grid_template_areas": null,
            "grid_template_columns": null,
            "grid_template_rows": null,
            "height": null,
            "justify_content": null,
            "justify_items": null,
            "left": null,
            "margin": null,
            "max_height": null,
            "max_width": null,
            "min_height": null,
            "min_width": null,
            "object_fit": null,
            "object_position": null,
            "order": null,
            "overflow": null,
            "overflow_x": null,
            "overflow_y": null,
            "padding": null,
            "right": null,
            "top": null,
            "visibility": null,
            "width": null
          }
        },
        "929366ea7d8f4f509f075741e3fe17d1": {
          "model_module": "@jupyter-widgets/base",
          "model_module_version": "1.2.0",
          "model_name": "LayoutModel",
          "state": {
            "_model_module": "@jupyter-widgets/base",
            "_model_module_version": "1.2.0",
            "_model_name": "LayoutModel",
            "_view_count": null,
            "_view_module": "@jupyter-widgets/base",
            "_view_module_version": "1.2.0",
            "_view_name": "LayoutView",
            "align_content": null,
            "align_items": null,
            "align_self": null,
            "border": null,
            "bottom": null,
            "display": null,
            "flex": null,
            "flex_flow": null,
            "grid_area": null,
            "grid_auto_columns": null,
            "grid_auto_flow": null,
            "grid_auto_rows": null,
            "grid_column": null,
            "grid_gap": null,
            "grid_row": null,
            "grid_template_areas": null,
            "grid_template_columns": null,
            "grid_template_rows": null,
            "height": null,
            "justify_content": null,
            "justify_items": null,
            "left": null,
            "margin": null,
            "max_height": null,
            "max_width": null,
            "min_height": null,
            "min_width": null,
            "object_fit": null,
            "object_position": null,
            "order": null,
            "overflow": null,
            "overflow_x": null,
            "overflow_y": null,
            "padding": null,
            "right": null,
            "top": null,
            "visibility": null,
            "width": null
          }
        },
        "940b66b0ed9247408bf0799b29143eff": {
          "model_module": "@jupyter-widgets/controls",
          "model_module_version": "1.5.0",
          "model_name": "DescriptionStyleModel",
          "state": {
            "_model_module": "@jupyter-widgets/controls",
            "_model_module_version": "1.5.0",
            "_model_name": "DescriptionStyleModel",
            "_view_count": null,
            "_view_module": "@jupyter-widgets/base",
            "_view_module_version": "1.2.0",
            "_view_name": "StyleView",
            "description_width": ""
          }
        },
        "9434f7a8f8484c6898fe9e3d7d129b5f": {
          "model_module": "@jupyter-widgets/controls",
          "model_module_version": "1.5.0",
          "model_name": "HBoxModel",
          "state": {
            "_dom_classes": [],
            "_model_module": "@jupyter-widgets/controls",
            "_model_module_version": "1.5.0",
            "_model_name": "HBoxModel",
            "_view_count": null,
            "_view_module": "@jupyter-widgets/controls",
            "_view_module_version": "1.5.0",
            "_view_name": "HBoxView",
            "box_style": "",
            "children": [
              "IPY_MODEL_9d5740a3e1094703961f448b03081506",
              "IPY_MODEL_1a7722df9a27496283e01ee86a041d0e",
              "IPY_MODEL_63536dc43f3043edb58c367a580ad2c4"
            ],
            "layout": "IPY_MODEL_794eb454e56b4d919f84853ffba77d5e"
          }
        },
        "9d5740a3e1094703961f448b03081506": {
          "model_module": "@jupyter-widgets/controls",
          "model_module_version": "1.5.0",
          "model_name": "HTMLModel",
          "state": {
            "_dom_classes": [],
            "_model_module": "@jupyter-widgets/controls",
            "_model_module_version": "1.5.0",
            "_model_name": "HTMLModel",
            "_view_count": null,
            "_view_module": "@jupyter-widgets/controls",
            "_view_module_version": "1.5.0",
            "_view_name": "HTMLView",
            "description": "",
            "description_tooltip": null,
            "layout": "IPY_MODEL_929366ea7d8f4f509f075741e3fe17d1",
            "placeholder": "​",
            "style": "IPY_MODEL_940b66b0ed9247408bf0799b29143eff",
            "value": "100%"
          }
        },
        "be880a3fb42d4797940c9d7ffec808cf": {
          "model_module": "@jupyter-widgets/controls",
          "model_module_version": "1.5.0",
          "model_name": "ProgressStyleModel",
          "state": {
            "_model_module": "@jupyter-widgets/controls",
            "_model_module_version": "1.5.0",
            "_model_name": "ProgressStyleModel",
            "_view_count": null,
            "_view_module": "@jupyter-widgets/base",
            "_view_module_version": "1.2.0",
            "_view_name": "StyleView",
            "bar_color": null,
            "description_width": ""
          }
        }
      }
    }
  },
  "nbformat": 4,
  "nbformat_minor": 0
}
