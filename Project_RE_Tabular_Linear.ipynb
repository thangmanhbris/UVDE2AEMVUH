{
  "cells": [
    {
      "cell_type": "code",
      "execution_count": null,
      "metadata": {
        "id": "jDj-YrbqpD6q"
      },
      "outputs": [],
      "source": [
        "%reload_ext autoreload\n",
        "%autoreload 2\n",
        "%matplotlib inline"
      ]
    },
    {
      "cell_type": "code",
      "execution_count": null,
      "metadata": {
        "id": "9yfY2mtbqANy"
      },
      "outputs": [],
      "source": [
        "import fastai; fastai.__version__"
      ]
    },
    {
      "cell_type": "code",
      "execution_count": null,
      "metadata": {
        "id": "4EzExS9PqE-p"
      },
      "outputs": [],
      "source": [
        "import pandas as pd\n",
        "from fastai.tabular import *"
      ]
    },
    {
      "cell_type": "code",
      "execution_count": null,
      "metadata": {
        "colab": {
          "base_uri": "https://localhost:8080/",
          "height": 661
        },
        "id": "7sPViOP3qLMe",
        "outputId": "09ee2d4d-02f7-4afd-bda7-fe262d06bd71"
      },
      "outputs": [],
      "source": [
        "# the datasets\n",
        "house_price_df = pd.read_csv(\"/content/drive/MyDrive/QUTREProject/Brisbane_suburbs_02_sales_2018_property_GB_Prop_dist16.csv\", index_col=0)\n",
        "house_price_df"
      ]
    },
    {
      "cell_type": "code",
      "execution_count": null,
      "metadata": {
        "colab": {
          "base_uri": "https://localhost:8080/",
          "height": 1000
        },
        "id": "JdyhoP9gWcb5",
        "outputId": "62b82b8a-5149-4f4b-8844-3b6d85f91460"
      },
      "outputs": [],
      "source": [
        "df_01 = house_price_df.loc[house_price_df['school_dist'] > 10000]\n",
        "df_01"
      ]
    },
    {
      "cell_type": "code",
      "execution_count": null,
      "metadata": {
        "colab": {
          "base_uri": "https://localhost:8080/",
          "height": 661
        },
        "id": "-D-pwfQ8WdX7",
        "outputId": "23de190a-9d43-4fa2-a6c7-211b7441b714"
      },
      "outputs": [],
      "source": [
        "house_price_df = house_price_df.drop(df_01.index)\n",
        "house_price_df"
      ]
    },
    {
      "cell_type": "code",
      "execution_count": null,
      "metadata": {
        "colab": {
          "base_uri": "https://localhost:8080/",
          "height": 661
        },
        "id": "wByPpl1iWq3c",
        "outputId": "3fd1d099-da17-4233-ff50-c4f34ce517ac"
      },
      "outputs": [],
      "source": [
        "house_price_df.reset_index(drop=True, inplace=True)\n",
        "house_price_df"
      ]
    },
    {
      "cell_type": "code",
      "execution_count": null,
      "metadata": {
        "id": "Rl_3KzfvL1S7"
      },
      "outputs": [],
      "source": [
        "# test_df = house_price_df.loc[(house_price_df['suburb_id_x']=='QLD1346') | (house_price_df['suburb_id_x']=='QLD627') | (house_price_df['suburb_id_x']=='QLD24') | \\\n",
        "#                          (house_price_df['suburb_id_x']=='QLD3231') | (house_price_df['suburb_id_x']=='QLD32') | (house_price_df['suburb_id_x']=='QLD510') | \\\n",
        "#                          (house_price_df['suburb_id_x']=='QLD545') | (house_price_df['suburb_id_x']=='QLD718') | (house_price_df['suburb_id_x']=='QLD389') ]\n",
        "# test_df"
      ]
    },
    {
      "cell_type": "code",
      "execution_count": null,
      "metadata": {
        "colab": {
          "base_uri": "https://localhost:8080/",
          "height": 661
        },
        "id": "nCJ2k_dSqVzd",
        "outputId": "14154f6b-d47c-4475-980d-5c8a03facdc6"
      },
      "outputs": [],
      "source": [
        "train_df=house_price_df.sample(frac=0.8,random_state=200) #random state is a seed value\n",
        "test_df=house_price_df.drop(train_df.index)\n",
        "# train_df=house_price_df.drop(test_df.index)\n",
        "train_df.reset_index()\n",
        "test_df.reset_index()"
      ]
    },
    {
      "cell_type": "code",
      "execution_count": null,
      "metadata": {
        "colab": {
          "base_uri": "https://localhost:8080/",
          "height": 661
        },
        "id": "yjX6Fw-Gqdf9",
        "outputId": "9058c429-976e-4667-88db-6a018b98d71e"
      },
      "outputs": [],
      "source": [
        "train_df.reset_index(drop=True, inplace=True)\n",
        "train_df"
      ]
    },
    {
      "cell_type": "code",
      "execution_count": null,
      "metadata": {
        "colab": {
          "base_uri": "https://localhost:8080/",
          "height": 661
        },
        "id": "369W-4ExqjUl",
        "outputId": "11275544-33d1-41dc-9bb5-a4d92170fff0"
      },
      "outputs": [],
      "source": [
        "test_df.reset_index(drop=True, inplace=True)\n",
        "test_df"
      ]
    },
    {
      "cell_type": "code",
      "execution_count": null,
      "metadata": {
        "colab": {
          "base_uri": "https://localhost:8080/"
        },
        "id": "_9TnXYGtqo5l",
        "outputId": "cbe3240e-8d9c-4cb8-a88b-a5fee248be34"
      },
      "outputs": [],
      "source": [
        "# Check the length of the dataset\n",
        "print(train_df.shape)\n",
        "print(test_df.shape)"
      ]
    },
    {
      "cell_type": "code",
      "execution_count": null,
      "metadata": {
        "colab": {
          "base_uri": "https://localhost:8080/",
          "height": 386
        },
        "id": "TJp2eQ7pq12A",
        "outputId": "9c46879c-123d-4f7b-d709-caa481aa52a0"
      },
      "outputs": [],
      "source": [
        "train_df.head()"
      ]
    },
    {
      "cell_type": "code",
      "execution_count": null,
      "metadata": {
        "colab": {
          "base_uri": "https://localhost:8080/",
          "height": 386
        },
        "id": "-DdThoXwq54K",
        "outputId": "7b29167a-0a23-47c3-fbb7-40b07fac9e86"
      },
      "outputs": [],
      "source": [
        "test_df.head()"
      ]
    },
    {
      "cell_type": "code",
      "execution_count": null,
      "metadata": {
        "colab": {
          "base_uri": "https://localhost:8080/"
        },
        "id": "DoJTp9bSrDOO",
        "outputId": "9ef8b1d1-8990-4f82-c98a-6560a9a35d7f"
      },
      "outputs": [],
      "source": [
        "print(train_df.columns)"
      ]
    },
    {
      "cell_type": "code",
      "execution_count": null,
      "metadata": {
        "colab": {
          "base_uri": "https://localhost:8080/",
          "height": 394
        },
        "id": "Nmcld-nWrHAG",
        "outputId": "2f392d5f-b937-40c6-d86d-5e2a3e53a5d7"
      },
      "outputs": [],
      "source": [
        "train_df.describe()"
      ]
    },
    {
      "cell_type": "code",
      "execution_count": null,
      "metadata": {
        "colab": {
          "base_uri": "https://localhost:8080/"
        },
        "id": "zZVXPhjorZxD",
        "outputId": "f162d4e9-a574-405b-874e-31b3341bbd07"
      },
      "outputs": [],
      "source": [
        "train_df.isnull().sum()"
      ]
    },
    {
      "cell_type": "code",
      "execution_count": null,
      "metadata": {
        "colab": {
          "base_uri": "https://localhost:8080/"
        },
        "id": "SUR8IWJurfQz",
        "outputId": "639573fa-e42b-4e6a-ad32-316db5bdcbaa"
      },
      "outputs": [],
      "source": [
        "# Let's check for the test set as well\n",
        "test_df.isnull().sum()"
      ]
    },
    {
      "cell_type": "code",
      "execution_count": null,
      "metadata": {
        "id": "ZeKzdGJ2riCF"
      },
      "outputs": [],
      "source": [
        "# Preprocessing\n",
        "procs = [FillMissing, Categorify, Normalize]\n",
        "#procs = [FillMissing, Normalize]"
      ]
    },
    {
      "cell_type": "code",
      "execution_count": null,
      "metadata": {
        "colab": {
          "base_uri": "https://localhost:8080/"
        },
        "id": "xsZW5mhproQj",
        "outputId": "c987302f-bfe4-493f-ec80-29af3f1975a2"
      },
      "outputs": [],
      "source": [
        "# Split our variables into target, categorical and continuous variables\n",
        "dep_var = 'price_value'\n",
        "\n",
        "# cat_names = ['suburb_id_x']\n",
        "# cat_names = ['street_id_x']\n",
        "# cat_names = ['street_id_x', 'suburb_id_x']\n",
        "\n",
        "cat_names = []\n",
        "cont_names = ['propertyFeatures_bedrooms_x', 'propertyFeatures_bathrooms_x', 'propertyFeatures_carparks_x', 'landDetails_propertyArea_x', 'school_dist'\\\n",
        "              , 'hospital_dist', 'uni_dist', 'park_dist', 'mall_dist', 'CBD_dist', 'First_year_transaction', 'highway_dist', 'bus_stop_dist', \\\n",
        "       'ferry_terminal_dist', 'railway_station_dist', 'number_transaction', \\\n",
        "       'crime_rate_2017', 'state_school_percentage', \\\n",
        "       'class_size_achievement_pct_2017', 'Density', 'Score2017']\n",
        "\n",
        "print(cat_names)\n",
        "print(cont_names)"
      ]
    },
    {
      "cell_type": "code",
      "execution_count": null,
      "metadata": {
        "id": "F1rIl15jrxrM"
      },
      "outputs": [],
      "source": [
        "test = TabularList.from_df(df=test_df, cat_names=cat_names, cont_names=cont_names, procs=procs)"
      ]
    },
    {
      "cell_type": "code",
      "execution_count": null,
      "metadata": {
        "id": "FbU0SuRLrzSW"
      },
      "outputs": [],
      "source": [
        "data = (TabularList.from_df(df=train_df, cat_names=cat_names, cont_names=cont_names, procs=procs)\n",
        "                   .split_by_rand_pct()\n",
        "                   .label_from_df(cols=dep_var, label_cls=FloatList, log=True)\n",
        "                   .add_test(test)\n",
        "                   .databunch())"
      ]
    },
    {
      "cell_type": "code",
      "execution_count": null,
      "metadata": {
        "colab": {
          "base_uri": "https://localhost:8080/",
          "height": 383
        },
        "id": "efe1oRAgr5aX",
        "outputId": "62d8f3a3-5b5f-4b52-bfd0-fb84298ace17"
      },
      "outputs": [],
      "source": [
        "data.show_batch(10)"
      ]
    },
    {
      "cell_type": "code",
      "execution_count": null,
      "metadata": {
        "id": "UzDy-5rMsBP8"
      },
      "outputs": [],
      "source": [
        "learn = tabular_learner(data, layers=[], metrics=[rmse,r2_score])"
      ]
    },
    {
      "cell_type": "code",
      "execution_count": null,
      "metadata": {
        "colab": {
          "base_uri": "https://localhost:8080/"
        },
        "id": "5yuUFQCqsftI",
        "outputId": "d8949ab4-9045-4ac9-a0db-fa68ba3f924d"
      },
      "outputs": [],
      "source": [
        "#Show the complete Summary of the model\n",
        "learn.summary"
      ]
    },
    {
      "cell_type": "code",
      "execution_count": null,
      "metadata": {
        "id": "VMdKccGMsvpi"
      },
      "outputs": [],
      "source": [
        "learn.model_dir = '/content/drive/MyDrive/Fastai/'"
      ]
    },
    {
      "cell_type": "code",
      "execution_count": null,
      "metadata": {
        "colab": {
          "base_uri": "https://localhost:8080/",
          "height": 411
        },
        "id": "_QcuNpEvs1cB",
        "outputId": "c1127a7e-14d5-4abe-a16d-34a2df9e756a"
      },
      "outputs": [],
      "source": [
        "learn.lr_find()\n",
        "learn.recorder.plot(suggestion=True)"
      ]
    },
    {
      "cell_type": "code",
      "execution_count": null,
      "metadata": {
        "colab": {
          "background_save": true,
          "base_uri": "https://localhost:8080/",
          "height": 221
        },
        "id": "zRaiO-qVs6ok",
        "outputId": "0c7148c3-96cd-4bc8-aa01-9dc829c6bc05"
      },
      "outputs": [],
      "source": [
        "min_grad_lr = learn.recorder.min_grad_lr\n",
        "learn.fit_one_cycle(10, slice(min_grad_lr))"
      ]
    },
    {
      "cell_type": "code",
      "execution_count": null,
      "metadata": {
        "colab": {
          "background_save": true
        },
        "id": "LLjRtliotJSn",
        "outputId": "78d911f8-863e-4aee-b2a6-830c8f4dff7e"
      },
      "outputs": [],
      "source": [
        "learn.recorder.plot_losses()"
      ]
    },
    {
      "cell_type": "code",
      "execution_count": null,
      "metadata": {
        "colab": {
          "background_save": true
        },
        "id": "0ut392gJtPHm",
        "outputId": "e59dfc99-ab4a-4734-f3ee-d7fa3b73c10e"
      },
      "outputs": [],
      "source": [
        "#Display Predictions On Training Data\n",
        "learn.show_results(ds_type=DatasetType.Train,rows = 5)\n",
        "#Display Predictions On Validation Data\n",
        "learn.show_results(ds_type=DatasetType.Valid)"
      ]
    },
    {
      "cell_type": "code",
      "execution_count": null,
      "metadata": {
        "colab": {
          "background_save": true
        },
        "id": "bWstbmettUpN",
        "outputId": "64f77c4b-50ad-4444-c2cb-2eaa183b856d"
      },
      "outputs": [],
      "source": [
        "#Getting The Training And Validation Errors\n",
        "tr = learn.validate(learn.data.train_dl)\n",
        "va = learn.validate(learn.data.valid_dl)\n",
        "print(\"The Metrics used In Evaluating The Network:\", str(learn.metrics))\n",
        "print(\"\\nThe calculated RMSE & R-Squared For The Training Set :\", tr[1:])\n",
        "print(\"\\nThe calculated RMSE & R-Squared For The Validation Set :\", va[1:])"
      ]
    },
    {
      "cell_type": "code",
      "execution_count": null,
      "metadata": {
        "colab": {
          "background_save": true
        },
        "id": "vXj8sStAtaJ8",
        "outputId": "a68edd5e-4566-4440-eb42-afbe30b3e863"
      },
      "outputs": [],
      "source": [
        "#Plotting Momentum & Learning Rate\n",
        "learn.recorder.plot_lr(show_moms=True)\n",
        "#Plotting the metrics of evaluation\n",
        "learn.recorder.plot_metrics()"
      ]
    },
    {
      "cell_type": "code",
      "execution_count": null,
      "metadata": {
        "colab": {
          "background_save": true
        },
        "id": "ewkeXqyC5OMj",
        "outputId": "3f7841c5-1244-4b47-a7ea-79927617b90a"
      },
      "outputs": [],
      "source": [
        "learn.model.embeds"
      ]
    },
    {
      "cell_type": "code",
      "execution_count": null,
      "metadata": {
        "colab": {
          "background_save": true
        },
        "id": "YiQEHPphAFUb"
      },
      "outputs": [],
      "source": [
        "# variable = 'suburb_id_x'\n",
        "# ix = cat_names.index(variable)\n",
        "\n",
        "# var_vals = list(df[variable].astype('category').cat.categories.values)\n",
        "# nval = len(var_vals)\n",
        "# print(f'Number of values: {nval}')\n",
        "# print(var_vals)"
      ]
    },
    {
      "cell_type": "code",
      "execution_count": null,
      "metadata": {
        "colab": {
          "background_save": true
        },
        "id": "PrrpWcvO9Shc"
      },
      "outputs": [],
      "source": [
        "# import altair as alt\n",
        "# from sklearn.decomposition import PCA\n",
        "# from sklearn.manifold import TSNE\n",
        "\n",
        "# emb_mx = to_np(next(learn.model.embeds[ix].parameters()))\n",
        "# # X_emb = TSNE(n_components=2, perplexity=3).fit_transform(emb_mx)\n",
        "# X_emb = PCA(n_components=2).fit_transform(emb_mx)\n",
        "# # annotation = np.append('Other', np.array(var_vals))\n",
        "# annotation = np.array(var_vals)"
      ]
    },
    {
      "cell_type": "code",
      "execution_count": null,
      "metadata": {
        "colab": {
          "background_save": true
        },
        "id": "-9th8PHHDCsW"
      },
      "outputs": [],
      "source": [
        "# print(annotation)"
      ]
    },
    {
      "cell_type": "code",
      "execution_count": null,
      "metadata": {
        "colab": {
          "background_save": true
        },
        "id": "Cp1A8r4rAcS-"
      },
      "outputs": [],
      "source": [
        "# emb_df = pd.DataFrame(X_emb, columns=['Dim1', 'Dim2'])\n",
        "# emb_df[variable]=annotation"
      ]
    },
    {
      "cell_type": "code",
      "execution_count": null,
      "metadata": {
        "colab": {
          "background_save": true
        },
        "id": "9KVtO5d_DVfy"
      },
      "outputs": [],
      "source": [
        "# points = alt.Chart(emb_df).mark_circle(size=60).encode(\n",
        "#     x='Dim1',\n",
        "#     y='Dim2',\n",
        "#     tooltip=[variable]\n",
        "# )\n",
        "\n",
        "# text = points.mark_text(\n",
        "#     align='left',\n",
        "#     baseline='middle',\n",
        "#     dx=7\n",
        "# ).encode(\n",
        "#     text=variable\n",
        "# )\n",
        "\n",
        "# points + text"
      ]
    },
    {
      "cell_type": "code",
      "execution_count": null,
      "metadata": {
        "colab": {
          "background_save": true
        },
        "id": "WoZExLebtgLr",
        "outputId": "896a3252-2cfd-49e6-ad50-aaf2c66e3ec8"
      },
      "outputs": [],
      "source": [
        "test_predictions = learn.get_preds(ds_type=DatasetType.Test)[0]"
      ]
    },
    {
      "cell_type": "code",
      "execution_count": null,
      "metadata": {
        "colab": {
          "background_save": true
        },
        "id": "Rok1V4tgtnN1",
        "outputId": "a3777beb-50cb-4504-a1af-6152cc3cfd2b"
      },
      "outputs": [],
      "source": [
        "import numpy as np\n",
        "\n",
        "#Converting the tensor output to a list of predicted values\n",
        "test_predictions = [np.exp(p[0].data.item()) for p in test_predictions]\n",
        "\n",
        "# Create \"submission.csv\" file\n",
        "submission = pd.DataFrame({'Id': test_df['id_combined'], 'price_value': test_df['price_value'], 'Predicted': test_predictions})\n",
        "submission.to_csv('submission.csv', index=False)\n",
        "submission.head()"
      ]
    },
    {
      "cell_type": "code",
      "execution_count": null,
      "metadata": {
        "colab": {
          "background_save": true
        },
        "id": "ZRH3yv62tsKt"
      },
      "outputs": [],
      "source": [
        "import pandas\n",
        "import matplotlib.pyplot as plt\n",
        "import statsmodels.api\n",
        "import statsmodels.formula.api as sm\n",
        "import scipy.stats as stats"
      ]
    },
    {
      "cell_type": "code",
      "execution_count": null,
      "metadata": {
        "colab": {
          "background_save": true
        },
        "id": "eac3EB5qtxJ8",
        "outputId": "d0b60f92-2200-46e4-b243-a12359f7d914"
      },
      "outputs": [],
      "source": [
        "fig = plt.figure(figsize=[10, 10])\n",
        "ax = fig.add_subplot(2, 2, 1)\n",
        "ax.scatter(submission['price_value'], submission['Predicted'])\n",
        "ax.set_xlabel('value')\n",
        "ax.set_ylabel('predicted')\n",
        "ax.set_title(str(submission['Predicted'].corr(submission['price_value'])))"
      ]
    },
    {
      "cell_type": "code",
      "execution_count": null,
      "metadata": {
        "colab": {
          "background_save": true
        },
        "id": "YdkbJqe8t4-g",
        "outputId": "47470bd0-b89e-4ba8-f082-e68dc3ea00ab"
      },
      "outputs": [],
      "source": [
        "import numpy as np\n",
        "Y_true = submission['price_value']\n",
        "pred = submission['Predicted']\n",
        "\n",
        "\n",
        "#RMSLE\n",
        "error = np.square(np.log(pred + 1) - np.log(Y_true +1)).mean() ** 0.5\n",
        "print(error)\n",
        "\n",
        "score = 1 - error\n",
        "print(\"SCORE For test : \",score)\n"
      ]
    },
    {
      "cell_type": "code",
      "execution_count": null,
      "metadata": {
        "colab": {
          "background_save": true
        },
        "id": "Ozs6ilNy6TsW",
        "outputId": "21b82963-af7d-46ab-e670-283a30bc90c5"
      },
      "outputs": [],
      "source": [
        "dfCopy = test_df.copy()\n",
        "dfCopy"
      ]
    },
    {
      "cell_type": "code",
      "execution_count": null,
      "metadata": {
        "colab": {
          "background_save": true
        },
        "id": "bwN-xGD06Vxd",
        "outputId": "e85a287a-dbae-44f7-ebc3-6338f02141cd"
      },
      "outputs": [],
      "source": [
        "dfCopy['Predicted'] = test_predictions\n",
        "dfCopy"
      ]
    },
    {
      "cell_type": "code",
      "execution_count": null,
      "metadata": {
        "colab": {
          "background_save": true
        },
        "id": "VJJO6kQp64jq"
      },
      "outputs": [],
      "source": [
        "# dfCopy.to_csv('/content/drive/MyDrive/QUTREProject/2018_Hedonic_Pricing_Test_results_new2.csv')\n",
        "# dfCopy.to_pickle('/content/drive/MyDrive/QUTREProject/2018_Hedonic_Pricing_Test_results_new2.pkl')"
      ]
    }
  ],
  "metadata": {
    "colab": {
      "provenance": []
    },
    "kernelspec": {
      "display_name": "Python 3",
      "name": "python3"
    },
    "language_info": {
      "name": "python"
    }
  },
  "nbformat": 4,
  "nbformat_minor": 0
}
