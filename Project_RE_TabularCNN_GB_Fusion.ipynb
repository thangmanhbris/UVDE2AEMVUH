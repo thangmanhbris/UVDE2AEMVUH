{
  "cells": [
    {
      "cell_type": "code",
      "execution_count": null,
      "metadata": {
        "id": "aXG4UBDrFeXe"
      },
      "outputs": [],
      "source": [
        "!mkdir /content/Bing_data"
      ]
    },
    {
      "cell_type": "code",
      "execution_count": null,
      "metadata": {
        "colab": {
          "base_uri": "https://localhost:8080/"
        },
        "id": "06suxRY4GKNK",
        "outputId": "dbe9ed4e-b476-4577-ba56-1b0719afd8ab"
      },
      "outputs": [],
      "source": [
        "#/content/drive/MyDrive/Sync/BingImage-ACACIA_RIDGE_QLD7.zip\n",
        "\n",
        "import zipfile\n",
        "\n",
        "zip_file = \"/content/drive/MyDrive/Bing_data/Bing_data01.zip\"\n",
        "\n",
        "try:\n",
        "    with zipfile.ZipFile(zip_file) as z:\n",
        "        z.extractall(\"/content/Bing_data/\")\n",
        "        print(\"Extracted all\")\n",
        "except:\n",
        "    print(\"Invalid file\")"
      ]
    },
    {
      "cell_type": "code",
      "execution_count": null,
      "metadata": {
        "id": "yfNPN3cxWkOW"
      },
      "outputs": [],
      "source": [
        "!mkdir /content/Google_data"
      ]
    },
    {
      "cell_type": "code",
      "execution_count": null,
      "metadata": {
        "colab": {
          "base_uri": "https://localhost:8080/"
        },
        "id": "zAb0IYtTWpq4",
        "outputId": "c5b1ed3a-40b8-4959-9351-be9858455559"
      },
      "outputs": [],
      "source": [
        "#/content/drive/MyDrive/Sync/BingImage-ACACIA_RIDGE_QLD7.zip\n",
        "\n",
        "import zipfile\n",
        "\n",
        "zip_file = \"/content/drive/MyDrive/Google_data/Google_data06.zip\"\n",
        "\n",
        "try:\n",
        "    with zipfile.ZipFile(zip_file) as z:\n",
        "        z.extractall(\"/content/Google_data/\")\n",
        "        print(\"Extracted all\")\n",
        "except:\n",
        "    print(\"Invalid file\")"
      ]
    },
    {
      "cell_type": "code",
      "execution_count": null,
      "metadata": {
        "colab": {
          "base_uri": "https://localhost:8080/"
        },
        "id": "svcyfdNiHmjm",
        "outputId": "77f027c8-ecf9-403e-be80-6e91ddac4261"
      },
      "outputs": [],
      "source": [
        "cd /content/drive/MyDrive/image_tabular-master"
      ]
    },
    {
      "cell_type": "code",
      "execution_count": null,
      "metadata": {
        "colab": {
          "base_uri": "https://localhost:8080/",
          "height": 35
        },
        "id": "4gWt6K57H3U3",
        "outputId": "a897ff2a-a168-46f1-cb94-0668adc6f37c"
      },
      "outputs": [
        {
          "data": {
            "application/vnd.google.colaboratory.intrinsic+json": {
              "type": "string"
            },
            "text/plain": [
              "'1.0.61'"
            ]
          },
          "execution_count": 16,
          "metadata": {},
          "output_type": "execute_result"
        }
      ],
      "source": [
        "import fastai; fastai.__version__"
      ]
    },
    {
      "cell_type": "code",
      "execution_count": null,
      "metadata": {
        "id": "GHB9xSliH95P"
      },
      "outputs": [],
      "source": [
        "%reload_ext autoreload\n",
        "%autoreload 2\n",
        "%matplotlib inline"
      ]
    },
    {
      "cell_type": "code",
      "execution_count": null,
      "metadata": {
        "id": "PIV6qHuFIDu5"
      },
      "outputs": [],
      "source": [
        "from fastai.vision import *\n",
        "from fastai.tabular import *\n",
        "from image_tabular.core import *\n",
        "from image_tabular.dataset import *\n",
        "from image_tabular.model import *\n",
        "from image_tabular.metric import *"
      ]
    },
    {
      "cell_type": "code",
      "execution_count": null,
      "metadata": {
        "id": "Hw73mYBHIJ6Z"
      },
      "outputs": [],
      "source": [
        "bs = 32\n",
        "imsize = 256\n",
        "\n",
        "np.random.seed(2)"
      ]
    },
    {
      "cell_type": "code",
      "execution_count": null,
      "metadata": {
        "id": "YKaOfVeDIQuS"
      },
      "outputs": [],
      "source": [
        "import warnings\n",
        "warnings.filterwarnings(\"ignore\", category=UserWarning, module=\"torch.nn.functional\")"
      ]
    },
    {
      "cell_type": "code",
      "execution_count": null,
      "metadata": {
        "id": "OG5LSktzIaTW"
      },
      "outputs": [],
      "source": [
        "data_path = Path(\"/content/drive/MyDrive/QUTREProject/\")"
      ]
    },
    {
      "cell_type": "code",
      "execution_count": null,
      "metadata": {
        "id": "8MHQ16XYIl2O"
      },
      "outputs": [],
      "source": [
        "house_price_df = pd.read_csv('/content/drive/MyDrive/QUTREProject/Brisbane_suburbs_02_sales_2019_property_GB_Prop_dist06.csv', index_col=0)\n",
        "house_price_df"
      ]
    },
    {
      "cell_type": "code",
      "execution_count": null,
      "metadata": {
        "id": "sJyImhk-JIIw"
      },
      "outputs": [],
      "source": [
        "train_df=house_price_df.sample(frac=0.8,random_state=200) #random state is a seed value\n",
        "test_df=house_price_df.drop(train_df.index)\n",
        "train_df.reset_index()\n",
        "test_df.reset_index()"
      ]
    },
    {
      "cell_type": "code",
      "execution_count": null,
      "metadata": {
        "id": "ipq95ibEJ04q"
      },
      "outputs": [],
      "source": [
        "train_df.reset_index(drop=True, inplace=True)\n",
        "train_df"
      ]
    },
    {
      "cell_type": "code",
      "execution_count": null,
      "metadata": {
        "id": "G32ePS7dJ6PX"
      },
      "outputs": [],
      "source": [
        "test_df.reset_index(drop=True, inplace=True)\n",
        "test_df"
      ]
    },
    {
      "cell_type": "code",
      "execution_count": null,
      "metadata": {
        "id": "y7QQmtqGJ_JP"
      },
      "outputs": [],
      "source": [
        "# Check the length of the dataset\n",
        "print(train_df.shape)\n",
        "print(test_df.shape)"
      ]
    },
    {
      "cell_type": "code",
      "execution_count": null,
      "metadata": {
        "id": "fgtbJ5L6KKpi"
      },
      "outputs": [],
      "source": [
        "train_df.head()"
      ]
    },
    {
      "cell_type": "code",
      "execution_count": null,
      "metadata": {
        "id": "n-BwKDBhKTNg"
      },
      "outputs": [],
      "source": [
        "print(train_df.columns)"
      ]
    },
    {
      "cell_type": "code",
      "execution_count": null,
      "metadata": {
        "id": "tJHmiiRGKgU1"
      },
      "outputs": [],
      "source": [
        "train_df.describe()"
      ]
    },
    {
      "cell_type": "code",
      "execution_count": null,
      "metadata": {
        "id": "_covaofWKmHF"
      },
      "outputs": [],
      "source": [
        "# Split our variables into target, categorical and continuous variables\n",
        "dep_var = 'price_value'\n",
        "\n",
        "cat_names = ['suburb_id_x']\n",
        "cont_names = ['propertyFeatures_bedrooms_x', 'propertyFeatures_bathrooms_x', 'propertyFeatures_carparks_x', 'landDetails_propertyArea_x', 'school_dist'\\\n",
        "              , 'hospital_dist', 'uni_dist', 'park_dist', 'mall_dist', 'CBD_dist', 'First_year_transaction']\n",
        "\n",
        "print(cat_names)\n",
        "print(cont_names)"
      ]
    },
    {
      "cell_type": "code",
      "execution_count": null,
      "metadata": {
        "id": "sg1E4sIDKyzp"
      },
      "outputs": [],
      "source": [
        "tfms = get_transforms(do_flip=False, max_rotate=5, max_zoom=1.05)\n",
        "\n",
        "procs = [Normalize]\n",
        "\n",
        "size = 256"
      ]
    },
    {
      "cell_type": "code",
      "execution_count": null,
      "metadata": {
        "id": "HPOc__sJK6Ob"
      },
      "outputs": [],
      "source": [
        "# idx for validation, shared by image and tabular data\n",
        "val_idx = get_valid_index(train_df)\n",
        "len(val_idx)"
      ]
    },
    {
      "cell_type": "code",
      "execution_count": null,
      "metadata": {
        "id": "iUpKcUqkLD0i"
      },
      "outputs": [],
      "source": [
        "# load image data using train_df and prepare fastai LabelLists\n",
        "image_path = Path(\"/content/Bing_data/\")\n",
        "\n",
        "image_data = (ImageList.from_df(train_df, path=image_path, cols=\"image_Bing\")\n",
        "              .split_by_idx(val_idx)\n",
        "              .label_from_df(cols=\"price_value\", label_cls=FloatList, log=True)\n",
        "              .transform(tfms, size=size))\n",
        "\n",
        "# add test data so that we can make predictions\n",
        "test_image_data = ImageList.from_df(test_df, path=image_path, cols=\"image_Bing\")\n",
        "image_data.add_test(test_image_data)"
      ]
    },
    {
      "cell_type": "code",
      "execution_count": null,
      "metadata": {
        "id": "j3n6D_yTLrbp"
      },
      "outputs": [],
      "source": [
        "# show one example image\n",
        "print(image_data.train[0][1])\n",
        "image_data.train[0][0]"
      ]
    },
    {
      "cell_type": "code",
      "execution_count": null,
      "metadata": {
        "id": "f-MvTjTmLzU3"
      },
      "outputs": [],
      "source": [
        "dep_var = 'price_value'\n",
        "cat_names = ['suburb_id_x']\n",
        "cont_names = ['propertyFeatures_bedrooms_x', 'propertyFeatures_bathrooms_x', 'propertyFeatures_carparks_x', 'landDetails_propertyArea_x', 'school_dist'\\\n",
        "              , 'hospital_dist', 'uni_dist', 'park_dist', 'mall_dist', 'CBD_dist', 'First_year_transaction']\n",
        "procs = [FillMissing, Categorify, Normalize]"
      ]
    },
    {
      "cell_type": "code",
      "execution_count": null,
      "metadata": {
        "id": "jGZE9GbRMFvN"
      },
      "outputs": [],
      "source": [
        "tab_data = (TabularList.from_df(train_df, path=data_path, cat_names=cat_names, cont_names=cont_names, procs=procs)\n",
        "                           .split_by_idx(val_idx)\n",
        "                           .label_from_df(cols=dep_var, label_cls=FloatList, log=True))\n",
        "\n",
        "# add test\n",
        "tab_data.add_test(TabularList.from_df(test_df, cat_names=cat_names, cont_names=cont_names,\n",
        "                                      processor = tab_data.train.x.processor))"
      ]
    },
    {
      "cell_type": "code",
      "execution_count": null,
      "metadata": {
        "id": "5S2j8I8YMa7n"
      },
      "outputs": [],
      "source": [
        "tab_data.train[0]"
      ]
    },
    {
      "cell_type": "code",
      "execution_count": null,
      "metadata": {
        "id": "Z9WycIEFMfoH"
      },
      "outputs": [],
      "source": [
        "integrate_train, integrate_valid, integrate_test = get_imagetabdatasets(image_data, tab_data)"
      ]
    },
    {
      "cell_type": "code",
      "execution_count": null,
      "metadata": {
        "id": "Lzl4VuidMxEQ"
      },
      "outputs": [],
      "source": [
        "# package train, valid, and test datasets into a fastai databunch\n",
        "bs = 64\n",
        "\n",
        "db = DataBunch.create(integrate_train, integrate_valid, integrate_test, path=data_path, bs=bs)\n",
        "db"
      ]
    },
    {
      "cell_type": "code",
      "execution_count": null,
      "metadata": {
        "id": "zhozFHmZM9pb"
      },
      "outputs": [],
      "source": [
        "# image normalization with imagenet_stats\n",
        "#db.norm, db.denorm = normalize_funcs_image_tab(*imagenet_stats)\n",
        "#db.add_tfm(db.norm)"
      ]
    },
    {
      "cell_type": "code",
      "execution_count": null,
      "metadata": {
        "id": "AL28lsfONEE_"
      },
      "outputs": [],
      "source": [
        "# check the shape of one batch\n",
        "x, y = next(iter(db.train_dl))\n",
        "len(x)"
      ]
    },
    {
      "cell_type": "code",
      "execution_count": null,
      "metadata": {
        "id": "HHksz6CjNNLz"
      },
      "outputs": [],
      "source": [
        "# images\n",
        "x[0].shape"
      ]
    },
    {
      "cell_type": "code",
      "execution_count": null,
      "metadata": {
        "id": "avPOH5foNTT1"
      },
      "outputs": [],
      "source": [
        "# categorical and continuous tabular data\n",
        "x[1][0].shape, x[1][1].shape"
      ]
    },
    {
      "cell_type": "code",
      "execution_count": null,
      "metadata": {
        "id": "o2cH2qftNX1C"
      },
      "outputs": [],
      "source": [
        "# targets\n",
        "y.shape"
      ]
    },
    {
      "cell_type": "code",
      "execution_count": null,
      "metadata": {
        "id": "SgDR-6hzNdvj"
      },
      "outputs": [],
      "source": [
        "# cnn model for images, use Resnet50 as an example\n",
        "#cnn_arch = models.resnet50\n",
        "cnn_arch = models.resnet34\n",
        "\n",
        "# cnn_out_sz is the output size of the cnn model that will be concatenated with tabular model output\n",
        "cnn_out_sz = 256\n",
        "\n",
        "# use fastai functions to get a cnn model\n",
        "image_data_db = image_data.databunch()\n",
        "image_data_db.c = cnn_out_sz\n",
        "cnn_learn = cnn_learner(image_data_db, cnn_arch, ps=0.2)\n",
        "cnn_model = cnn_learn.model"
      ]
    },
    {
      "cell_type": "code",
      "execution_count": null,
      "metadata": {
        "id": "4Zq5Oj8ONklZ"
      },
      "outputs": [],
      "source": [
        "# get embedding sizes of categorical data\n",
        "emb_szs = tab_data.train.get_emb_szs()\n",
        "\n",
        "# output size of the tabular model that will be concatenated with cnn model output\n",
        "tab_out_sz = 8\n",
        "\n",
        "# use fastai functions to get a tabular model\n",
        "tabular_model = TabularModel(emb_szs, len(cont_names), out_sz=tab_out_sz, layers=[50,50,50], ps=0.2)\n",
        "tabular_model"
      ]
    },
    {
      "cell_type": "code",
      "execution_count": null,
      "metadata": {
        "id": "mZ9Nt9JxNqm-"
      },
      "outputs": [],
      "source": [
        "# use gpu by default if available\n",
        "device = torch.device('cuda:0' if torch.cuda.is_available() else 'cpu')\n",
        "#device = torch.device('cpu')"
      ]
    },
    {
      "cell_type": "code",
      "execution_count": null,
      "metadata": {
        "id": "FkNhoaBrNyba"
      },
      "outputs": [],
      "source": [
        "torch.cuda.is_available()"
      ]
    },
    {
      "cell_type": "code",
      "execution_count": null,
      "metadata": {
        "id": "lYION-e7N6HZ"
      },
      "outputs": [],
      "source": [
        "# get an integrated model that combines the two components and concatenate their outputs\n",
        "# which will pass through additional fully connected layers\n",
        "integrate_model = CNNTabularModel(cnn_model,\n",
        "                                  tabular_model,\n",
        "                                  layers = [cnn_out_sz + tab_out_sz, 32],\n",
        "                                  ps=0.2,\n",
        "                                  out_sz=1).to(device)"
      ]
    },
    {
      "cell_type": "code",
      "execution_count": null,
      "metadata": {
        "id": "2A4FI7WnN86g"
      },
      "outputs": [],
      "source": [
        "# check model output dimension, should be (bs, 2)\n",
        "integrate_model(*x).shape"
      ]
    },
    {
      "cell_type": "code",
      "execution_count": null,
      "metadata": {
        "id": "MYewLum8OCRI"
      },
      "outputs": [],
      "source": [
        "# adjust loss function weight because the dataset is extremely unbalanced\n",
        "weights = [1/(1-train_df[\"price_value\"].mean()), 1/train_df[\"price_value\"].mean()]\n",
        "#loss_func = CrossEntropyFlat(weight=torch.FloatTensor(weights).to(device))\n",
        "#loss_func = CrossEntropyFlat(weight=torch.FloatTensor(weights).to(device))\n",
        "class L1LossFlat(nn.SmoothL1Loss):\n",
        "    def forward(self, input:Tensor, target:Tensor) -> Rank0Tensor:\n",
        "        return super().forward(input.view(-1), target.view(-1))"
      ]
    },
    {
      "cell_type": "code",
      "execution_count": null,
      "metadata": {
        "id": "E9G4gkEUOHkY"
      },
      "outputs": [],
      "source": [
        "# package everything in a fastai learner, add auc roc score as a metric\n",
        "#learn = Learner(db, integrate_model, metrics=[accuracy, ROCAUC()], loss_func=loss_func)\n",
        "learn = Learner(db, integrate_model, metrics=root_mean_squared_error)\n",
        "learn.loss_func = MSELossFlat()"
      ]
    },
    {
      "cell_type": "code",
      "execution_count": null,
      "metadata": {
        "id": "fvqyUvvuOPeZ"
      },
      "outputs": [],
      "source": [
        "# organize layer groups in order to use differential learning rates provided by fastai\n",
        "# the first two layer groups are earlier layers of resnet\n",
        "# the last layer group consists of the fully connected layers of cnn model, tabular model,\n",
        "# and final fully connected layers for the concatenated data\n",
        "learn.layer_groups = [nn.Sequential(*flatten_model(cnn_learn.layer_groups[0])),\n",
        "                      nn.Sequential(*flatten_model(cnn_learn.layer_groups[1])),\n",
        "                      nn.Sequential(*(flatten_model(cnn_learn.layer_groups[2]) +\n",
        "                                      flatten_model(integrate_model.tabular_model) +\n",
        "                                      flatten_model(integrate_model.layers)))]"
      ]
    },
    {
      "cell_type": "code",
      "execution_count": null,
      "metadata": {
        "id": "WYGAjR9ZOXZv"
      },
      "outputs": [],
      "source": [
        "# find learning rate to train the last layer group first\n",
        "learn.freeze()\n",
        "learn.lr_find()\n",
        "learn.recorder.plot(suggestion=True)"
      ]
    },
    {
      "cell_type": "code",
      "execution_count": null,
      "metadata": {
        "id": "pK9sCHcqP-Sa"
      },
      "outputs": [],
      "source": [
        "# train\n",
        "min_grad_lr = learn.recorder.min_grad_lr\n",
        "learn.fit_one_cycle(10, min_grad_lr)"
      ]
    },
    {
      "cell_type": "code",
      "execution_count": null,
      "metadata": {
        "id": "QImRAs8mPa6f"
      },
      "outputs": [],
      "source": [
        "learn.recorder.plot_losses()"
      ]
    },
    {
      "cell_type": "code",
      "execution_count": null,
      "metadata": {
        "id": "G-xr8TIXPior"
      },
      "outputs": [],
      "source": [
        "learn.save('TabularCNN_resnet34_freeze_b')\n",
        "learn.load('TabularCNN_resnet34_freeze_b')"
      ]
    },
    {
      "cell_type": "code",
      "execution_count": null,
      "metadata": {
        "id": "Lfhqy28oPvpI"
      },
      "outputs": [],
      "source": [
        "# make predictions for the test set\n",
        "preds, y = learn.get_preds(DatasetType.Test)"
      ]
    },
    {
      "cell_type": "code",
      "execution_count": null,
      "metadata": {
        "id": "GVtR-oJlP1Jr"
      },
      "outputs": [],
      "source": [
        "print(preds)"
      ]
    },
    {
      "cell_type": "code",
      "execution_count": null,
      "metadata": {
        "id": "8zBNDEYmQH6V"
      },
      "outputs": [],
      "source": [
        "print(y)"
      ]
    },
    {
      "cell_type": "code",
      "execution_count": null,
      "metadata": {
        "id": "rV1lC2LyQL-_"
      },
      "outputs": [],
      "source": [
        "# submit predictions to kaggle\n",
        "labels = [np.exp(p[0].data.item()) for p in preds]\n",
        "submission = pd.DataFrame({'Id': test_df['id_combined'], 'Price': test_df['price_value']})\n",
        "submission[\"Predicted\"] = labels\n",
        "submission.to_csv(data_path/'image_tab_Bing.csv', index=False)\n",
        "submission.head()"
      ]
    },
    {
      "cell_type": "code",
      "execution_count": null,
      "metadata": {
        "id": "4Kh3H0vmQTob"
      },
      "outputs": [],
      "source": [
        "import pandas\n",
        "import matplotlib.pyplot as plt\n",
        "import statsmodels.api\n",
        "import statsmodels.formula.api as sm\n",
        "import scipy.stats as stats"
      ]
    },
    {
      "cell_type": "code",
      "execution_count": null,
      "metadata": {
        "id": "oLfaHZjsQgSK"
      },
      "outputs": [],
      "source": [
        "fig = plt.figure(figsize=[10, 10])\n",
        "ax = fig.add_subplot(2, 2, 1)\n",
        "ax.scatter(submission['Price'], submission['Predicted'])\n",
        "ax.set_xlabel('value')\n",
        "ax.set_ylabel('predicted')\n",
        "ax.set_title(str(submission['Price'].corr(submission['Predicted'])))"
      ]
    },
    {
      "cell_type": "code",
      "execution_count": null,
      "metadata": {
        "id": "TJM-cjSyQmDH"
      },
      "outputs": [],
      "source": [
        "import numpy as np\n",
        "Y_true = submission['Price']\n",
        "pred = submission['Predicted']\n",
        "\n",
        "\n",
        "#RMSLE\n",
        "error = np.square(np.log10(pred + 1) - np.log10(Y_true +1)).mean() ** 0.5\n",
        "\n",
        "score = 1 - error\n",
        "print(\"SCORE For test : \",score)\n"
      ]
    },
    {
      "cell_type": "code",
      "execution_count": null,
      "metadata": {
        "id": "ZavwX-3JYhZ5"
      },
      "outputs": [],
      "source": [
        "# unfreeze all layer groups to train the entire model using differential learning rates\n",
        "learn.unfreeze()\n",
        "learn.fit_one_cycle(5, slice(min_grad_lr, 1e-5))"
      ]
    },
    {
      "cell_type": "code",
      "execution_count": null,
      "metadata": {
        "id": "Pra9XUBIdYXp"
      },
      "outputs": [],
      "source": [
        "learn.recorder.plot_losses()"
      ]
    },
    {
      "cell_type": "code",
      "execution_count": null,
      "metadata": {
        "id": "G5gKUCjHdzJx"
      },
      "outputs": [],
      "source": [
        "learn.save('TabularCNN_resnet34_b')\n",
        "learn.load('TabularCNN_resnet34_b')"
      ]
    },
    {
      "cell_type": "code",
      "execution_count": null,
      "metadata": {
        "id": "MW11OnU9e9Rl"
      },
      "outputs": [],
      "source": [
        "# make predictions for the test set\n",
        "preds, y = learn.get_preds(DatasetType.Test)"
      ]
    },
    {
      "cell_type": "code",
      "execution_count": null,
      "metadata": {
        "id": "qkbwefyCiA-w"
      },
      "outputs": [],
      "source": [
        "print(preds)"
      ]
    },
    {
      "cell_type": "code",
      "execution_count": null,
      "metadata": {
        "id": "1WhA86lsiFQJ"
      },
      "outputs": [],
      "source": [
        "print(y)"
      ]
    },
    {
      "cell_type": "code",
      "execution_count": null,
      "metadata": {
        "id": "vLzTLO11fWT_"
      },
      "outputs": [],
      "source": [
        "# submit predictions to kaggle\n",
        "labels = [np.exp(p[0].data.item()) for p in preds]\n",
        "submission = pd.DataFrame({'Id': test_df['id_combined'], 'Price': test_df['price_value']})\n",
        "submission[\"Predicted\"] = labels\n",
        "submission.to_csv(data_path/'image_tab.csv', index=False)\n",
        "submission.head()"
      ]
    },
    {
      "cell_type": "code",
      "execution_count": null,
      "metadata": {
        "id": "pOYLy9m-WMJv"
      },
      "outputs": [],
      "source": [
        "fig = plt.figure(figsize=[10, 10])\n",
        "ax = fig.add_subplot(2, 2, 1)\n",
        "ax.scatter(submission['Price'], submission['Predicted'])\n",
        "ax.set_xlabel('value')\n",
        "ax.set_ylabel('predicted')\n",
        "ax.set_title(str(submission['Price'].corr(submission['Predicted'])))"
      ]
    },
    {
      "cell_type": "code",
      "execution_count": null,
      "metadata": {
        "id": "0e9lH4VJWSNw"
      },
      "outputs": [],
      "source": [
        "import numpy as np\n",
        "Y_true = submission['Price']\n",
        "pred = submission['Predicted']\n",
        "\n",
        "\n",
        "#RMSLE\n",
        "error = np.square(np.log10(pred + 1) - np.log10(Y_true +1)).mean() ** 0.5\n",
        "\n",
        "score = 1 - error\n",
        "print(\"SCORE For test : \",score)\n"
      ]
    }
  ],
  "metadata": {
    "accelerator": "GPU",
    "colab": {
      "provenance": []
    },
    "kernelspec": {
      "display_name": "Python 3",
      "name": "python3"
    },
    "language_info": {
      "name": "python"
    }
  },
  "nbformat": 4,
  "nbformat_minor": 0
}
