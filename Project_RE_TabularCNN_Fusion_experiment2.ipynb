{
  "cells": [
    {
      "cell_type": "code",
      "execution_count": null,
      "metadata": {
        "id": "aXG4UBDrFeXe"
      },
      "outputs": [],
      "source": [
        "!mkdir /content/Bing_data"
      ]
    },
    {
      "cell_type": "code",
      "execution_count": null,
      "metadata": {
        "colab": {
          "base_uri": "https://localhost:8080/"
        },
        "id": "06suxRY4GKNK",
        "outputId": "dbc4a5d5-eea2-465b-ad45-b608c23dc23c"
      },
      "outputs": [],
      "source": [
        "#/content/drive/MyDrive/Sync/BingImage-ACACIA_RIDGE_QLD7.zip\n",
        "\n",
        "import zipfile\n",
        "\n",
        "zip_file = \"/content/drive/MyDrive/Bing_data/Bing_data06.zip\"\n",
        "\n",
        "try:\n",
        "    with zipfile.ZipFile(zip_file) as z:\n",
        "        z.extractall(\"/content/Bing_data/\")\n",
        "        print(\"Extracted all\")\n",
        "except:\n",
        "    print(\"Invalid file\")"
      ]
    },
    {
      "cell_type": "code",
      "execution_count": null,
      "metadata": {
        "id": "YINl_ZjaPXLe"
      },
      "outputs": [],
      "source": [
        "!mkdir /content/Google_data"
      ]
    },
    {
      "cell_type": "code",
      "execution_count": null,
      "metadata": {
        "colab": {
          "base_uri": "https://localhost:8080/"
        },
        "id": "wdSWDmbgPdnq",
        "outputId": "91bfbd77-f4df-4b65-c5e7-f4f3c275fdb0"
      },
      "outputs": [],
      "source": [
        "#/content/drive/MyDrive/Sync/BingImage-ACACIA_RIDGE_QLD7.zip\n",
        "\n",
        "import zipfile\n",
        "\n",
        "zip_file = \"/content/drive/MyDrive/Google_data/Google_data06.zip\"\n",
        "\n",
        "try:\n",
        "    with zipfile.ZipFile(zip_file) as z:\n",
        "        z.extractall(\"/content/Google_data/\")\n",
        "        print(\"Extracted all\")\n",
        "except:\n",
        "    print(\"Invalid file\")"
      ]
    },
    {
      "cell_type": "code",
      "execution_count": null,
      "metadata": {
        "colab": {
          "base_uri": "https://localhost:8080/"
        },
        "id": "svcyfdNiHmjm",
        "outputId": "e3b834c3-fd93-43a9-b713-451ad0eb2388"
      },
      "outputs": [],
      "source": [
        "cd /content/drive/MyDrive/image_tabular-master"
      ]
    },
    {
      "cell_type": "code",
      "execution_count": null,
      "metadata": {
        "colab": {
          "base_uri": "https://localhost:8080/",
          "height": 35
        },
        "id": "4gWt6K57H3U3",
        "outputId": "18c08b88-6336-46ae-ed94-bdd07c634999"
      },
      "outputs": [
        {
          "data": {
            "application/vnd.google.colaboratory.intrinsic+json": {
              "type": "string"
            },
            "text/plain": [
              "'1.0.61'"
            ]
          },
          "execution_count": 16,
          "metadata": {},
          "output_type": "execute_result"
        }
      ],
      "source": [
        "import fastai; fastai.__version__"
      ]
    },
    {
      "cell_type": "code",
      "execution_count": null,
      "metadata": {
        "id": "GHB9xSliH95P"
      },
      "outputs": [],
      "source": [
        "%reload_ext autoreload\n",
        "%autoreload 2\n",
        "%matplotlib inline"
      ]
    },
    {
      "cell_type": "code",
      "execution_count": null,
      "metadata": {
        "id": "PIV6qHuFIDu5"
      },
      "outputs": [],
      "source": [
        "from fastai.vision import *\n",
        "from fastai.tabular import *\n",
        "from image_tabular.core import *\n",
        "from image_tabular.dataset import *\n",
        "from image_tabular.model import *\n",
        "from image_tabular.metric import *"
      ]
    },
    {
      "cell_type": "code",
      "execution_count": null,
      "metadata": {
        "id": "Hw73mYBHIJ6Z"
      },
      "outputs": [],
      "source": [
        "bs = 32\n",
        "imsize = 256\n",
        "\n",
        "np.random.seed(2)"
      ]
    },
    {
      "cell_type": "code",
      "execution_count": null,
      "metadata": {
        "id": "YKaOfVeDIQuS"
      },
      "outputs": [],
      "source": [
        "import warnings\n",
        "warnings.filterwarnings(\"ignore\", category=UserWarning, module=\"torch.nn.functional\")"
      ]
    },
    {
      "cell_type": "code",
      "execution_count": null,
      "metadata": {
        "id": "OG5LSktzIaTW"
      },
      "outputs": [],
      "source": [
        "data_path = Path(\"/content/drive/MyDrive/QUTREProject/\")"
      ]
    },
    {
      "cell_type": "code",
      "execution_count": null,
      "metadata": {
        "colab": {
          "base_uri": "https://localhost:8080/",
          "height": 834
        },
        "id": "8MHQ16XYIl2O",
        "outputId": "ca3c359b-ba20-4cf1-9863-79fda1a8023f"
      },
      "outputs": [],
      "source": [
        "house_price_df = pd.read_csv('/content/drive/MyDrive/QUTREProject/Brisbane_suburbs_02_sales_2018_property_GB_Prop_dist06.csv', index_col=0)\n",
        "house_price_df"
      ]
    },
    {
      "cell_type": "code",
      "execution_count": null,
      "metadata": {
        "colab": {
          "base_uri": "https://localhost:8080/",
          "height": 834
        },
        "id": "7xFZ4aalA636",
        "outputId": "61c5e9b2-930a-404b-97ba-928ebee0b224"
      },
      "outputs": [],
      "source": [
        "test_df = house_price_df.loc[(house_price_df['suburb_id_x']=='QLD1346') | (house_price_df['suburb_id_x']=='QLD627') | (house_price_df['suburb_id_x']=='QLD24') | \\\n",
        "                         (house_price_df['suburb_id_x']=='QLD3231') | (house_price_df['suburb_id_x']=='QLD32') | (house_price_df['suburb_id_x']=='QLD510') | \\\n",
        "                         (house_price_df['suburb_id_x']=='QLD545') | (house_price_df['suburb_id_x']=='QLD718') | (house_price_df['suburb_id_x']=='QLD389') ]\n",
        "test_df"
      ]
    },
    {
      "cell_type": "code",
      "execution_count": null,
      "metadata": {
        "colab": {
          "base_uri": "https://localhost:8080/",
          "height": 834
        },
        "id": "sJyImhk-JIIw",
        "outputId": "a018c7d2-2649-455c-fd04-64b6a8e357bf"
      },
      "outputs": [],
      "source": [
        "# train_df=house_price_df.sample(frac=0.8,random_state=200) #random state is a seed value\n",
        "# test_df=house_price_df.drop(train_df.index)\n",
        "train_df=house_price_df.drop(test_df.index)\n",
        "train_df.reset_index()\n",
        "test_df.reset_index()"
      ]
    },
    {
      "cell_type": "code",
      "execution_count": null,
      "metadata": {
        "colab": {
          "base_uri": "https://localhost:8080/",
          "height": 834
        },
        "id": "ipq95ibEJ04q",
        "outputId": "14d3c0a1-abfd-473f-a868-5f3602b3d4a8"
      },
      "outputs": [],
      "source": [
        "train_df.reset_index(drop=True, inplace=True)\n",
        "train_df"
      ]
    },
    {
      "cell_type": "code",
      "execution_count": null,
      "metadata": {
        "colab": {
          "base_uri": "https://localhost:8080/",
          "height": 834
        },
        "id": "G32ePS7dJ6PX",
        "outputId": "a12c0c5e-78bd-4598-cc62-924ef1d46ff7"
      },
      "outputs": [],
      "source": [
        "test_df.reset_index(drop=True, inplace=True)\n",
        "test_df"
      ]
    },
    {
      "cell_type": "code",
      "execution_count": null,
      "metadata": {
        "colab": {
          "base_uri": "https://localhost:8080/"
        },
        "id": "y7QQmtqGJ_JP",
        "outputId": "41b3dea9-9af3-4795-ae2b-4a10ed8604a2"
      },
      "outputs": [],
      "source": [
        "# Check the length of the dataset\n",
        "print(train_df.shape)\n",
        "print(test_df.shape)"
      ]
    },
    {
      "cell_type": "code",
      "execution_count": null,
      "metadata": {
        "colab": {
          "base_uri": "https://localhost:8080/",
          "height": 444
        },
        "id": "fgtbJ5L6KKpi",
        "outputId": "b74bfa49-e78d-4d39-916b-e6c8f337b7f8"
      },
      "outputs": [],
      "source": [
        "train_df.head()"
      ]
    },
    {
      "cell_type": "code",
      "execution_count": null,
      "metadata": {
        "colab": {
          "base_uri": "https://localhost:8080/"
        },
        "id": "n-BwKDBhKTNg",
        "outputId": "93bd7186-150c-4051-ba0c-c854b83fe0d9"
      },
      "outputs": [],
      "source": [
        "print(train_df.columns)"
      ]
    },
    {
      "cell_type": "code",
      "execution_count": null,
      "metadata": {
        "colab": {
          "base_uri": "https://localhost:8080/",
          "height": 364
        },
        "id": "tJHmiiRGKgU1",
        "outputId": "9c0e40e0-9a95-4eca-dd85-6eeae9cc8b4c"
      },
      "outputs": [],
      "source": [
        "train_df.describe()"
      ]
    },
    {
      "cell_type": "code",
      "execution_count": null,
      "metadata": {
        "colab": {
          "base_uri": "https://localhost:8080/"
        },
        "id": "_covaofWKmHF",
        "outputId": "824c4a7a-4b38-4244-981e-72d632180a18"
      },
      "outputs": [],
      "source": [
        "# Split our variables into target, categorical and continuous variables\n",
        "dep_var = 'price_value'\n",
        "\n",
        "cat_names = ['suburb_id_x']\n",
        "cont_names = ['propertyFeatures_bedrooms_x', 'propertyFeatures_bathrooms_x', 'propertyFeatures_carparks_x', 'landDetails_propertyArea_x', 'school_dist'\\\n",
        "              , 'hospital_dist', 'uni_dist', 'park_dist', 'mall_dist', 'CBD_dist', 'First_year_transaction']\n",
        "\n",
        "print(cat_names)\n",
        "print(cont_names)"
      ]
    },
    {
      "cell_type": "code",
      "execution_count": null,
      "metadata": {
        "id": "sg1E4sIDKyzp"
      },
      "outputs": [],
      "source": [
        "tfms = get_transforms(do_flip=False, max_rotate=5, max_zoom=1.05)\n",
        "\n",
        "procs = [Normalize]\n",
        "\n",
        "size = 256"
      ]
    },
    {
      "cell_type": "code",
      "execution_count": null,
      "metadata": {
        "colab": {
          "base_uri": "https://localhost:8080/"
        },
        "id": "HPOc__sJK6Ob",
        "outputId": "21995464-f97d-4001-8508-587b8ec06a63"
      },
      "outputs": [],
      "source": [
        "# idx for validation, shared by image and tabular data\n",
        "val_idx = get_valid_index(train_df)\n",
        "len(val_idx)"
      ]
    },
    {
      "cell_type": "code",
      "execution_count": null,
      "metadata": {
        "colab": {
          "base_uri": "https://localhost:8080/"
        },
        "id": "iUpKcUqkLD0i",
        "outputId": "28308daf-f236-4897-bbc0-fccf8e45aa06"
      },
      "outputs": [],
      "source": [
        "# load image data using train_df and prepare fastai LabelLists\n",
        "image_path = Path(\"/content/Bing_data/\")\n",
        "\n",
        "image_data = (ImageList.from_df(train_df, path=image_path, cols=\"image_Bing\")\n",
        "              .split_by_idx(val_idx)\n",
        "              .label_from_df(cols=\"price_value\", label_cls=FloatList, log=True)\n",
        "              .transform(tfms, size=size))\n",
        "\n",
        "# add test data so that we can make predictions\n",
        "test_image_data = ImageList.from_df(test_df, path=image_path, cols=\"image_Bing\")\n",
        "image_data.add_test(test_image_data)"
      ]
    },
    {
      "cell_type": "code",
      "execution_count": null,
      "metadata": {
        "colab": {
          "base_uri": "https://localhost:8080/",
          "height": 290
        },
        "id": "j3n6D_yTLrbp",
        "outputId": "7e973dd1-3f36-4e70-e822-22cd5a7ce065"
      },
      "outputs": [],
      "source": [
        "# show one example image\n",
        "print(image_data.train[0][1])\n",
        "image_data.train[0][0]"
      ]
    },
    {
      "cell_type": "code",
      "execution_count": null,
      "metadata": {
        "id": "f-MvTjTmLzU3"
      },
      "outputs": [],
      "source": [
        "dep_var = 'price_value'\n",
        "# cat_names = ['suburb_id_x']\n",
        "cat_names = []\n",
        "cont_names = ['propertyFeatures_bedrooms_x', 'propertyFeatures_bathrooms_x', 'propertyFeatures_carparks_x', 'landDetails_propertyArea_x', 'school_dist'\\\n",
        "              , 'hospital_dist', 'uni_dist', 'park_dist', 'mall_dist', 'CBD_dist', 'First_year_transaction']\n",
        "procs = [FillMissing, Categorify, Normalize]"
      ]
    },
    {
      "cell_type": "code",
      "execution_count": null,
      "metadata": {
        "colab": {
          "base_uri": "https://localhost:8080/"
        },
        "id": "jGZE9GbRMFvN",
        "outputId": "d3122b53-2053-4079-afac-97cbb13354d1"
      },
      "outputs": [],
      "source": [
        "tab_data = (TabularList.from_df(train_df, path=data_path, cat_names=cat_names, cont_names=cont_names, procs=procs)\n",
        "                           .split_by_idx(val_idx)\n",
        "                           .label_from_df(cols=dep_var, label_cls=FloatList, log=True))\n",
        "\n",
        "# add test\n",
        "tab_data.add_test(TabularList.from_df(test_df, cat_names=cat_names, cont_names=cont_names,\n",
        "                                      processor = tab_data.train.x.processor))"
      ]
    },
    {
      "cell_type": "code",
      "execution_count": null,
      "metadata": {
        "colab": {
          "base_uri": "https://localhost:8080/"
        },
        "id": "5S2j8I8YMa7n",
        "outputId": "2ee141a7-a287-4d7c-9b07-627547be9743"
      },
      "outputs": [],
      "source": [
        "tab_data.train[0]"
      ]
    },
    {
      "cell_type": "code",
      "execution_count": null,
      "metadata": {
        "id": "Z9WycIEFMfoH"
      },
      "outputs": [],
      "source": [
        "integrate_train, integrate_valid, integrate_test = get_imagetabdatasets(image_data, tab_data)"
      ]
    },
    {
      "cell_type": "code",
      "execution_count": null,
      "metadata": {
        "colab": {
          "base_uri": "https://localhost:8080/"
        },
        "id": "Lzl4VuidMxEQ",
        "outputId": "b14d1ae8-6dc0-41d7-ed0c-76c9c45d9273"
      },
      "outputs": [],
      "source": [
        "# package train, valid, and test datasets into a fastai databunch\n",
        "bs = 64\n",
        "\n",
        "db = DataBunch.create(integrate_train, integrate_valid, integrate_test, path=data_path, bs=bs)\n",
        "db"
      ]
    },
    {
      "cell_type": "code",
      "execution_count": null,
      "metadata": {
        "id": "zhozFHmZM9pb"
      },
      "outputs": [],
      "source": [
        "# image normalization with imagenet_stats\n",
        "db.norm, db.denorm = normalize_funcs_image_tab(*imagenet_stats)\n",
        "db.add_tfm(db.norm)"
      ]
    },
    {
      "cell_type": "code",
      "execution_count": null,
      "metadata": {
        "colab": {
          "base_uri": "https://localhost:8080/"
        },
        "id": "AL28lsfONEE_",
        "outputId": "4b338dd8-0a72-4aa7-f445-a65a292ee3b8"
      },
      "outputs": [],
      "source": [
        "# check the shape of one batch\n",
        "x, y = next(iter(db.train_dl))\n",
        "len(x)"
      ]
    },
    {
      "cell_type": "code",
      "execution_count": null,
      "metadata": {
        "colab": {
          "base_uri": "https://localhost:8080/"
        },
        "id": "HHksz6CjNNLz",
        "outputId": "95edb426-eca6-468c-9b55-a6cb18d61d46"
      },
      "outputs": [],
      "source": [
        "# images\n",
        "x[0].shape"
      ]
    },
    {
      "cell_type": "code",
      "execution_count": null,
      "metadata": {
        "colab": {
          "base_uri": "https://localhost:8080/"
        },
        "id": "avPOH5foNTT1",
        "outputId": "7cc7113d-eed7-45ed-aabd-9c393dee4634"
      },
      "outputs": [],
      "source": [
        "# categorical and continuous tabular data\n",
        "x[1][0].shape, x[1][1].shape"
      ]
    },
    {
      "cell_type": "code",
      "execution_count": null,
      "metadata": {
        "colab": {
          "base_uri": "https://localhost:8080/"
        },
        "id": "o2cH2qftNX1C",
        "outputId": "673aa025-c854-4671-fab9-5773f6b8f6d5"
      },
      "outputs": [],
      "source": [
        "# targets\n",
        "y.shape"
      ]
    },
    {
      "cell_type": "code",
      "execution_count": null,
      "metadata": {
        "id": "SgDR-6hzNdvj"
      },
      "outputs": [],
      "source": [
        "# cnn model for images, use Resnet50 as an example\n",
        "#cnn_arch = models.resnet50\n",
        "cnn_arch = models.resnet34\n",
        "\n",
        "# cnn_out_sz is the output size of the cnn model that will be concatenated with tabular model output\n",
        "cnn_out_sz = 256\n",
        "\n",
        "# use fastai functions to get a cnn model\n",
        "image_data_db = image_data.databunch()\n",
        "image_data_db.c = cnn_out_sz\n",
        "cnn_learn = cnn_learner(image_data_db, cnn_arch, ps=0.2)\n",
        "cnn_model = cnn_learn.model"
      ]
    },
    {
      "cell_type": "code",
      "execution_count": null,
      "metadata": {
        "colab": {
          "base_uri": "https://localhost:8080/"
        },
        "id": "4Zq5Oj8ONklZ",
        "outputId": "0fae2c5e-cb32-4628-d42e-811933f8c4aa"
      },
      "outputs": [],
      "source": [
        "# get embedding sizes of categorical data\n",
        "emb_szs = tab_data.train.get_emb_szs()\n",
        "\n",
        "# output size of the tabular model that will be concatenated with cnn model output\n",
        "tab_out_sz = 1\n",
        "\n",
        "# use fastai functions to get a tabular model\n",
        "tabular_model = TabularModel(emb_szs, len(cont_names), out_sz=tab_out_sz, layers=[], ps=0.2)\n",
        "tabular_model"
      ]
    },
    {
      "cell_type": "code",
      "execution_count": null,
      "metadata": {
        "id": "mZ9Nt9JxNqm-"
      },
      "outputs": [],
      "source": [
        "# use gpu by default if available\n",
        "device = torch.device('cuda:0' if torch.cuda.is_available() else 'cpu')\n",
        "#device = torch.device('cpu')"
      ]
    },
    {
      "cell_type": "code",
      "execution_count": null,
      "metadata": {
        "colab": {
          "base_uri": "https://localhost:8080/"
        },
        "id": "FkNhoaBrNyba",
        "outputId": "dcdbff38-29d4-4280-d770-91f6f4cf931a"
      },
      "outputs": [],
      "source": [
        "torch.cuda.is_available()"
      ]
    },
    {
      "cell_type": "code",
      "execution_count": null,
      "metadata": {
        "id": "lYION-e7N6HZ"
      },
      "outputs": [],
      "source": [
        "# get an integrated model that combines the two components and concatenate their outputs\n",
        "# which will pass through additional fully connected layers\n",
        "integrate_model = CNNTabularModel(cnn_model,\n",
        "                                  tabular_model,\n",
        "                                  layers = [cnn_out_sz + tab_out_sz, 1],\n",
        "                                  ps=0.2,\n",
        "                                  out_sz=1).to(device)"
      ]
    },
    {
      "cell_type": "code",
      "execution_count": null,
      "metadata": {
        "colab": {
          "base_uri": "https://localhost:8080/"
        },
        "id": "2A4FI7WnN86g",
        "outputId": "c00993cf-51b3-474c-d1ce-c862ffdca0e3"
      },
      "outputs": [],
      "source": [
        "# check model output dimension, should be (bs, 2)\n",
        "integrate_model(*x).shape"
      ]
    },
    {
      "cell_type": "code",
      "execution_count": null,
      "metadata": {
        "id": "MYewLum8OCRI"
      },
      "outputs": [],
      "source": [
        "# adjust loss function weight because the dataset is extremely unbalanced\n",
        "weights = [1/(1-train_df[\"price_value\"].mean()), 1/train_df[\"price_value\"].mean()]\n",
        "#loss_func = CrossEntropyFlat(weight=torch.FloatTensor(weights).to(device))\n",
        "#loss_func = CrossEntropyFlat(weight=torch.FloatTensor(weights).to(device))\n",
        "class L1LossFlat(nn.SmoothL1Loss):\n",
        "    def forward(self, input:Tensor, target:Tensor) -> Rank0Tensor:\n",
        "        return super().forward(input.view(-1), target.view(-1))"
      ]
    },
    {
      "cell_type": "code",
      "execution_count": null,
      "metadata": {
        "id": "E9G4gkEUOHkY"
      },
      "outputs": [],
      "source": [
        "# package everything in a fastai learner, add auc roc score as a metric\n",
        "#learn = Learner(db, integrate_model, metrics=[accuracy, ROCAUC()], loss_func=loss_func)\n",
        "learn = Learner(db, integrate_model, metrics=root_mean_squared_error)\n",
        "learn.loss_func = MSELossFlat()"
      ]
    },
    {
      "cell_type": "code",
      "execution_count": null,
      "metadata": {
        "id": "fvqyUvvuOPeZ"
      },
      "outputs": [],
      "source": [
        "# organize layer groups in order to use differential learning rates provided by fastai\n",
        "# the first two layer groups are earlier layers of resnet\n",
        "# the last layer group consists of the fully connected layers of cnn model, tabular model,\n",
        "# and final fully connected layers for the concatenated data\n",
        "learn.layer_groups = [nn.Sequential(*flatten_model(cnn_learn.layer_groups[0])),\n",
        "                      nn.Sequential(*flatten_model(cnn_learn.layer_groups[1])),\n",
        "                      nn.Sequential(*(flatten_model(cnn_learn.layer_groups[2]) +\n",
        "                                      flatten_model(integrate_model.tabular_model) +\n",
        "                                      flatten_model(integrate_model.layers)))]"
      ]
    },
    {
      "cell_type": "code",
      "execution_count": null,
      "metadata": {
        "colab": {
          "base_uri": "https://localhost:8080/",
          "height": 410
        },
        "id": "WYGAjR9ZOXZv",
        "outputId": "76f53499-5989-42fd-eb76-45e3e46fbed6"
      },
      "outputs": [],
      "source": [
        "# find learning rate to train the last layer group first\n",
        "learn.freeze()\n",
        "learn.lr_find()\n",
        "learn.recorder.plot(suggestion=True)"
      ]
    },
    {
      "cell_type": "code",
      "execution_count": null,
      "metadata": {
        "colab": {
          "base_uri": "https://localhost:8080/",
          "height": 363
        },
        "id": "pK9sCHcqP-Sa",
        "outputId": "30ec4b54-9de9-448e-9f5b-e249a33191a6"
      },
      "outputs": [],
      "source": [
        "# train\n",
        "min_grad_lr = learn.recorder.min_grad_lr\n",
        "learn.fit_one_cycle(10, min_grad_lr)"
      ]
    },
    {
      "cell_type": "code",
      "execution_count": null,
      "metadata": {
        "colab": {
          "base_uri": "https://localhost:8080/",
          "height": 279
        },
        "id": "QImRAs8mPa6f",
        "outputId": "82d3eb38-2c5a-40ea-c7ea-28f2a86472ae"
      },
      "outputs": [],
      "source": [
        "learn.recorder.plot_losses()"
      ]
    },
    {
      "cell_type": "code",
      "execution_count": null,
      "metadata": {
        "colab": {
          "base_uri": "https://localhost:8080/"
        },
        "id": "G-xr8TIXPior",
        "outputId": "c4950b01-dffd-44de-c0e3-6f9836effd82"
      },
      "outputs": [],
      "source": [
        "learn.save('TabularCNN_resnet34_freeze')\n",
        "learn.load('TabularCNN_resnet34_freeze')"
      ]
    },
    {
      "cell_type": "code",
      "execution_count": null,
      "metadata": {
        "colab": {
          "base_uri": "https://localhost:8080/",
          "height": 17
        },
        "id": "Lfhqy28oPvpI",
        "outputId": "add4f88b-b000-4930-f38c-0823ab13baf7"
      },
      "outputs": [],
      "source": [
        "# make predictions for the test set\n",
        "preds, y = learn.get_preds(DatasetType.Test)"
      ]
    },
    {
      "cell_type": "code",
      "execution_count": null,
      "metadata": {
        "colab": {
          "base_uri": "https://localhost:8080/"
        },
        "id": "GVtR-oJlP1Jr",
        "outputId": "43dece75-1d87-4f74-f3cd-c76e32166945"
      },
      "outputs": [],
      "source": [
        "print(preds)"
      ]
    },
    {
      "cell_type": "code",
      "execution_count": null,
      "metadata": {
        "colab": {
          "base_uri": "https://localhost:8080/"
        },
        "id": "8zBNDEYmQH6V",
        "outputId": "060af87f-88b8-45c7-afe1-08ac59c4fe2c"
      },
      "outputs": [],
      "source": [
        "print(y)"
      ]
    },
    {
      "cell_type": "code",
      "execution_count": null,
      "metadata": {
        "colab": {
          "base_uri": "https://localhost:8080/",
          "height": 206
        },
        "id": "rV1lC2LyQL-_",
        "outputId": "ac2e83f7-2707-4905-8d58-aad4757f1f80"
      },
      "outputs": [],
      "source": [
        "# submit predictions to kaggle\n",
        "labels = [np.exp(p[0].data.item()) for p in preds]\n",
        "submission = pd.DataFrame({'Id': test_df['id_combined'], 'Price': test_df['price_value']})\n",
        "submission[\"Predicted\"] = labels\n",
        "submission.to_csv(data_path/'image_tab_Bing.csv', index=False)\n",
        "submission.head()"
      ]
    },
    {
      "cell_type": "code",
      "execution_count": null,
      "metadata": {
        "id": "4Kh3H0vmQTob"
      },
      "outputs": [],
      "source": [
        "import pandas\n",
        "import matplotlib.pyplot as plt\n",
        "import statsmodels.api\n",
        "import statsmodels.formula.api as sm\n",
        "import scipy.stats as stats"
      ]
    },
    {
      "cell_type": "code",
      "execution_count": null,
      "metadata": {
        "colab": {
          "base_uri": "https://localhost:8080/",
          "height": 342
        },
        "id": "oLfaHZjsQgSK",
        "outputId": "a7bdb851-03d9-43ac-9d14-c31be2023e2b"
      },
      "outputs": [],
      "source": [
        "fig = plt.figure(figsize=[10, 10])\n",
        "ax = fig.add_subplot(2, 2, 1)\n",
        "ax.scatter(submission['Price'], submission['Predicted'])\n",
        "ax.set_xlabel('value')\n",
        "ax.set_ylabel('predicted')\n",
        "ax.set_title(str(submission['Price'].corr(submission['Predicted'])))"
      ]
    },
    {
      "cell_type": "code",
      "execution_count": null,
      "metadata": {
        "colab": {
          "base_uri": "https://localhost:8080/"
        },
        "id": "TJM-cjSyQmDH",
        "outputId": "9cd091bb-8354-4522-9482-5444c2ed8076"
      },
      "outputs": [],
      "source": [
        "import numpy as np\n",
        "Y_true = submission['Price']\n",
        "pred = submission['Predicted']\n",
        "\n",
        "\n",
        "#RMSLE\n",
        "error = np.square(np.log(pred + 1) - np.log(Y_true +1)).mean() ** 0.5\n",
        "print(error)\n",
        "\n",
        "score = 1 - error\n",
        "print(\"SCORE For test : \",score)\n"
      ]
    },
    {
      "cell_type": "code",
      "execution_count": null,
      "metadata": {
        "colab": {
          "base_uri": "https://localhost:8080/",
          "height": 206
        },
        "id": "ZavwX-3JYhZ5",
        "outputId": "4fe8bd39-2776-4a6b-93a0-468ec59afadb"
      },
      "outputs": [],
      "source": [
        "# unfreeze all layer groups to train the entire model using differential learning rates\n",
        "learn.unfreeze()\n",
        "learn.fit_one_cycle(5, slice(min_grad_lr, 1e-5))"
      ]
    },
    {
      "cell_type": "code",
      "execution_count": null,
      "metadata": {
        "colab": {
          "base_uri": "https://localhost:8080/",
          "height": 279
        },
        "id": "Pra9XUBIdYXp",
        "outputId": "923711f7-649a-45fe-c07b-7ba67d3170c5"
      },
      "outputs": [],
      "source": [
        "learn.recorder.plot_losses()"
      ]
    },
    {
      "cell_type": "code",
      "execution_count": null,
      "metadata": {
        "colab": {
          "base_uri": "https://localhost:8080/"
        },
        "id": "G5gKUCjHdzJx",
        "outputId": "4b4b1435-ad96-4b73-b08f-0e3364c1427b"
      },
      "outputs": [],
      "source": [
        "learn.save('TabularCNN_resnet34')\n",
        "learn.load('TabularCNN_resnet34')"
      ]
    },
    {
      "cell_type": "code",
      "execution_count": null,
      "metadata": {
        "colab": {
          "base_uri": "https://localhost:8080/",
          "height": 17
        },
        "id": "MW11OnU9e9Rl",
        "outputId": "6c4124eb-f512-4761-8ec1-9bc75b2231ea"
      },
      "outputs": [],
      "source": [
        "# make predictions for the test set\n",
        "preds, y = learn.get_preds(DatasetType.Test)"
      ]
    },
    {
      "cell_type": "code",
      "execution_count": null,
      "metadata": {
        "colab": {
          "base_uri": "https://localhost:8080/"
        },
        "id": "qkbwefyCiA-w",
        "outputId": "2ec8d01e-9b69-45ad-a107-8d830da7165e"
      },
      "outputs": [],
      "source": [
        "print(preds)"
      ]
    },
    {
      "cell_type": "code",
      "execution_count": null,
      "metadata": {
        "colab": {
          "base_uri": "https://localhost:8080/"
        },
        "id": "1WhA86lsiFQJ",
        "outputId": "b886d998-2ffa-4e0b-ac41-dd4dc4a87cd3"
      },
      "outputs": [],
      "source": [
        "print(y)"
      ]
    },
    {
      "cell_type": "code",
      "execution_count": null,
      "metadata": {
        "colab": {
          "base_uri": "https://localhost:8080/",
          "height": 206
        },
        "id": "vLzTLO11fWT_",
        "outputId": "cd7f182e-79ae-4b12-a90e-fe1a846742bd"
      },
      "outputs": [],
      "source": [
        "# submit predictions to kaggle\n",
        "labels = [np.exp(p[0].data.item()) for p in preds]\n",
        "submission = pd.DataFrame({'Id': test_df['id_combined'], 'Price': test_df['price_value'], 'street_id': test_df['street_id_x']})\n",
        "submission[\"Predicted\"] = labels\n",
        "submission.to_csv(data_path/'image_tab.csv', index=False)\n",
        "submission.head()"
      ]
    },
    {
      "cell_type": "code",
      "execution_count": null,
      "metadata": {
        "colab": {
          "base_uri": "https://localhost:8080/",
          "height": 342
        },
        "id": "pOYLy9m-WMJv",
        "outputId": "1070a571-1db2-4333-f97c-cd1b446cc797"
      },
      "outputs": [],
      "source": [
        "fig = plt.figure(figsize=[10, 10])\n",
        "ax = fig.add_subplot(2, 2, 1)\n",
        "ax.scatter(submission['Price'], submission['Predicted'])\n",
        "ax.set_xlabel('value')\n",
        "ax.set_ylabel('predicted')\n",
        "ax.set_title(str(submission['Price'].corr(submission['Predicted'])))"
      ]
    },
    {
      "cell_type": "code",
      "execution_count": null,
      "metadata": {
        "colab": {
          "base_uri": "https://localhost:8080/"
        },
        "id": "0e9lH4VJWSNw",
        "outputId": "7ffe900b-9b5e-428c-ed3f-03170213d27a"
      },
      "outputs": [],
      "source": [
        "import numpy as np\n",
        "Y_true = submission['Price']\n",
        "pred = submission['Predicted']\n",
        "\n",
        "\n",
        "#RMSLE\n",
        "error = np.square(np.log(pred + 1) - np.log(Y_true +1)).mean() ** 0.5\n",
        "print(error)\n",
        "\n",
        "score = 1 - error\n",
        "print(\"SCORE For test : \",score)\n"
      ]
    },
    {
      "cell_type": "code",
      "execution_count": null,
      "metadata": {
        "colab": {
          "base_uri": "https://localhost:8080/",
          "height": 17
        },
        "id": "ct7mJiZqP5FA",
        "outputId": "717168f2-b23d-4607-b266-d1dd42946892"
      },
      "outputs": [],
      "source": [
        "# embeddings = cnn_learn.predict(DatasetType.Test)\n",
        "embeddings, y = cnn_learn.get_preds(DatasetType.Test)"
      ]
    },
    {
      "cell_type": "code",
      "execution_count": null,
      "metadata": {
        "colab": {
          "base_uri": "https://localhost:8080/"
        },
        "id": "zFFLAnJ7z04h",
        "outputId": "dbf12861-41c6-4e3c-f464-16e956610144"
      },
      "outputs": [],
      "source": [
        "print(embeddings)"
      ]
    },
    {
      "cell_type": "code",
      "execution_count": null,
      "metadata": {
        "colab": {
          "base_uri": "https://localhost:8080/"
        },
        "id": "j8QB0b6D0B0l",
        "outputId": "caa4d86e-1c8a-4dbf-b955-82c88033a246"
      },
      "outputs": [],
      "source": [
        "print(embeddings.shape)"
      ]
    },
    {
      "cell_type": "code",
      "execution_count": null,
      "metadata": {
        "colab": {
          "base_uri": "https://localhost:8080/"
        },
        "id": "3cQlVFO5V3VD",
        "outputId": "1e065b85-58cf-4192-8563-e520d56fc78b"
      },
      "outputs": [],
      "source": [
        "print(embeddings[5])"
      ]
    },
    {
      "cell_type": "code",
      "execution_count": null,
      "metadata": {
        "id": "C5DWe3btWCol"
      },
      "outputs": [],
      "source": [
        "embeddings01 = embeddings[0:3]"
      ]
    },
    {
      "cell_type": "code",
      "execution_count": null,
      "metadata": {
        "colab": {
          "base_uri": "https://localhost:8080/"
        },
        "id": "zPvYqQjJWRzK",
        "outputId": "7c842045-ad98-47fe-d2ca-b33d0b19a354"
      },
      "outputs": [],
      "source": [
        "print(embeddings01)"
      ]
    },
    {
      "cell_type": "code",
      "execution_count": null,
      "metadata": {
        "colab": {
          "base_uri": "https://localhost:8080/",
          "height": 834
        },
        "id": "QWsTaq5ee9X6",
        "outputId": "a12f2cff-0246-4659-8f4e-a49dfbea0d43"
      },
      "outputs": [],
      "source": [
        "test_df"
      ]
    },
    {
      "cell_type": "code",
      "execution_count": null,
      "metadata": {
        "colab": {
          "base_uri": "https://localhost:8080/",
          "height": 834
        },
        "id": "a1dILlFogr2z",
        "outputId": "08585192-3ff8-4019-86a0-b15a5e89ce6f"
      },
      "outputs": [],
      "source": [
        "dfCopy = test_df.copy()\n",
        "dfCopy"
      ]
    },
    {
      "cell_type": "code",
      "execution_count": null,
      "metadata": {
        "colab": {
          "base_uri": "https://localhost:8080/",
          "height": 834
        },
        "id": "Pd5eI2qMavFF",
        "outputId": "bddbbb24-bc28-4adf-bcb1-03781076583b"
      },
      "outputs": [],
      "source": [
        "dfCopy[\"Predicted\"] = labels\n",
        "dfCopy"
      ]
    },
    {
      "cell_type": "code",
      "execution_count": null,
      "metadata": {
        "id": "gvCXKjpqa6ea"
      },
      "outputs": [],
      "source": [
        "# dfCopy.reset_index(drop=True, inplace=True)\n",
        "dfCopy.to_csv('/content/drive/MyDrive/QUTREProject/2018_test_results_Hedonic_CNN_Fusion_Bing256_experiment2.csv',index=False)\n",
        "dfCopy.to_pickle('/content/drive/MyDrive/QUTREProject/2018_test_results_Hedonic_CNN_Fusion_Bing256_experiment2.pkl')"
      ]
    },
    {
      "cell_type": "code",
      "execution_count": null,
      "metadata": {
        "colab": {
          "base_uri": "https://localhost:8080/",
          "height": 834
        },
        "id": "MHOH2ikikE75",
        "outputId": "25ee1caa-d574-4398-80f1-335167a62bb4"
      },
      "outputs": [],
      "source": [
        "dfCopy['Index_x'] = 0\n",
        "dfCopy"
      ]
    },
    {
      "cell_type": "code",
      "execution_count": null,
      "metadata": {
        "id": "JlbbrIFqm9na"
      },
      "outputs": [],
      "source": [
        "class_price_01 = 1000000\n",
        "class_price_02 = 800000\n",
        "class_price_03 = 600000\n",
        "class_price_04 = 400000\n",
        "class_price_05 = 200000\n",
        "\n",
        "for ii in range(len(dfCopy)):\n",
        "  if dfCopy['price_value'][ii] > class_price_01:\n",
        "        dfCopy.iloc[[ii],[40]] = 6\n",
        "  elif (dfCopy['price_value'][ii] <= class_price_01) & (dfCopy['price_value'][ii] > class_price_02):\n",
        "        dfCopy.iloc[[ii],[40]] = 5\n",
        "  elif (dfCopy['price_value'][ii] <= class_price_02) & (dfCopy['price_value'][ii] > class_price_03):\n",
        "        dfCopy.iloc[[ii],[40]] = 4\n",
        "  elif (dfCopy['price_value'][ii] <= class_price_03) & (dfCopy['price_value'][ii] > class_price_04):\n",
        "        dfCopy.iloc[[ii],[40]] = 3\n",
        "  elif (dfCopy['price_value'][ii] <= class_price_04) & (dfCopy['price_value'][ii] > class_price_05):\n",
        "        dfCopy.iloc[[ii],[40]] = 2\n",
        "  else:\n",
        "        pass\n",
        "\n",
        "  # dfCopy['Index_x'][ii] = ii\n",
        "dfCopy"
      ]
    },
    {
      "cell_type": "code",
      "execution_count": null,
      "metadata": {
        "colab": {
          "base_uri": "https://localhost:8080/",
          "height": 834
        },
        "id": "5Lc9N-tkWV-b",
        "outputId": "03212d66-c662-4f15-f9b6-e7a5912e0600"
      },
      "outputs": [],
      "source": [
        "class_price_01 = 1000000\n",
        "class_price_02 = 800000\n",
        "class_price_03 = 600000\n",
        "class_price_04 = 400000\n",
        "class_price_05 = 200000\n",
        "\n",
        "for ii in range(len(dfCopy)):\n",
        "  if submission['Predicted'][ii] > class_price_01:\n",
        "        dfCopy.iloc[[ii],[41]] = 6\n",
        "  elif (submission['Predicted'][ii] <= class_price_01) & (submission['Predicted'][ii] > class_price_02):\n",
        "        dfCopy.iloc[[ii],[41]] = 5\n",
        "  elif (submission['Predicted'][ii] <= class_price_02) & (submission['Predicted'][ii] > class_price_03):\n",
        "        dfCopy.iloc[[ii],[41]] = 4\n",
        "  elif (submission['Predicted'][ii] <= class_price_03) & (submission['Predicted'][ii] > class_price_04):\n",
        "        dfCopy.iloc[[ii],[41]] = 3\n",
        "  elif (submission['Predicted'][ii] <= class_price_04) & (submission['Predicted'][ii] > class_price_05):\n",
        "        dfCopy.iloc[[ii],[41]] = 2\n",
        "  else:\n",
        "        pass\n",
        "\n",
        "  # dfCopy['Index_x'][ii] = ii\n",
        "dfCopy"
      ]
    },
    {
      "cell_type": "code",
      "execution_count": null,
      "metadata": {
        "id": "T4quMzCbj2x4"
      },
      "outputs": [],
      "source": [
        "# dfCopy.set_index('Index_x', inplace=True)\n",
        "# dfCopy"
      ]
    },
    {
      "cell_type": "code",
      "execution_count": null,
      "metadata": {
        "colab": {
          "base_uri": "https://localhost:8080/"
        },
        "id": "RByKBbgBc1av",
        "outputId": "20b8aa79-9383-4dfa-db3b-316fce90da7f"
      },
      "outputs": [],
      "source": [
        "# street_id_test = dfCopy['suburb_id_x']\n",
        "street_id_test = dfCopy['Index_x']\n",
        "street_id_test"
      ]
    },
    {
      "cell_type": "code",
      "execution_count": null,
      "metadata": {
        "id": "BjSAA1Xodh8V"
      },
      "outputs": [],
      "source": [
        "print(street_id_test[0][3:])"
      ]
    },
    {
      "cell_type": "code",
      "execution_count": null,
      "metadata": {
        "colab": {
          "base_uri": "https://localhost:8080/"
        },
        "id": "FVOqJmnAeJKs",
        "outputId": "3f67a900-6e83-48fc-b4c4-2ce596219167"
      },
      "outputs": [],
      "source": [
        "for ii in range(len(street_id_test)):\n",
        "  street_id_test[ii] = int(street_id_test[ii][3:])\n",
        "street_id_test"
      ]
    },
    {
      "cell_type": "code",
      "execution_count": null,
      "metadata": {
        "id": "xGfXfFpcrJSU"
      },
      "outputs": [],
      "source": [
        "embeddings01 = embeddings[0:500]"
      ]
    },
    {
      "cell_type": "code",
      "execution_count": null,
      "metadata": {
        "colab": {
          "base_uri": "https://localhost:8080/"
        },
        "id": "9CaBGbPWPIJp",
        "outputId": "b023f7c0-9e6b-4a5c-d41c-21ab099d2cc6"
      },
      "outputs": [],
      "source": [
        "from sklearn.manifold import TSNE\n",
        "\n",
        "tsne_embeddings = TSNE(random_state=2, verbose=1,\n",
        "                    metric='euclidean').fit_transform(embeddings)"
      ]
    },
    {
      "cell_type": "code",
      "execution_count": null,
      "metadata": {
        "colab": {
          "base_uri": "https://localhost:8080/"
        },
        "id": "4kd9lIvtxj95",
        "outputId": "1eac1a5b-2da3-4d4c-e24b-c7cdc52b3a6c"
      },
      "outputs": [],
      "source": [
        "print(tsne_embeddings)"
      ]
    },
    {
      "cell_type": "code",
      "execution_count": null,
      "metadata": {
        "colab": {
          "base_uri": "https://localhost:8080/",
          "height": 423
        },
        "id": "7DRerihMxoly",
        "outputId": "cb8ab5d2-9a67-4a37-cf7d-086f25d2da32"
      },
      "outputs": [],
      "source": [
        "dataframe=pd.DataFrame(tsne_embeddings, columns=['a','b'])\n",
        "dataframe"
      ]
    },
    {
      "cell_type": "code",
      "execution_count": null,
      "metadata": {
        "id": "aY8KqRBjxyCm"
      },
      "outputs": [],
      "source": [
        "dataframe.to_csv('/content/drive/MyDrive/QUTREProject/tsne_embeddings.csv')"
      ]
    },
    {
      "cell_type": "code",
      "execution_count": null,
      "metadata": {
        "colab": {
          "base_uri": "https://localhost:8080/",
          "height": 718
        },
        "id": "Jj3FLWiyPecD",
        "outputId": "a9da32c4-7171-420c-f580-cd18bb1d5ed7"
      },
      "outputs": [],
      "source": [
        "fig = plt.figure(figsize=[12, 12])\n",
        "ax = fig.add_subplot(1, 1, 1)\n",
        "# ax.scatter(tsne_embeddings[:,0], tsne_embeddings[:,1],c = street_id_test);\n",
        "sc = ax.scatter(tsne_embeddings[:,0], tsne_embeddings[:,1], c=street_id_test, cmap='tab10')\n",
        "ax.legend(*sc.legend_elements(), title='clusters')"
      ]
    },
    {
      "cell_type": "code",
      "execution_count": null,
      "metadata": {
        "id": "31CgaC3Kwu62"
      },
      "outputs": [],
      "source": [
        "from matplotlib.offsetbox import OffsetImage, AnnotationBbox\n",
        "from matplotlib.cbook import get_sample_data\n",
        "import PIL\n",
        "from PIL import Image\n",
        "\n",
        "\n",
        "def plot_images_in_2d(x, y, image_paths, axis=None, zoom=1):\n",
        "    if axis is None:\n",
        "        axis = plt.gca()\n",
        "    x, y = np.atleast_1d(x, y)\n",
        "    for x0, y0, image_path in zip(x, y, image_paths):\n",
        "        image = Image.open(image_path)\n",
        "        image.thumbnail((100, 100), Image.ANTIALIAS)\n",
        "        img = OffsetImage(image, zoom=zoom)\n",
        "        anno_box = AnnotationBbox(img, (x0, y0),\n",
        "                                  xycoords='data',\n",
        "                                  frameon=False)\n",
        "        axis.add_artist(anno_box)\n",
        "    axis.update_datalim(np.column_stack([x, y]))\n",
        "    axis.autoscale()"
      ]
    },
    {
      "cell_type": "code",
      "execution_count": null,
      "metadata": {
        "id": "EXxfKSEZwxaz"
      },
      "outputs": [],
      "source": [
        "def show_tsne(x, y, selected_filenames):\n",
        "    fig, axis = plt.subplots()\n",
        "    fig.set_size_inches(22, 22, forward=True)\n",
        "    plot_images_in_2d(x, y, selected_filenames, zoom=0.3, axis=axis)\n",
        "    plt.show()"
      ]
    },
    {
      "cell_type": "code",
      "execution_count": null,
      "metadata": {
        "colab": {
          "base_uri": "https://localhost:8080/"
        },
        "id": "sBE3aZU_zDGw",
        "outputId": "a2628155-574a-471b-a7bb-3b8ad28a62dd"
      },
      "outputs": [],
      "source": [
        "selected_filenames = '/content/Bing_data/' + dfCopy['image_Bing']\n",
        "selected_filenames"
      ]
    },
    {
      "cell_type": "code",
      "execution_count": null,
      "metadata": {
        "colab": {
          "base_uri": "https://localhost:8080/"
        },
        "id": "41ty5Pj03yCD",
        "outputId": "3ec8535b-adfd-45e0-a512-cf51449c0695"
      },
      "outputs": [],
      "source": [
        "selected_filenames = '/content/Google_data/' + dfCopy['image_Google']\n",
        "selected_filenames"
      ]
    },
    {
      "cell_type": "code",
      "execution_count": null,
      "metadata": {
        "colab": {
          "base_uri": "https://localhost:8080/",
          "height": 1000
        },
        "id": "re1TkH9aw4fH",
        "outputId": "284ed4ec-8ffd-4862-8df4-3f251f621af8"
      },
      "outputs": [],
      "source": [
        "show_tsne(tsne_embeddings[:, 0], tsne_embeddings[:, 1], selected_filenames)"
      ]
    },
    {
      "cell_type": "code",
      "execution_count": null,
      "metadata": {
        "id": "UAof4muT0Ryc"
      },
      "outputs": [],
      "source": [
        "def tsne_to_grid_plotter_manual(x, y, selected_filenames):\n",
        "    S = 2000\n",
        "    s = 100\n",
        "    x = (x - min(x)) / (max(x) - min(x))\n",
        "    y = (y - min(y)) / (max(y) - min(y))\n",
        "    x_values = []\n",
        "    y_values = []\n",
        "    filename_plot = []\n",
        "    x_y_dict = {}\n",
        "    for i, image_path in enumerate(selected_filenames):\n",
        "        a = np.ceil(x[i] * (S - s))\n",
        "        b = np.ceil(y[i] * (S - s))\n",
        "        a = int(a - np.mod(a, s))\n",
        "        b = int(b - np.mod(b, s))\n",
        "        if str(a) + \"|\" + str(b) in x_y_dict:\n",
        "            continue\n",
        "        x_y_dict[str(a) + \"|\" + str(b)] = 1\n",
        "        x_values.append(a)\n",
        "        y_values.append(b)\n",
        "        filename_plot.append(image_path)\n",
        "    fig, axis = plt.subplots()\n",
        "    fig.set_size_inches(22, 22, forward=True)\n",
        "    plot_images_in_2d(x_values, y_values, filename_plot, zoom=.58, axis=axis)\n",
        "    plt.show()"
      ]
    },
    {
      "cell_type": "code",
      "execution_count": null,
      "metadata": {
        "colab": {
          "base_uri": "https://localhost:8080/",
          "height": 1000
        },
        "id": "6tBV9TIi0iwD",
        "outputId": "10b96275-4955-4b5b-e69b-3d526f6843e5"
      },
      "outputs": [],
      "source": [
        "tsne_to_grid_plotter_manual(tsne_embeddings[:, 0], tsne_embeddings[:, 1],\n",
        "                            selected_filenames)"
      ]
    }
  ],
  "metadata": {
    "accelerator": "GPU",
    "colab": {
      "provenance": []
    },
    "kernelspec": {
      "display_name": "Python 3",
      "name": "python3"
    },
    "language_info": {
      "name": "python"
    }
  },
  "nbformat": 4,
  "nbformat_minor": 0
}
