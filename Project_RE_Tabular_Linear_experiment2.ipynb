{
  "cells": [
    {
      "cell_type": "code",
      "execution_count": null,
      "metadata": {
        "id": "jDj-YrbqpD6q"
      },
      "outputs": [],
      "source": [
        "%reload_ext autoreload\n",
        "%autoreload 2\n",
        "%matplotlib inline"
      ]
    },
    {
      "cell_type": "code",
      "execution_count": null,
      "metadata": {
        "colab": {
          "base_uri": "https://localhost:8080/",
          "height": 35
        },
        "id": "9yfY2mtbqANy",
        "outputId": "99dfd750-359f-4cdf-896c-5551b1e9194b"
      },
      "outputs": [
        {
          "data": {
            "application/vnd.google.colaboratory.intrinsic+json": {
              "type": "string"
            },
            "text/plain": [
              "'1.0.61'"
            ]
          },
          "execution_count": 66,
          "metadata": {},
          "output_type": "execute_result"
        }
      ],
      "source": [
        "import fastai; fastai.__version__"
      ]
    },
    {
      "cell_type": "code",
      "execution_count": null,
      "metadata": {
        "id": "4EzExS9PqE-p"
      },
      "outputs": [],
      "source": [
        "import pandas as pd\n",
        "from fastai.tabular import *"
      ]
    },
    {
      "cell_type": "code",
      "execution_count": null,
      "metadata": {
        "colab": {
          "base_uri": "https://localhost:8080/",
          "height": 834
        },
        "id": "7sPViOP3qLMe",
        "outputId": "9e0f3053-3ea6-4f40-ff2e-18408deabe45"
      },
      "outputs": [],
      "source": [
        "# the datasets\n",
        "house_price_df = pd.read_csv(\"/content/drive/MyDrive/QUTREProject/Brisbane_suburbs_02_sales_2020_property_GB_Prop_dist16.csv\", index_col=0)\n",
        "house_price_df"
      ]
    },
    {
      "cell_type": "code",
      "execution_count": null,
      "metadata": {
        "colab": {
          "base_uri": "https://localhost:8080/",
          "height": 834
        },
        "id": "Ska491AkaYFl",
        "outputId": "a3520604-876d-4e91-e689-3004df97a08a"
      },
      "outputs": [],
      "source": [
        "test_df = house_price_df.loc[(house_price_df['suburb_id_x']=='QLD1346') | (house_price_df['suburb_id_x']=='QLD627') | (house_price_df['suburb_id_x']=='QLD24') | \\\n",
        "                         (house_price_df['suburb_id_x']=='QLD3231') | (house_price_df['suburb_id_x']=='QLD32') | (house_price_df['suburb_id_x']=='QLD510') | \\\n",
        "                         (house_price_df['suburb_id_x']=='QLD545') | (house_price_df['suburb_id_x']=='QLD718') | (house_price_df['suburb_id_x']=='QLD389') ]\n",
        "test_df"
      ]
    },
    {
      "cell_type": "code",
      "execution_count": null,
      "metadata": {
        "colab": {
          "base_uri": "https://localhost:8080/",
          "height": 834
        },
        "id": "nCJ2k_dSqVzd",
        "outputId": "892c9f9e-ec44-4098-d28d-c54da49db676"
      },
      "outputs": [],
      "source": [
        "# train_df=house_price_df.sample(frac=0.8,random_state=200) #random state is a seed value\n",
        "# test_df=house_price_df.drop(train_df.index)\n",
        "train_df=house_price_df.drop(test_df.index)\n",
        "train_df.reset_index()\n",
        "test_df.reset_index()"
      ]
    },
    {
      "cell_type": "code",
      "execution_count": null,
      "metadata": {
        "colab": {
          "base_uri": "https://localhost:8080/",
          "height": 834
        },
        "id": "yjX6Fw-Gqdf9",
        "outputId": "903be76f-2b83-4fca-cff0-dae935f75bd7"
      },
      "outputs": [],
      "source": [
        "train_df.reset_index(drop=True, inplace=True)\n",
        "train_df"
      ]
    },
    {
      "cell_type": "code",
      "execution_count": null,
      "metadata": {
        "colab": {
          "base_uri": "https://localhost:8080/",
          "height": 834
        },
        "id": "369W-4ExqjUl",
        "outputId": "5106f423-f889-4743-eead-8b469778b896"
      },
      "outputs": [],
      "source": [
        "test_df.reset_index(drop=True, inplace=True)\n",
        "test_df"
      ]
    },
    {
      "cell_type": "code",
      "execution_count": null,
      "metadata": {
        "colab": {
          "base_uri": "https://localhost:8080/"
        },
        "id": "_9TnXYGtqo5l",
        "outputId": "da5147ff-7f77-4309-b803-6705fabd32f6"
      },
      "outputs": [],
      "source": [
        "# Check the length of the dataset\n",
        "print(train_df.shape)\n",
        "print(test_df.shape)"
      ]
    },
    {
      "cell_type": "code",
      "execution_count": null,
      "metadata": {
        "colab": {
          "base_uri": "https://localhost:8080/",
          "height": 444
        },
        "id": "TJp2eQ7pq12A",
        "outputId": "ef2fed79-8686-4c7c-99d4-1b5f7a194607"
      },
      "outputs": [],
      "source": [
        "train_df.head()"
      ]
    },
    {
      "cell_type": "code",
      "execution_count": null,
      "metadata": {
        "colab": {
          "base_uri": "https://localhost:8080/",
          "height": 444
        },
        "id": "-DdThoXwq54K",
        "outputId": "d4ee585b-11b8-45f9-8758-3b251f486e3f"
      },
      "outputs": [],
      "source": [
        "test_df.head()"
      ]
    },
    {
      "cell_type": "code",
      "execution_count": null,
      "metadata": {
        "colab": {
          "base_uri": "https://localhost:8080/"
        },
        "id": "DoJTp9bSrDOO",
        "outputId": "cdd28506-846a-4b27-fe55-483656aeb354"
      },
      "outputs": [],
      "source": [
        "print(train_df.columns)"
      ]
    },
    {
      "cell_type": "code",
      "execution_count": null,
      "metadata": {
        "colab": {
          "base_uri": "https://localhost:8080/",
          "height": 364
        },
        "id": "Nmcld-nWrHAG",
        "outputId": "09550bc1-8e98-4b75-a025-7b4ec47f6662"
      },
      "outputs": [],
      "source": [
        "train_df.describe()"
      ]
    },
    {
      "cell_type": "code",
      "execution_count": null,
      "metadata": {
        "colab": {
          "base_uri": "https://localhost:8080/"
        },
        "id": "zZVXPhjorZxD",
        "outputId": "768b6a52-0590-4b3f-eae3-8bf435c0faa0"
      },
      "outputs": [],
      "source": [
        "train_df.isnull().sum()"
      ]
    },
    {
      "cell_type": "code",
      "execution_count": null,
      "metadata": {
        "colab": {
          "base_uri": "https://localhost:8080/"
        },
        "id": "SUR8IWJurfQz",
        "outputId": "9f39c449-be50-43c1-e999-7b00618c97aa"
      },
      "outputs": [],
      "source": [
        "# Let's check for the test set as well\n",
        "test_df.isnull().sum()"
      ]
    },
    {
      "cell_type": "code",
      "execution_count": null,
      "metadata": {
        "id": "ZeKzdGJ2riCF"
      },
      "outputs": [],
      "source": [
        "# Preprocessing\n",
        "procs = [FillMissing, Categorify, Normalize]\n",
        "#procs = [FillMissing, Normalize]"
      ]
    },
    {
      "cell_type": "code",
      "execution_count": null,
      "metadata": {
        "colab": {
          "base_uri": "https://localhost:8080/"
        },
        "id": "xsZW5mhproQj",
        "outputId": "abfd497d-6fe2-46a4-9227-2edd5550eae2"
      },
      "outputs": [],
      "source": [
        "# Split our variables into target, categorical and continuous variables\n",
        "dep_var = 'price_value'\n",
        "\n",
        "# cat_names = ['suburb_id_x']\n",
        "cat_names = []\n",
        "cont_names = ['propertyFeatures_bedrooms_x', 'propertyFeatures_bathrooms_x', 'propertyFeatures_carparks_x', 'landDetails_propertyArea_x', 'school_dist'\\\n",
        "              , 'hospital_dist', 'uni_dist', 'park_dist', 'mall_dist', 'CBD_dist', 'First_year_transaction', 'highway_dist', 'bus_stop_dist', \\\n",
        "       'ferry_terminal_dist', 'railway_station_dist', 'number_transaction', \\\n",
        "       'crime_rate_2019', 'state_school_percentage', \\\n",
        "       'class_size_achievement_pct_2019', 'Density', 'Score2019']\n",
        "\n",
        "print(cat_names)\n",
        "print(cont_names)"
      ]
    },
    {
      "cell_type": "code",
      "execution_count": null,
      "metadata": {
        "id": "F1rIl15jrxrM"
      },
      "outputs": [],
      "source": [
        "test = TabularList.from_df(df=test_df, cat_names=cat_names, cont_names=cont_names, procs=procs)"
      ]
    },
    {
      "cell_type": "code",
      "execution_count": null,
      "metadata": {
        "id": "FbU0SuRLrzSW"
      },
      "outputs": [],
      "source": [
        "data = (TabularList.from_df(df=train_df, cat_names=cat_names, cont_names=cont_names, procs=procs)\n",
        "                   .split_by_rand_pct()\n",
        "                   .label_from_df(cols=dep_var, label_cls=FloatList, log=True)\n",
        "                   .add_test(test)\n",
        "                   .databunch())"
      ]
    },
    {
      "cell_type": "code",
      "execution_count": null,
      "metadata": {
        "colab": {
          "base_uri": "https://localhost:8080/",
          "height": 383
        },
        "id": "efe1oRAgr5aX",
        "outputId": "58e75ce7-3209-4dc1-fb94-c16a47e811a0"
      },
      "outputs": [],
      "source": [
        "data.show_batch(10)"
      ]
    },
    {
      "cell_type": "code",
      "execution_count": null,
      "metadata": {
        "id": "UzDy-5rMsBP8"
      },
      "outputs": [],
      "source": [
        "learn = tabular_learner(data, layers=[], metrics=[rmse,r2_score])"
      ]
    },
    {
      "cell_type": "code",
      "execution_count": null,
      "metadata": {
        "colab": {
          "base_uri": "https://localhost:8080/"
        },
        "id": "5yuUFQCqsftI",
        "outputId": "322f603d-a6a7-4208-beb9-1276a5978a48"
      },
      "outputs": [],
      "source": [
        "#Show the complete Summary of the model\n",
        "learn.summary"
      ]
    },
    {
      "cell_type": "code",
      "execution_count": null,
      "metadata": {
        "id": "VMdKccGMsvpi"
      },
      "outputs": [],
      "source": [
        "learn.model_dir = '/content/drive/MyDrive/Fastai/'"
      ]
    },
    {
      "cell_type": "code",
      "execution_count": null,
      "metadata": {
        "colab": {
          "base_uri": "https://localhost:8080/",
          "height": 410
        },
        "id": "_QcuNpEvs1cB",
        "outputId": "270e8b17-f2bf-4783-f0f2-652aa4023acc"
      },
      "outputs": [],
      "source": [
        "learn.lr_find()\n",
        "learn.recorder.plot(suggestion=True)"
      ]
    },
    {
      "cell_type": "code",
      "execution_count": null,
      "metadata": {
        "colab": {
          "base_uri": "https://localhost:8080/",
          "height": 990
        },
        "id": "zRaiO-qVs6ok",
        "outputId": "26d8991a-69be-4326-b5a5-7ac8258e4989"
      },
      "outputs": [],
      "source": [
        "min_grad_lr =1e-2 # learn.recorder.min_grad_lr\n",
        "learn.fit_one_cycle(30, slice(min_grad_lr))"
      ]
    },
    {
      "cell_type": "code",
      "execution_count": null,
      "metadata": {
        "colab": {
          "base_uri": "https://localhost:8080/",
          "height": 279
        },
        "id": "LLjRtliotJSn",
        "outputId": "2fd581a6-86b8-478f-b5ea-719e8943b7ac"
      },
      "outputs": [],
      "source": [
        "learn.recorder.plot_losses()"
      ]
    },
    {
      "cell_type": "code",
      "execution_count": null,
      "metadata": {
        "colab": {
          "base_uri": "https://localhost:8080/",
          "height": 415
        },
        "id": "0ut392gJtPHm",
        "outputId": "d87ddf95-0b39-4a8f-c232-0a40c071f309"
      },
      "outputs": [],
      "source": [
        "#Display Predictions On Training Data\n",
        "learn.show_results(ds_type=DatasetType.Train,rows = 5)\n",
        "#Display Predictions On Validation Data\n",
        "learn.show_results(ds_type=DatasetType.Valid)"
      ]
    },
    {
      "cell_type": "code",
      "execution_count": null,
      "metadata": {
        "colab": {
          "base_uri": "https://localhost:8080/",
          "height": 104
        },
        "id": "bWstbmettUpN",
        "outputId": "b2a7846b-2619-4640-ece9-3cf4cbb8c415"
      },
      "outputs": [],
      "source": [
        "#Getting The Training And Validation Errors\n",
        "tr = learn.validate(learn.data.train_dl)\n",
        "va = learn.validate(learn.data.valid_dl)\n",
        "print(\"The Metrics used In Evaluating The Network:\", str(learn.metrics))\n",
        "print(\"\\nThe calculated RMSE & R-Squared For The Training Set :\", tr[1:])\n",
        "print(\"\\nThe calculated RMSE & R-Squared For The Validation Set :\", va[1:])"
      ]
    },
    {
      "cell_type": "code",
      "execution_count": null,
      "metadata": {
        "colab": {
          "base_uri": "https://localhost:8080/",
          "height": 762
        },
        "id": "vXj8sStAtaJ8",
        "outputId": "b018ee27-b2e1-4108-81b6-278fffa24ca9"
      },
      "outputs": [],
      "source": [
        "#Plotting Momentum & Learning Rate\n",
        "learn.recorder.plot_lr(show_moms=True)\n",
        "#Plotting the metrics of evaluation\n",
        "learn.recorder.plot_metrics()"
      ]
    },
    {
      "cell_type": "code",
      "execution_count": null,
      "metadata": {
        "colab": {
          "base_uri": "https://localhost:8080/"
        },
        "id": "ewkeXqyC5OMj",
        "outputId": "81996b46-1c2b-4ea9-e919-78ef2158c7b0"
      },
      "outputs": [],
      "source": [
        "learn.model.embeds"
      ]
    },
    {
      "cell_type": "code",
      "execution_count": null,
      "metadata": {
        "colab": {
          "base_uri": "https://localhost:8080/"
        },
        "id": "YiQEHPphAFUb",
        "outputId": "016cc0a3-6b76-4db0-f1de-f215ebc3cf74"
      },
      "outputs": [],
      "source": [
        "variable = 'suburb_id_x'\n",
        "ix = cat_names.index(variable)\n",
        "\n",
        "var_vals = list(df[variable].astype('category').cat.categories.values)\n",
        "nval = len(var_vals)\n",
        "print(f'Number of values: {nval}')\n",
        "print(var_vals)"
      ]
    },
    {
      "cell_type": "code",
      "execution_count": null,
      "metadata": {
        "id": "PrrpWcvO9Shc"
      },
      "outputs": [],
      "source": [
        "import altair as alt\n",
        "from sklearn.decomposition import PCA\n",
        "from sklearn.manifold import TSNE\n",
        "\n",
        "emb_mx = to_np(next(learn.model.embeds[ix].parameters()))\n",
        "# X_emb = TSNE(n_components=2, perplexity=3).fit_transform(emb_mx)\n",
        "X_emb = PCA(n_components=2).fit_transform(emb_mx)\n",
        "# annotation = np.append('Other', np.array(var_vals))\n",
        "annotation = np.array(var_vals)"
      ]
    },
    {
      "cell_type": "code",
      "execution_count": null,
      "metadata": {
        "colab": {
          "base_uri": "https://localhost:8080/"
        },
        "id": "-9th8PHHDCsW",
        "outputId": "b8a01900-d434-476d-8a48-3ddeab581727"
      },
      "outputs": [],
      "source": [
        "print(annotation)"
      ]
    },
    {
      "cell_type": "code",
      "execution_count": null,
      "metadata": {
        "id": "Cp1A8r4rAcS-"
      },
      "outputs": [],
      "source": [
        "emb_df = pd.DataFrame(X_emb, columns=['Dim1', 'Dim2'])\n",
        "emb_df[variable]=annotation"
      ]
    },
    {
      "cell_type": "code",
      "execution_count": null,
      "metadata": {
        "colab": {
          "base_uri": "https://localhost:8080/",
          "height": 369
        },
        "id": "9KVtO5d_DVfy",
        "outputId": "5fa1d6bd-b1af-4799-b86b-bae3a59ed99d"
      },
      "outputs": [],
      "source": [
        "points = alt.Chart(emb_df).mark_circle(size=60).encode(\n",
        "    x='Dim1',\n",
        "    y='Dim2',\n",
        "    tooltip=[variable]\n",
        ")\n",
        "\n",
        "text = points.mark_text(\n",
        "    align='left',\n",
        "    baseline='middle',\n",
        "    dx=7\n",
        ").encode(\n",
        "    text=variable\n",
        ")\n",
        "\n",
        "points + text"
      ]
    },
    {
      "cell_type": "code",
      "execution_count": null,
      "metadata": {
        "colab": {
          "base_uri": "https://localhost:8080/",
          "height": 17
        },
        "id": "WoZExLebtgLr",
        "outputId": "9a43e8e7-9ccd-46df-f244-8f4788dd2707"
      },
      "outputs": [],
      "source": [
        "test_predictions = learn.get_preds(ds_type=DatasetType.Test)[0]"
      ]
    },
    {
      "cell_type": "code",
      "execution_count": null,
      "metadata": {
        "colab": {
          "base_uri": "https://localhost:8080/",
          "height": 206
        },
        "id": "Rok1V4tgtnN1",
        "outputId": "0501fed9-474f-47fb-c65f-c6f4a8eb9d60"
      },
      "outputs": [],
      "source": [
        "import numpy as np\n",
        "\n",
        "#Converting the tensor output to a list of predicted values\n",
        "test_predictions = [np.exp(p[0].data.item()) for p in test_predictions]\n",
        "\n",
        "# Create \"submission.csv\" file\n",
        "submission = pd.DataFrame({'Id': test_df['id_combined'], 'price_value': test_df['price_value'], 'Predicted': test_predictions})\n",
        "submission.to_csv('submission.csv', index=False)\n",
        "submission.head()"
      ]
    },
    {
      "cell_type": "code",
      "execution_count": null,
      "metadata": {
        "id": "ZRH3yv62tsKt"
      },
      "outputs": [],
      "source": [
        "import pandas\n",
        "import matplotlib.pyplot as plt\n",
        "import statsmodels.api\n",
        "import statsmodels.formula.api as sm\n",
        "import scipy.stats as stats"
      ]
    },
    {
      "cell_type": "code",
      "execution_count": null,
      "metadata": {
        "colab": {
          "base_uri": "https://localhost:8080/",
          "height": 342
        },
        "id": "eac3EB5qtxJ8",
        "outputId": "cb1f806e-2b1b-4363-ba3a-e9a93388b3d1"
      },
      "outputs": [],
      "source": [
        "fig = plt.figure(figsize=[10, 10])\n",
        "ax = fig.add_subplot(2, 2, 1)\n",
        "ax.scatter(submission['price_value'], submission['Predicted'])\n",
        "ax.set_xlabel('value')\n",
        "ax.set_ylabel('predicted')\n",
        "ax.set_title(str(submission['Predicted'].corr(submission['price_value'])))"
      ]
    },
    {
      "cell_type": "code",
      "execution_count": null,
      "metadata": {
        "colab": {
          "base_uri": "https://localhost:8080/"
        },
        "id": "YdkbJqe8t4-g",
        "outputId": "fda16fc4-e0da-41ad-b3a3-6a9de2498840"
      },
      "outputs": [],
      "source": [
        "import numpy as np\n",
        "Y_true = submission['price_value']\n",
        "pred = submission['Predicted']\n",
        "\n",
        "\n",
        "#RMSLE\n",
        "error = np.square(np.log(pred + 1) - np.log(Y_true +1)).mean() ** 0.5\n",
        "print(error)\n",
        "\n",
        "score = 1 - error\n",
        "print(\"SCORE For test : \",score)\n"
      ]
    },
    {
      "cell_type": "code",
      "execution_count": null,
      "metadata": {
        "colab": {
          "base_uri": "https://localhost:8080/"
        },
        "id": "ZsjrQ2eieSk2",
        "outputId": "9c4239e9-4506-47f0-a4bc-0bd82d04e558"
      },
      "outputs": [],
      "source": [
        "from sklearn.metrics import r2_score\n",
        "\n",
        "r2_score(Y_true,pred)"
      ]
    },
    {
      "cell_type": "code",
      "execution_count": null,
      "metadata": {
        "colab": {
          "base_uri": "https://localhost:8080/"
        },
        "id": "rp6NtOYvhmZT",
        "outputId": "01a93bfc-39d1-4118-836b-591bcdfdaf9a"
      },
      "outputs": [],
      "source": [
        "import sklearn\n",
        "\n",
        "mse = sklearn.metrics.mean_squared_error(Y_true, pred)\n",
        "\n",
        "rmse = math.sqrt(mse)\n",
        "\n",
        "print(rmse)"
      ]
    },
    {
      "cell_type": "code",
      "execution_count": null,
      "metadata": {
        "colab": {
          "base_uri": "https://localhost:8080/",
          "height": 834
        },
        "id": "Ozs6ilNy6TsW",
        "outputId": "eab1c8da-e133-4160-e346-0692b9a3b785"
      },
      "outputs": [],
      "source": [
        "dfCopy = test_df.copy()\n",
        "dfCopy"
      ]
    },
    {
      "cell_type": "code",
      "execution_count": null,
      "metadata": {
        "colab": {
          "base_uri": "https://localhost:8080/",
          "height": 834
        },
        "id": "bwN-xGD06Vxd",
        "outputId": "2332992c-c7b7-4552-f129-f2c5ef42415b"
      },
      "outputs": [],
      "source": [
        "dfCopy['Predicted'] = test_predictions\n",
        "dfCopy"
      ]
    },
    {
      "cell_type": "code",
      "execution_count": null,
      "metadata": {
        "id": "VJJO6kQp64jq"
      },
      "outputs": [],
      "source": [
        "dfCopy.to_csv('/content/drive/MyDrive/QUTREProject/2020_Hedonic_Pricing_Test_results_experiment2_Tminus1.csv')\n",
        "dfCopy.to_pickle('/content/drive/MyDrive/QUTREProject/2020_Hedonic_Pricing_Test_results_experiment2_Tminus1.pkl')"
      ]
    }
  ],
  "metadata": {
    "colab": {
      "provenance": []
    },
    "kernelspec": {
      "display_name": "Python 3",
      "name": "python3"
    },
    "language_info": {
      "name": "python"
    }
  },
  "nbformat": 4,
  "nbformat_minor": 0
}
