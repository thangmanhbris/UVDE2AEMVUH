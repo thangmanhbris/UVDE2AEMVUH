{
  "cells": [
    {
      "cell_type": "code",
      "execution_count": null,
      "metadata": {
        "id": "Z37FqgzJl8s6"
      },
      "outputs": [],
      "source": [
        "!pip install fastai==2.6"
      ]
    },
    {
      "cell_type": "code",
      "execution_count": null,
      "metadata": {
        "id": "jDj-YrbqpD6q"
      },
      "outputs": [],
      "source": [
        "%reload_ext autoreload\n",
        "%autoreload 2\n",
        "%matplotlib inline"
      ]
    },
    {
      "cell_type": "code",
      "execution_count": null,
      "metadata": {
        "colab": {
          "base_uri": "https://localhost:8080/",
          "height": 36
        },
        "id": "9yfY2mtbqANy",
        "outputId": "ed40d4da-eb8f-4da8-d93f-144d1b3371fe"
      },
      "outputs": [
        {
          "data": {
            "application/vnd.google.colaboratory.intrinsic+json": {
              "type": "string"
            },
            "text/plain": [
              "'2.6.0'"
            ]
          },
          "execution_count": 51,
          "metadata": {},
          "output_type": "execute_result"
        }
      ],
      "source": [
        "import fastai; fastai.__version__"
      ]
    },
    {
      "cell_type": "code",
      "execution_count": null,
      "metadata": {
        "id": "4EzExS9PqE-p"
      },
      "outputs": [],
      "source": [
        "import pandas as pd\n",
        "from fastai.tabular.all import *"
      ]
    },
    {
      "cell_type": "code",
      "execution_count": null,
      "metadata": {
        "colab": {
          "base_uri": "https://localhost:8080/",
          "height": 661
        },
        "id": "7sPViOP3qLMe",
        "outputId": "4a626874-87d9-41fa-d24f-392d808cbd24"
      },
      "outputs": [],
      "source": [
        "# the datasets\n",
        "house_price_df = pd.read_csv(\"/content/drive/MyDrive/QUTREProject/Brisbane_suburbs_02_sales_2018_property_GB_Prop_dist16.csv\", index_col=0)\n",
        "house_price_df"
      ]
    },
    {
      "cell_type": "code",
      "execution_count": null,
      "metadata": {
        "colab": {
          "base_uri": "https://localhost:8080/",
          "height": 1000
        },
        "id": "JdyhoP9gWcb5",
        "outputId": "deaf89de-10db-42ee-8d09-fe3de0c526cc"
      },
      "outputs": [],
      "source": [
        " df_01 = house_price_df.loc[house_price_df['school_dist'] > 10000]\n",
        " df_01"
      ]
    },
    {
      "cell_type": "code",
      "execution_count": null,
      "metadata": {
        "colab": {
          "base_uri": "https://localhost:8080/",
          "height": 661
        },
        "id": "-D-pwfQ8WdX7",
        "outputId": "4aa2ade9-f9ed-4ddb-875d-c65d82890aa2"
      },
      "outputs": [],
      "source": [
        "house_price_df = house_price_df.drop(df_01.index)\n",
        "house_price_df"
      ]
    },
    {
      "cell_type": "code",
      "execution_count": null,
      "metadata": {
        "colab": {
          "base_uri": "https://localhost:8080/",
          "height": 661
        },
        "id": "wByPpl1iWq3c",
        "outputId": "9d212a68-91ff-434d-8b70-856e76c3904c"
      },
      "outputs": [],
      "source": [
        "house_price_df.reset_index(drop=True, inplace=True)\n",
        "house_price_df"
      ]
    },
    {
      "cell_type": "code",
      "execution_count": null,
      "metadata": {
        "id": "Rl_3KzfvL1S7"
      },
      "outputs": [],
      "source": [
        "# test_df = house_price_df.loc[(house_price_df['suburb_id_x']=='QLD1346') | (house_price_df['suburb_id_x']=='QLD627') | (house_price_df['suburb_id_x']=='QLD24') | \\\n",
        "#                          (house_price_df['suburb_id_x']=='QLD3231') | (house_price_df['suburb_id_x']=='QLD32') | (house_price_df['suburb_id_x']=='QLD510') | \\\n",
        "#                          (house_price_df['suburb_id_x']=='QLD545') | (house_price_df['suburb_id_x']=='QLD718') | (house_price_df['suburb_id_x']=='QLD389') ]\n",
        "# test_df"
      ]
    },
    {
      "cell_type": "code",
      "execution_count": null,
      "metadata": {
        "colab": {
          "base_uri": "https://localhost:8080/",
          "height": 661
        },
        "id": "nCJ2k_dSqVzd",
        "outputId": "c9e4c4cf-0f11-4a69-a565-a58bba2ff755"
      },
      "outputs": [],
      "source": [
        "train_df=house_price_df.sample(frac=0.8,random_state=200) #random state is a seed value\n",
        "test_df=house_price_df.drop(train_df.index)\n",
        "# train_df=house_price_df.drop(test_df.index)\n",
        "train_df.reset_index()\n",
        "test_df.reset_index()"
      ]
    },
    {
      "cell_type": "code",
      "execution_count": null,
      "metadata": {
        "colab": {
          "base_uri": "https://localhost:8080/",
          "height": 661
        },
        "id": "yjX6Fw-Gqdf9",
        "outputId": "c8196970-83d4-4713-b81d-1baf95aff0a1"
      },
      "outputs": [],
      "source": [
        "train_df.reset_index(drop=True, inplace=True)\n",
        "train_df"
      ]
    },
    {
      "cell_type": "code",
      "execution_count": null,
      "metadata": {
        "colab": {
          "base_uri": "https://localhost:8080/",
          "height": 661
        },
        "id": "369W-4ExqjUl",
        "outputId": "c56cc8b2-497d-4ea0-9676-4a9ea1fe0747"
      },
      "outputs": [],
      "source": [
        "test_df.reset_index(drop=True, inplace=True)\n",
        "test_df"
      ]
    },
    {
      "cell_type": "code",
      "execution_count": null,
      "metadata": {
        "colab": {
          "base_uri": "https://localhost:8080/"
        },
        "id": "_9TnXYGtqo5l",
        "outputId": "2fd140f2-8511-4f12-d3b2-a65d2571a1fd"
      },
      "outputs": [],
      "source": [
        "# Check the length of the dataset\n",
        "print(train_df.shape)\n",
        "print(test_df.shape)"
      ]
    },
    {
      "cell_type": "code",
      "execution_count": null,
      "metadata": {
        "colab": {
          "base_uri": "https://localhost:8080/",
          "height": 386
        },
        "id": "TJp2eQ7pq12A",
        "outputId": "cdc44253-fd79-46ac-8a10-02297ec82819"
      },
      "outputs": [],
      "source": [
        "train_df.head()"
      ]
    },
    {
      "cell_type": "code",
      "execution_count": null,
      "metadata": {
        "colab": {
          "base_uri": "https://localhost:8080/",
          "height": 386
        },
        "id": "-DdThoXwq54K",
        "outputId": "4ae59113-3c20-426b-e016-622d750fd4e4"
      },
      "outputs": [],
      "source": [
        "test_df.head()"
      ]
    },
    {
      "cell_type": "code",
      "execution_count": null,
      "metadata": {
        "colab": {
          "base_uri": "https://localhost:8080/"
        },
        "id": "DoJTp9bSrDOO",
        "outputId": "ee2ca9b6-d8de-4208-9cb9-0f1bf73e1348"
      },
      "outputs": [],
      "source": [
        "print(train_df.columns)"
      ]
    },
    {
      "cell_type": "code",
      "execution_count": null,
      "metadata": {
        "colab": {
          "base_uri": "https://localhost:8080/",
          "height": 394
        },
        "id": "Nmcld-nWrHAG",
        "outputId": "d7751683-30da-48e0-dce4-e0de77241ab0"
      },
      "outputs": [],
      "source": [
        "train_df.describe()"
      ]
    },
    {
      "cell_type": "code",
      "execution_count": null,
      "metadata": {
        "colab": {
          "base_uri": "https://localhost:8080/"
        },
        "id": "zZVXPhjorZxD",
        "outputId": "ecf1047f-1a63-4de7-a0d0-116ce5784ec0"
      },
      "outputs": [],
      "source": [
        "train_df.isnull().sum()"
      ]
    },
    {
      "cell_type": "code",
      "execution_count": null,
      "metadata": {
        "colab": {
          "base_uri": "https://localhost:8080/"
        },
        "id": "SUR8IWJurfQz",
        "outputId": "4aa8be3f-f621-409b-a4b8-57c9c12237f3"
      },
      "outputs": [],
      "source": [
        "# Let's check for the test set as well\n",
        "test_df.isnull().sum()"
      ]
    },
    {
      "cell_type": "code",
      "execution_count": null,
      "metadata": {
        "id": "ZeKzdGJ2riCF"
      },
      "outputs": [],
      "source": [
        "# Preprocessing\n",
        "procs = [Categorify, FillMissing, Normalize]\n",
        "#procs = [FillMissing, Normalize]"
      ]
    },
    {
      "cell_type": "code",
      "execution_count": null,
      "metadata": {
        "colab": {
          "base_uri": "https://localhost:8080/"
        },
        "id": "xsZW5mhproQj",
        "outputId": "5c5a86b0-0d6a-4a6c-858f-50bea8438b5d"
      },
      "outputs": [],
      "source": [
        "# Split our variables into target, categorical and continuous variables\n",
        "dep_var = 'price_value'\n",
        "\n",
        "cat_names = ['suburb_id_x']\n",
        "# cat_names = ['street_id_x']\n",
        "# cat_names = ['street_id_x', 'suburb_id_x']\n",
        "\n",
        "# cat_names = []\n",
        "cont_names = ['propertyFeatures_bedrooms_x', 'propertyFeatures_bathrooms_x', 'propertyFeatures_carparks_x', 'landDetails_propertyArea_x', 'school_dist'\\\n",
        "              , 'hospital_dist', 'uni_dist', 'park_dist', 'mall_dist', 'CBD_dist', 'First_year_transaction', 'highway_dist', 'bus_stop_dist', \\\n",
        "       'ferry_terminal_dist', 'railway_station_dist', 'number_transaction', \\\n",
        "       'crime_rate_2017', 'state_school_percentage', \\\n",
        "       'class_size_achievement_pct_2017', 'Density', 'Score2017']\n",
        "\n",
        "y_block = RegressionBlock()\n",
        "\n",
        "print(cat_names)\n",
        "print(cont_names)"
      ]
    },
    {
      "cell_type": "code",
      "execution_count": null,
      "metadata": {
        "id": "Dvv4CHeVEkCN"
      },
      "outputs": [],
      "source": [
        "splits = RandomSplitter()(range_of(train_df))\n",
        "to = TabularPandas(train_df, procs=procs, cat_names=cat_names, cont_names=cont_names,\n",
        "                   y_names=dep_var, y_block=y_block, splits=splits)"
      ]
    },
    {
      "cell_type": "code",
      "execution_count": null,
      "metadata": {
        "id": "y3o8mcJfFko8"
      },
      "outputs": [],
      "source": [
        "dls = to.dataloaders()"
      ]
    },
    {
      "cell_type": "code",
      "execution_count": null,
      "metadata": {
        "id": "gqzFglfHFq1p"
      },
      "outputs": [],
      "source": [
        "# trn_dl = TabDataLoader(to.train, bs=64, shuffle=True, drop_last=True)\n",
        "# val_dl = TabDataLoader(to.valid, bs=128)"
      ]
    },
    {
      "cell_type": "code",
      "execution_count": null,
      "metadata": {
        "id": "rNWiLBisFx45"
      },
      "outputs": [],
      "source": [
        "# dls = DataLoaders(trn_dl, val_dl)"
      ]
    },
    {
      "cell_type": "code",
      "execution_count": null,
      "metadata": {
        "colab": {
          "base_uri": "https://localhost:8080/",
          "height": 383
        },
        "id": "ag1WLAtnF47U",
        "outputId": "09135eb6-0aa6-45e7-ff6d-cf89d9304e95"
      },
      "outputs": [],
      "source": [
        "dls.show_batch()"
      ]
    },
    {
      "cell_type": "code",
      "execution_count": null,
      "metadata": {
        "id": "ICj7-w7hGjmP"
      },
      "outputs": [],
      "source": [
        "# emb_szs = get_emb_sz(to); emb_szs\n",
        "# cont_len = len(to.cont_names); cont_len\n",
        "\n",
        "# net = TabularModel(emb_szs, cont_len, 1, [200,100])"
      ]
    },
    {
      "cell_type": "code",
      "execution_count": null,
      "metadata": {
        "id": "OduEPqUbHKck"
      },
      "outputs": [],
      "source": [
        "# net"
      ]
    },
    {
      "cell_type": "code",
      "execution_count": null,
      "metadata": {
        "id": "wAP-MEwxVRGY"
      },
      "outputs": [],
      "source": [
        "learn = tabular_learner(dls, [200,100], metrics=rmse, loss_func=MSELossFlat())"
      ]
    },
    {
      "cell_type": "code",
      "execution_count": null,
      "metadata": {
        "colab": {
          "base_uri": "https://localhost:8080/",
          "height": 311
        },
        "id": "pbojQjTFVk5K",
        "outputId": "94f1a614-4f5a-44b4-e5ee-af9e1e39c1b3"
      },
      "outputs": [],
      "source": [
        "learn.lr_find()"
      ]
    },
    {
      "cell_type": "code",
      "execution_count": null,
      "metadata": {
        "colab": {
          "base_uri": "https://localhost:8080/",
          "height": 642
        },
        "id": "gEDG5ZbVnqqF",
        "outputId": "55440225-91a1-4cea-dfe5-19845b524128"
      },
      "outputs": [],
      "source": [
        "learn.summary()"
      ]
    },
    {
      "cell_type": "code",
      "execution_count": null,
      "metadata": {
        "colab": {
          "base_uri": "https://localhost:8080/",
          "height": 363
        },
        "id": "vc8b3mfzVqpr",
        "outputId": "6f9c2356-13eb-409d-fa35-654eae37535e"
      },
      "outputs": [],
      "source": [
        "learn.fit(10, 1e-2)\n",
        "# learn.fit_one_cycle(5, 3e-3, wd=0.2)"
      ]
    },
    {
      "cell_type": "code",
      "execution_count": null,
      "metadata": {
        "id": "VMdKccGMsvpi"
      },
      "outputs": [],
      "source": [
        "learn.model_dir = '/content/drive/MyDrive/Fastai/'"
      ]
    },
    {
      "cell_type": "code",
      "execution_count": null,
      "metadata": {
        "colab": {
          "base_uri": "https://localhost:8080/"
        },
        "id": "6i_yukjvoQYp",
        "outputId": "a23f220a-3fb3-480f-fb33-a43eb1ee7a9b"
      },
      "outputs": [],
      "source": [
        "learn.save('myModel')\n",
        "# del learn\n",
        "learn.load('myModel')"
      ]
    },
    {
      "cell_type": "code",
      "execution_count": null,
      "metadata": {
        "id": "0M7qbXgZYOmP"
      },
      "outputs": [],
      "source": [
        "test_dl = learn.dls.test_dl(test_df)"
      ]
    },
    {
      "cell_type": "code",
      "execution_count": null,
      "metadata": {
        "colab": {
          "base_uri": "https://localhost:8080/",
          "height": 661
        },
        "id": "lKFoWzsh8Nmk",
        "outputId": "1b1ea547-748d-4b3f-a554-248af8ef6415"
      },
      "outputs": [],
      "source": [
        "test_df"
      ]
    },
    {
      "cell_type": "code",
      "execution_count": null,
      "metadata": {
        "colab": {
          "base_uri": "https://localhost:8080/",
          "height": 34
        },
        "id": "WvNQFXIJEU1g",
        "outputId": "9c7cc831-11a7-4003-9895-4bc6a398ff3a"
      },
      "outputs": [],
      "source": [
        "learn.validate(dl=test_dl)"
      ]
    },
    {
      "cell_type": "code",
      "execution_count": null,
      "metadata": {
        "colab": {
          "base_uri": "https://localhost:8080/",
          "height": 17
        },
        "id": "WlMFinY4ZftB",
        "outputId": "f26bc548-1d0a-4afc-a250-71d13c5bbc8c"
      },
      "outputs": [],
      "source": [
        "# raw_test_preds = learn.get_preds(test_dl)\n",
        "inp, preds,_,dec_preds = learn.get_preds(dl=test_dl, with_input=True, with_decoded=True)\n",
        "# inp, preds= learn.get_preds(dl=test_dl)\n",
        "# preds = learn.get_preds(dl=test_dl)"
      ]
    },
    {
      "cell_type": "code",
      "execution_count": null,
      "metadata": {
        "colab": {
          "base_uri": "https://localhost:8080/"
        },
        "id": "ewkeXqyC5OMj",
        "outputId": "6708e196-9e43-4a45-af02-9d115b915f75"
      },
      "outputs": [],
      "source": [
        "learn.model.embeds"
      ]
    },
    {
      "cell_type": "code",
      "execution_count": null,
      "metadata": {
        "colab": {
          "base_uri": "https://localhost:8080/"
        },
        "id": "y-jqOGX4a6nC",
        "outputId": "0dd8df75-b447-46f4-949e-900cd239ac02"
      },
      "outputs": [],
      "source": [
        "print(preds)"
      ]
    },
    {
      "cell_type": "code",
      "execution_count": null,
      "metadata": {
        "id": "YiQEHPphAFUb"
      },
      "outputs": [],
      "source": [
        "# variable = 'suburb_id_x'\n",
        "# ix = cat_names.index(variable)\n",
        "\n",
        "# var_vals = list(df[variable].astype('category').cat.categories.values)\n",
        "# nval = len(var_vals)\n",
        "# print(f'Number of values: {nval}')\n",
        "# print(var_vals)"
      ]
    },
    {
      "cell_type": "code",
      "execution_count": null,
      "metadata": {
        "id": "PrrpWcvO9Shc"
      },
      "outputs": [],
      "source": [
        "# import altair as alt\n",
        "# from sklearn.decomposition import PCA\n",
        "# from sklearn.manifold import TSNE\n",
        "\n",
        "# emb_mx = to_np(next(learn.model.embeds[ix].parameters()))\n",
        "# # X_emb = TSNE(n_components=2, perplexity=3).fit_transform(emb_mx)\n",
        "# X_emb = PCA(n_components=2).fit_transform(emb_mx)\n",
        "# # annotation = np.append('Other', np.array(var_vals))\n",
        "# annotation = np.array(var_vals)"
      ]
    },
    {
      "cell_type": "code",
      "execution_count": null,
      "metadata": {
        "id": "-9th8PHHDCsW"
      },
      "outputs": [],
      "source": [
        "# print(annotation)"
      ]
    },
    {
      "cell_type": "code",
      "execution_count": null,
      "metadata": {
        "id": "Cp1A8r4rAcS-"
      },
      "outputs": [],
      "source": [
        "# emb_df = pd.DataFrame(X_emb, columns=['Dim1', 'Dim2'])\n",
        "# emb_df[variable]=annotation"
      ]
    },
    {
      "cell_type": "code",
      "execution_count": null,
      "metadata": {
        "id": "9KVtO5d_DVfy"
      },
      "outputs": [],
      "source": [
        "# points = alt.Chart(emb_df).mark_circle(size=60).encode(\n",
        "#     x='Dim1',\n",
        "#     y='Dim2',\n",
        "#     tooltip=[variable]\n",
        "# )\n",
        "\n",
        "# text = points.mark_text(\n",
        "#     align='left',\n",
        "#     baseline='middle',\n",
        "#     dx=7\n",
        "# ).encode(\n",
        "#     text=variable\n",
        "# )\n",
        "\n",
        "# points + text"
      ]
    },
    {
      "cell_type": "code",
      "execution_count": null,
      "metadata": {
        "colab": {
          "base_uri": "https://localhost:8080/",
          "height": 424
        },
        "id": "X8HvkDO-DIdJ",
        "outputId": "942dc2bb-b171-4928-ed02-924bbd474910"
      },
      "outputs": [],
      "source": [
        "# print(preds)\n",
        "df2 = pd.DataFrame(data=preds, columns=['Predicted'])\n",
        "df2"
      ]
    },
    {
      "cell_type": "code",
      "execution_count": null,
      "metadata": {
        "id": "Rok1V4tgtnN1"
      },
      "outputs": [],
      "source": [
        "# import numpy as np\n",
        "\n",
        "# #Converting the tensor output to a list of predicted values\n",
        "# # test_predictions = [np.exp(p[0].data.item()) for p in test_predictions]\n",
        "# # test_predictions = [(p[0].data.item()) for p in test_predictions]\n",
        "\n",
        "\n",
        "# # Create \"submission.csv\" file\n",
        "# submission = pd.DataFrame({'Id': test_df['id_combined'], 'price_value': test_df['price_value'], 'Predicted': preds})\n",
        "# submission.to_csv('submission.csv', index=False)\n",
        "# submission.head()"
      ]
    },
    {
      "cell_type": "code",
      "execution_count": null,
      "metadata": {
        "id": "ZRH3yv62tsKt"
      },
      "outputs": [],
      "source": [
        "import pandas\n",
        "import matplotlib.pyplot as plt\n",
        "import statsmodels.api\n",
        "import statsmodels.formula.api as sm\n",
        "import scipy.stats as stats"
      ]
    },
    {
      "cell_type": "code",
      "execution_count": null,
      "metadata": {
        "id": "eac3EB5qtxJ8"
      },
      "outputs": [],
      "source": [
        "fig = plt.figure(figsize=[10, 10])\n",
        "ax = fig.add_subplot(2, 2, 1)\n",
        "ax.scatter(submission['price_value'], submission['Predicted'])\n",
        "ax.set_xlabel('value')\n",
        "ax.set_ylabel('predicted')\n",
        "ax.set_title(str(submission['Predicted'].corr(submission['price_value'])))"
      ]
    },
    {
      "cell_type": "code",
      "execution_count": null,
      "metadata": {
        "id": "YdkbJqe8t4-g"
      },
      "outputs": [],
      "source": [
        "import numpy as np\n",
        "Y_true = submission['price_value']\n",
        "pred = submission['Predicted']\n",
        "\n",
        "\n",
        "#RMSLE\n",
        "error = np.square(np.log(pred + 1) - np.log(Y_true +1)).mean() ** 0.5\n",
        "print(error)\n",
        "\n",
        "score = 1 - error\n",
        "print(\"SCORE For test : \",score)\n"
      ]
    },
    {
      "cell_type": "code",
      "execution_count": null,
      "metadata": {
        "id": "Ozs6ilNy6TsW"
      },
      "outputs": [],
      "source": [
        "dfCopy = test_df.copy()\n",
        "dfCopy"
      ]
    },
    {
      "cell_type": "code",
      "execution_count": null,
      "metadata": {
        "id": "bwN-xGD06Vxd"
      },
      "outputs": [],
      "source": [
        "dfCopy['Predicted'] = test_predictions\n",
        "dfCopy"
      ]
    },
    {
      "cell_type": "code",
      "execution_count": null,
      "metadata": {
        "id": "VJJO6kQp64jq"
      },
      "outputs": [],
      "source": [
        "# dfCopy.to_csv('/content/drive/MyDrive/QUTREProject/2018_Hedonic_Pricing_Test_results_new2.csv')\n",
        "# dfCopy.to_pickle('/content/drive/MyDrive/QUTREProject/2018_Hedonic_Pricing_Test_results_new2.pkl')"
      ]
    }
  ],
  "metadata": {
    "colab": {
      "provenance": []
    },
    "kernelspec": {
      "display_name": "Python 3",
      "name": "python3"
    },
    "language_info": {
      "name": "python"
    }
  },
  "nbformat": 4,
  "nbformat_minor": 0
}
