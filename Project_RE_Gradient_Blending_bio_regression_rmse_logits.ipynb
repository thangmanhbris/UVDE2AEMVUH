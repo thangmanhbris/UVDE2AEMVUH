{
  "cells": [
    {
      "cell_type": "code",
      "execution_count": null,
      "metadata": {
        "id": "AsIyESnFt085"
      },
      "outputs": [],
      "source": [
        "# !pip install fastai==2.6"
      ]
    },
    {
      "cell_type": "code",
      "execution_count": null,
      "metadata": {
        "id": "0d94TvX9eYTk"
      },
      "outputs": [],
      "source": [
        "# !mkdir /content/Bing_data"
      ]
    },
    {
      "cell_type": "code",
      "execution_count": null,
      "metadata": {
        "id": "EJmVvfEdtLub"
      },
      "outputs": [],
      "source": [
        "# !mkdir /content/Google_data"
      ]
    },
    {
      "cell_type": "code",
      "execution_count": null,
      "metadata": {
        "id": "U2oSUFc8erY7"
      },
      "outputs": [],
      "source": [
        "# #/content/drive/MyDrive/Sync/BingImage-ACACIA_RIDGE_QLD7.zip\n",
        "\n",
        "# import zipfile\n",
        "\n",
        "# zip_file = \"/content/drive/MyDrive/dataset/Bing_data06.zip\"\n",
        "\n",
        "# try:\n",
        "#     with zipfile.ZipFile(zip_file) as z:\n",
        "#         z.extractall(\"/content/Bing_data/\")\n",
        "#         print(\"Extracted all\")\n",
        "# except:\n",
        "#     print(\"Invalid file\")"
      ]
    },
    {
      "cell_type": "code",
      "execution_count": null,
      "metadata": {
        "id": "5UTp3C7wtWPW"
      },
      "outputs": [],
      "source": [
        "# #/content/drive/MyDrive/Sync/BingImage-ACACIA_RIDGE_QLD7.zip\n",
        "\n",
        "# import zipfile\n",
        "\n",
        "# zip_file = \"/content/drive/MyDrive/dataset/Google_data06.zip\"\n",
        "\n",
        "# try:\n",
        "#     with zipfile.ZipFile(zip_file) as z:\n",
        "#         z.extractall(\"/content/Google_data/\")\n",
        "#         print(\"Extracted all\")\n",
        "# except:\n",
        "#     print(\"Invalid file\")"
      ]
    },
    {
      "cell_type": "markdown",
      "metadata": {
        "id": "76sI1O1naOE4"
      },
      "source": [
        "# FastAI Data"
      ]
    },
    {
      "cell_type": "markdown",
      "metadata": {
        "id": "noEU8_FEaOFD"
      },
      "source": [
        "inport libraries"
      ]
    },
    {
      "cell_type": "code",
      "execution_count": null,
      "metadata": {
        "colab": {
          "base_uri": "https://localhost:8080/",
          "height": 36
        },
        "id": "wcW_M071by6o",
        "outputId": "cc7f512f-0367-4fce-e1aa-3a84d24a49ef"
      },
      "outputs": [],
      "source": [
        "import fastai; fastai.__version__"
      ]
    },
    {
      "cell_type": "code",
      "execution_count": null,
      "metadata": {
        "colab": {
          "base_uri": "https://localhost:8080/"
        },
        "id": "oxxv5-xvtOV-",
        "outputId": "47bd9fed-5852-4f41-8b6b-a81a4625c6de"
      },
      "outputs": [],
      "source": [
        "import torch\n",
        "\n",
        "device = torch.device(\"cuda:0\" if torch.cuda.is_available() else \"cpu\")\n",
        "device"
      ]
    },
    {
      "cell_type": "code",
      "execution_count": null,
      "metadata": {
        "id": "VYoOqOitcX9e"
      },
      "outputs": [],
      "source": [
        "# #/content/drive/MyDrive/Sync/BingImage-ACACIA_RIDGE_QLD7.zip\n",
        "\n",
        "# import zipfile\n",
        "\n",
        "# zip_file = \"/content/drive/MyDrive/data/marker_BillaCTPR.zip\"\n",
        "\n",
        "# try:\n",
        "#     with zipfile.ZipFile(zip_file) as z:\n",
        "#         z.extractall(\"/content/sample_data/\")\n",
        "#         print(\"Extracted all\")\n",
        "# except:\n",
        "#     print(\"Invalid file\")"
      ]
    },
    {
      "cell_type": "code",
      "execution_count": null,
      "metadata": {
        "id": "o4lwhlKBaOFF"
      },
      "outputs": [],
      "source": [
        "from fastai.tabular.all import *\n",
        "from fastai.vision.all import *\n",
        "#from fastai2.medical.imaging import *"
      ]
    },
    {
      "cell_type": "code",
      "execution_count": null,
      "metadata": {
        "id": "kYADijWKZywN"
      },
      "outputs": [],
      "source": [
        "# cd /content/drive/MyDrive/image_tabular-master"
      ]
    },
    {
      "cell_type": "code",
      "execution_count": null,
      "metadata": {
        "id": "50jqsGX1Z9fD"
      },
      "outputs": [],
      "source": [
        "# from image_tabular.model import *"
      ]
    },
    {
      "cell_type": "markdown",
      "metadata": {
        "id": "phWijF9gaOFI"
      },
      "source": [
        "## DataLoaders"
      ]
    },
    {
      "cell_type": "markdown",
      "metadata": {
        "id": "dg_9K5ZMaOFJ"
      },
      "source": [
        "## Data"
      ]
    },
    {
      "cell_type": "markdown",
      "metadata": {
        "id": "_W2t8_fRaOFK"
      },
      "source": [
        "Load data from files"
      ]
    },
    {
      "cell_type": "code",
      "execution_count": null,
      "metadata": {
        "colab": {
          "base_uri": "https://localhost:8080/",
          "height": 661
        },
        "id": "fj0w3WLCihjF",
        "outputId": "5c2ae47d-2bf1-43f8-909e-58669138dd1a"
      },
      "outputs": [],
      "source": [
        "house_price_df = pd.read_csv('/content/drive/MyDrive/data/Brisbane_suburbs_02_sales_2018_property_GB_Prop_dist16_new.csv', index_col=0)\n",
        "house_price_df"
      ]
    },
    {
      "cell_type": "code",
      "execution_count": null,
      "metadata": {
        "colab": {
          "base_uri": "https://localhost:8080/",
          "height": 661
        },
        "id": "dKKyo9kygrZk",
        "outputId": "fd2dd3a7-4303-4463-b961-183bd0b8d841"
      },
      "outputs": [],
      "source": [
        "dep_var = 'price_value'\n",
        "house_price_df[dep_var] = np.log(house_price_df[dep_var])\n",
        "house_price_df"
      ]
    },
    {
      "cell_type": "code",
      "execution_count": null,
      "metadata": {
        "colab": {
          "base_uri": "https://localhost:8080/"
        },
        "id": "fAvC1pqrhmO4",
        "outputId": "472a4187-ba28-4267-c707-5fc9254d3166"
      },
      "outputs": [],
      "source": [
        "house_price_df.columns"
      ]
    },
    {
      "cell_type": "code",
      "execution_count": null,
      "metadata": {
        "id": "TnTLLkVjYIer"
      },
      "outputs": [],
      "source": [
        "# billa_pro_legume.loc[(billa_pro_legume.Legume >= 50), 'Legume'] = 1\n",
        "# billa_pro_legume.loc[(billa_pro_legume.Legume < 50), 'Legume'] = 0\n",
        "# billa_pro_legume"
      ]
    },
    {
      "cell_type": "code",
      "execution_count": null,
      "metadata": {
        "colab": {
          "base_uri": "https://localhost:8080/",
          "height": 661
        },
        "id": "ltflwH05I2mo",
        "outputId": "4322ff0f-2806-41a4-c187-6b0f506f5fc7"
      },
      "outputs": [],
      "source": [
        "test_df = house_price_df.loc[(house_price_df['suburb_id_x']=='QLD1346') | (house_price_df['suburb_id_x']=='QLD627') | (house_price_df['suburb_id_x']=='QLD24') | \\\n",
        "                         (house_price_df['suburb_id_x']=='QLD3231') | (house_price_df['suburb_id_x']=='QLD32') | (house_price_df['suburb_id_x']=='QLD510') | \\\n",
        "                         (house_price_df['suburb_id_x']=='QLD545') | (house_price_df['suburb_id_x']=='QLD718') | (house_price_df['suburb_id_x']=='QLD389') ]\n",
        "test_df"
      ]
    },
    {
      "cell_type": "code",
      "execution_count": null,
      "metadata": {
        "colab": {
          "base_uri": "https://localhost:8080/",
          "height": 661
        },
        "id": "LufuBZ1si277",
        "outputId": "ecdb4e76-b5fb-4e57-db13-84fea5b67225"
      },
      "outputs": [],
      "source": [
        "# train_df=billa_pro_legume.sample(frac=0.5,random_state=200) #random state is a seed value\n",
        "# test_df=billa_pro_legume.drop(train_df.index)\n",
        "# train_df=house_price_df.drop(test_df.index)\n",
        "train_df=house_price_df.drop(test_df.index)\n",
        "train_df.reset_index()\n",
        "test_df.reset_index()"
      ]
    },
    {
      "cell_type": "code",
      "execution_count": null,
      "metadata": {
        "colab": {
          "base_uri": "https://localhost:8080/",
          "height": 661
        },
        "id": "g_fPYqnxi8Cd",
        "outputId": "62641901-d299-4a30-94b3-01a63bd9f515"
      },
      "outputs": [],
      "source": [
        "train_df.reset_index(drop=True, inplace=True)\n",
        "train_df"
      ]
    },
    {
      "cell_type": "code",
      "execution_count": null,
      "metadata": {
        "colab": {
          "base_uri": "https://localhost:8080/",
          "height": 661
        },
        "id": "rRPmH7qqjFxo",
        "outputId": "29b942af-938f-424e-f292-44cd457cf049"
      },
      "outputs": [],
      "source": [
        "test_df.reset_index(drop=True, inplace=True)\n",
        "test_df"
      ]
    },
    {
      "cell_type": "code",
      "execution_count": null,
      "metadata": {
        "id": "mZE6ouHAaOFM"
      },
      "outputs": [],
      "source": [
        "# path = Path(\"/content/sample_data/marker/\")\n",
        "# path = Path(\"/content/sample_data/marker_BillaCTPR/marker/\")\n",
        "\n",
        "# path = Path(\"/content/Bing_data/\")\n",
        "path = Path(\"/content/Google_data/\")"
      ]
    },
    {
      "cell_type": "code",
      "execution_count": null,
      "metadata": {
        "id": "tEqc2t4paOFO"
      },
      "outputs": [],
      "source": [
        "# train_df = pd.read_csv(path/'train.csv')\n",
        "# test_df = pd.read_csv(path/'test.csv')"
      ]
    },
    {
      "cell_type": "code",
      "execution_count": null,
      "metadata": {
        "colab": {
          "base_uri": "https://localhost:8080/",
          "height": 386
        },
        "id": "AC8vaVZ3aOFP",
        "outputId": "3abe3c20-1576-4523-ed58-784d1ce2486c"
      },
      "outputs": [],
      "source": [
        "train_df.head()"
      ]
    },
    {
      "cell_type": "code",
      "execution_count": null,
      "metadata": {
        "id": "KELxN7VraOFT"
      },
      "outputs": [],
      "source": [
        "# train_df['image_name'] = 'train/' + train_df['image_name'].astype(str)\n",
        "# test_df['image_name'] = 'test/' + test_df['image_name'].astype(str)\n",
        "\n",
        "# train_df.head(3)"
      ]
    },
    {
      "cell_type": "code",
      "execution_count": null,
      "metadata": {
        "id": "FYvRmPRGaOFV"
      },
      "outputs": [],
      "source": [
        "#df.groupby('target').sum()\n",
        "#df.groupby('target').sum().values[1]/(df.groupby('target').sum().values[0]+df.groupby('target').sum().values[1])"
      ]
    },
    {
      "cell_type": "code",
      "execution_count": null,
      "metadata": {
        "colab": {
          "base_uri": "https://localhost:8080/"
        },
        "id": "KyROht0kaOFW",
        "outputId": "78299852-5ea3-479f-c3d7-61de42862a2f"
      },
      "outputs": [],
      "source": [
        "len(train_df)"
      ]
    },
    {
      "cell_type": "code",
      "execution_count": null,
      "metadata": {
        "id": "Wbg7kfPRaOFY"
      },
      "outputs": [],
      "source": [
        "# pos_len = len(train_df.query('target==1'));pos_len"
      ]
    },
    {
      "cell_type": "code",
      "execution_count": null,
      "metadata": {
        "colab": {
          "base_uri": "https://localhost:8080/"
        },
        "id": "Focni0CiaOFY",
        "outputId": "704749e3-bc49-44c1-97bf-3eaad003f65b",
        "scrolled": true
      },
      "outputs": [],
      "source": [
        "# df = train_df.loc[train_df.target==0].sample(pos_len).copy()\n",
        "# df = pd.concat([df, train_df.loc[train_df.target==1].copy()])\n",
        "# len(df)\n",
        "# df = house_price_df.copy()\n",
        "df = train_df.copy()\n",
        "# df = test_df.copy()\n",
        "len(df)"
      ]
    },
    {
      "cell_type": "markdown",
      "metadata": {
        "id": "0lrJrjJUaOFa"
      },
      "source": [
        "## Tabular `DataLoader`"
      ]
    },
    {
      "cell_type": "code",
      "execution_count": null,
      "metadata": {
        "id": "etLYLKdI3rt1"
      },
      "outputs": [],
      "source": [
        "# dep_var = 'Yield'\n",
        "\n",
        "dep_var = 'price_value'\n",
        "\n",
        "cont_names = ['propertyFeatures_bedrooms_x', 'propertyFeatures_bathrooms_x', 'propertyFeatures_carparks_x', 'landDetails_propertyArea_x', 'school_dist'\\\n",
        "              , 'hospital_dist', 'uni_dist', 'park_dist', 'mall_dist', 'CBD_dist', 'First_year_transaction', 'highway_dist', 'bus_stop_dist', \\\n",
        "       'ferry_terminal_dist', 'railway_station_dist', 'number_transaction', \\\n",
        "       'crime_rate_2017', 'state_school_percentage', \\\n",
        "       'class_size_achievement_pct_2017', 'Density', 'Score2017']\n",
        "\n",
        "# cont,cat = cont_cat_split(df, 1, dep_var=dep_var)\n",
        "cat = []\n"
      ]
    },
    {
      "cell_type": "code",
      "execution_count": null,
      "metadata": {
        "id": "tAE0tqxM4Mm4"
      },
      "outputs": [],
      "source": [
        "# print(cont)"
      ]
    },
    {
      "cell_type": "code",
      "execution_count": null,
      "metadata": {
        "id": "hSwmJkKf4BYl"
      },
      "outputs": [],
      "source": [
        "# cont_names = ['NDVI_S2_median', 'EVI_S2_median', 'OSAVI_S2_median', 'FCVI_S2_median', 'RGBVI_S2_median', 'GLI_S2_median', 'MBI_S2_median', 'NDDI_S2_median', 'NDREI_S2_median', 'PSRI_S2_median', 'NDMI_S2_median', 'NMDI_S2_median', 'MSI_S2_median', 'B1_S2_median', 'B2_S2_median', 'B3_S2_median', 'B4_S2_median', 'B5_S2_median', 'B6_S2_median', 'B7_S2_median', 'B8_S2_median', 'B8A_S2_median', 'B9_S2_median', 'B11_S2_median', 'B12_S2_median', 'NDVI_S2_stdDev', 'EVI_S2_stdDev', 'OSAVI_S2_stdDev', 'FCVI_S2_stdDev', 'RGBVI_S2_stdDev', 'GLI_S2_stdDev', 'MBI_S2_stdDev', 'NDDI_S2_stdDev', 'NDREI_S2_stdDev', 'PSRI_S2_stdDev', 'NDMI_S2_stdDev', 'NMDI_S2_stdDev', 'MSI_S2_stdDev', 'B1_S2_stdDev', 'B2_S2_stdDev', 'B3_S2_stdDev', 'B4_S2_stdDev', 'B5_S2_stdDev', 'B6_S2_stdDev', 'B7_S2_stdDev', 'B8_S2_stdDev', 'B8A_S2_stdDev', 'B9_S2_stdDev', 'B11_S2_stdDev', 'B12_S2_stdDev', 'NDVI_S2_min', 'NDVI_S2_max', 'EVI_S2_min', 'EVI_S2_max', 'OSAVI_S2_min', 'OSAVI_S2_max', 'FCVI_S2_min', 'FCVI_S2_max', 'RGBVI_S2_min', 'RGBVI_S2_max', 'GLI_S2_min', 'GLI_S2_max', 'MBI_S2_min', 'MBI_S2_max', 'NDDI_S2_min', 'NDDI_S2_max', 'NDREI_S2_min', 'NDREI_S2_max', 'PSRI_S2_min', 'PSRI_S2_max', 'NDMI_S2_min', 'NDMI_S2_max', 'NMDI_S2_min', 'NMDI_S2_max', 'MSI_S2_min', 'MSI_S2_max', 'B1_S2_min', 'B1_S2_max', 'B2_S2_min', 'B2_S2_max', 'B3_S2_min', 'B3_S2_max', 'B4_S2_min', 'B4_S2_max', 'B5_S2_min', 'B5_S2_max', 'B6_S2_min', 'B6_S2_max', 'B7_S2_min', 'B7_S2_max', 'B8_S2_min', 'B8_S2_max', 'B8A_S2_min', 'B8A_S2_max', 'B9_S2_min', 'B9_S2_max', 'B11_S2_min', 'B11_S2_max', 'B12_S2_min', 'B12_S2_max', 'NDVI_S2_p25', 'NDVI_S2_p75', 'EVI_S2_p25', 'EVI_S2_p75', 'OSAVI_S2_p25', 'OSAVI_S2_p75', 'FCVI_S2_p25', 'FCVI_S2_p75', 'RGBVI_S2_p25', 'RGBVI_S2_p75', 'GLI_S2_p25', 'GLI_S2_p75', 'MBI_S2_p25', 'MBI_S2_p75', 'NDDI_S2_p25', 'NDDI_S2_p75', 'NDREI_S2_p25', 'NDREI_S2_p75', 'PSRI_S2_p25', 'PSRI_S2_p75', 'NDMI_S2_p25', 'NDMI_S2_p75', 'NMDI_S2_p25', 'NMDI_S2_p75', 'MSI_S2_p25', 'MSI_S2_p75', 'B1_S2_p25', 'B1_S2_p75', 'B2_S2_p25', 'B2_S2_p75', 'B3_S2_p25', 'B3_S2_p75', 'B4_S2_p25', 'B4_S2_p75', 'B5_S2_p25', 'B5_S2_p75', 'B6_S2_p25', 'B6_S2_p75', 'B7_S2_p25', 'B7_S2_p75', 'B8_S2_p25', 'B8_S2_p75', 'B8A_S2_p25', 'B8A_S2_p75', 'B9_S2_p25', 'B9_S2_p75', 'B11_S2_p25', 'B11_S2_p75', 'B12_S2_p25', 'B12_S2_p75', 'NDVI_S2_kurtosis', 'EVI_S2_kurtosis', 'OSAVI_S2_kurtosis', 'FCVI_S2_kurtosis', 'RGBVI_S2_kurtosis', 'GLI_S2_kurtosis', 'MBI_S2_kurtosis', 'NDDI_S2_kurtosis', 'NDREI_S2_kurtosis', 'PSRI_S2_kurtosis', 'NDMI_S2_kurtosis', 'NMDI_S2_kurtosis', 'MSI_S2_kurtosis', 'B1_S2_kurtosis', 'B2_S2_kurtosis', 'B3_S2_kurtosis', 'B4_S2_kurtosis', 'B5_S2_kurtosis', 'B6_S2_kurtosis', 'B7_S2_kurtosis', 'B8_S2_kurtosis', 'B8A_S2_kurtosis', 'B9_S2_kurtosis', 'B11_S2_kurtosis', 'B12_S2_kurtosis', 'NDVI_S2_skew', 'EVI_S2_skew', 'OSAVI_S2_skew', 'FCVI_S2_skew', 'RGBVI_S2_skew', 'GLI_S2_skew', 'MBI_S2_skew', 'NDDI_S2_skew', 'NDREI_S2_skew', 'PSRI_S2_skew', 'NDMI_S2_skew', 'NMDI_S2_skew', 'MSI_S2_skew', 'B1_S2_skew', 'B2_S2_skew', 'B3_S2_skew', 'B4_S2_skew', 'B5_S2_skew', 'B6_S2_skew', 'B7_S2_skew', 'B8_S2_skew', 'B8A_S2_skew', 'B9_S2_skew', 'B11_S2_skew', 'B12_S2_skew', 'TCB_median', 'TCG_median', 'TCW_median', 'TCB_stdDev', 'TCG_stdDev', 'TCW_stdDev', 'TCB_min', 'TCB_max', 'TCG_min', 'TCG_max', 'TCW_min', 'TCW_max', 'TCB_p25', 'TCB_p75', 'TCG_p25', 'TCG_p75', 'TCW_p25', 'TCW_p75', 'TCB_kurtosis', 'TCG_kurtosis', 'TCW_kurtosis', 'TCB_skew', 'TCG_skew', 'TCW_skew', 'DPDD_median', 'NDPolI_median', 'RVI_median', 'VHVVR_median', 'VV_median', 'VH_median', 'DPDD_stdDev', 'NDPolI_stdDev', 'RVI_stdDev', 'VHVVR_stdDev', 'VV_stdDev', 'VH_stdDev', 'DPDD_min', 'DPDD_max', 'NDPolI_min', 'NDPolI_max', 'RVI_min', 'RVI_max', 'VHVVR_min', 'VHVVR_max', 'VV_min', 'VV_max', 'VH_min', 'VH_max', 'DPDD_p25', 'DPDD_p75', 'NDPolI_p25', 'NDPolI_p75', 'RVI_p25', 'RVI_p75', 'VHVVR_p25', 'VHVVR_p75', 'VV_p25', 'VV_p75', 'VH_p25', 'VH_p75', 'DPDD_kurtosis', 'NDPolI_kurtosis', 'RVI_kurtosis', 'VHVVR_kurtosis', 'VV_kurtosis', 'VH_kurtosis', 'DPDD_skew', 'NDPolI_skew', 'RVI_skew', 'VHVVR_skew', 'VV_skew', 'VH_skew', 'NDVI_LS_median', 'EVI_LS_median', 'OSAVI_LS_median', 'FCVI_LS_median', 'RGBVI_LS_median', 'GLI_LS_median', 'MBI_LS_median', 'NDDI_LS_median', 'NDMI_LS_median', 'NMDI_LS_median', 'MSI_LS_median', 'NDVI_LS_stdDev', 'EVI_LS_stdDev', 'OSAVI_LS_stdDev', 'FCVI_LS_stdDev', 'RGBVI_LS_stdDev', 'GLI_LS_stdDev', 'MBI_LS_stdDev', 'NDDI_LS_stdDev', 'NDMI_LS_stdDev', 'NMDI_LS_stdDev', 'MSI_LS_stdDev', 'NDVI_LS_min', 'NDVI_LS_max', 'EVI_LS_min', 'EVI_LS_max', 'OSAVI_LS_min', 'OSAVI_LS_max', 'FCVI_LS_min', 'FCVI_LS_max', 'RGBVI_LS_min', 'RGBVI_LS_max', 'GLI_LS_min', 'GLI_LS_max', 'MBI_LS_min', 'MBI_LS_max', 'NDDI_LS_min', 'NDDI_LS_max', 'NDMI_LS_min', 'NDMI_LS_max', 'NMDI_LS_min', 'NMDI_LS_max', 'MSI_LS_min', 'MSI_LS_max', 'NDVI_LS_p25', 'NDVI_LS_p75', 'EVI_LS_p25', 'EVI_LS_p75', 'OSAVI_LS_p25', 'OSAVI_LS_p75', 'FCVI_LS_p25', 'FCVI_LS_p75', 'RGBVI_LS_p25', 'RGBVI_LS_p75', 'GLI_LS_p25', 'GLI_LS_p75', 'MBI_LS_p25', 'MBI_LS_p75', 'NDDI_LS_p25', 'NDDI_LS_p75', 'NDMI_LS_p25', 'NDMI_LS_p75', 'NMDI_LS_p25', 'NMDI_LS_p75', 'MSI_LS_p25', 'MSI_LS_p75', 'NDVI_LS_kurtosis', 'EVI_LS_kurtosis', 'OSAVI_LS_kurtosis', 'FCVI_LS_kurtosis', 'RGBVI_LS_kurtosis', 'GLI_LS_kurtosis', 'MBI_LS_kurtosis', 'NDDI_LS_kurtosis', 'NDMI_LS_kurtosis', 'NMDI_LS_kurtosis', 'MSI_LS_kurtosis', 'NDVI_LS_skew', 'EVI_LS_skew', 'OSAVI_LS_skew', 'FCVI_LS_skew', 'RGBVI_LS_skew', 'GLI_LS_skew', 'MBI_LS_skew', 'NDDI_LS_skew', 'NDMI_LS_skew', 'NMDI_LS_skew', 'MSI_LS_skew', 'ETa_median', 'ETa_stdDev', 'ETa_min', 'ETa_max', 'ETa_p25', 'ETa_p75', 'ETa_kurtosis', 'ETa_skew', 'monthly_rain_median', 'monthly_rain_stdDev', 'monthly_rain_min', 'monthly_rain_max', 'monthly_rain_p25', 'monthly_rain_p75', 'monthly_rain_kurtosis', 'monthly_rain_skew', 'tmmn_median', 'tmmx_median', 'srad_median', 'vpd_median', 'vs_median', 'tmmn_stdDev', 'tmmx_stdDev', 'srad_stdDev', 'vpd_stdDev', 'vs_stdDev', 'tmmn_min', 'tmmn_max', 'tmmx_min', 'tmmx_max', 'srad_min', 'srad_max', 'vpd_min', 'vpd_max', 'vs_min', 'vs_max', 'tmmn_p25', 'tmmn_p75', 'tmmx_p25', 'tmmx_p75', 'srad_p25', 'srad_p75', 'vpd_p25', 'vpd_p75', 'vs_p25', 'vs_p75', 'tmmn_kurtosis', 'tmmx_kurtosis', 'srad_kurtosis', 'vpd_kurtosis', 'vs_kurtosis', 'tmmn_skew', 'tmmx_skew', 'srad_skew', 'vpd_skew', 'vs_skew', 'NDVI_S2_st', 'EVI_S2_st', 'OSAVI_S2_st', 'FCVI_S2_st', 'RGBVI_S2_st', 'GLI_S2_st', 'MBI_S2_st', 'NDDI_S2_st', 'NDREI_S2_st', 'PSRI_S2_st', 'NDMI_S2_st', 'NMDI_S2_st', 'MSI_S2_st', 'B1_S2_st', 'B2_S2_st', 'B3_S2_st', 'B4_S2_st', 'B5_S2_st', 'B6_S2_st', 'B7_S2_st', 'B8_S2_st', 'B8A_S2_st', 'B9_S2_st', 'B11_S2_st', 'B12_S2_st', 'TCB_st', 'TCG_st', 'TCW_st', 'DPDD_st', 'NDPolI_st', 'RVI_st', 'VHVVR_st', 'VV_st', 'VH_st', 'NDVI_LS_st', 'EVI_LS_st', 'OSAVI_LS_st', 'FCVI_LS_st', 'RGBVI_LS_st', 'GLI_LS_st', 'MBI_LS_st', 'NDDI_LS_st', 'NDMI_LS_st', 'NMDI_LS_st', 'MSI_LS_st', 'ETa_st', 'monthly_rain_st', 'tmmn_st', 'tmmx_st', 'srad_st', 'vpd_st', 'vs_st', 'K', 'U', 'Th', 'SOC', 'CLY', 'dem']"
      ]
    },
    {
      "cell_type": "code",
      "execution_count": null,
      "metadata": {
        "id": "ZqhfTLP7aOFb"
      },
      "outputs": [],
      "source": [
        "# cols = ['Lon', 'Lat', 'py',       'px', 'Yield', 'fname',       'Legume']\n",
        "# df = df[cols]\n",
        "procs = [Categorify, FillMissing, Normalize]\n",
        "# cat_names  = ['sex', 'anatom_site_general_challenge']\n",
        "cat_names  = []\n",
        "# cont_names = ['Lon', 'Lat', 'py', 'px', 'Legume']\n",
        "cont_names = cont_names\n",
        "splitter = RandomSplitter(seed=42)\n",
        "splits = splitter(range_of(df))\n",
        "to = TabularPandas(df, procs=procs, cat_names=cat_names, cont_names=cont_names,\n",
        "                  y_names=dep_var, y_block=RegressionBlock(),\n",
        "                  splits=splits)"
      ]
    },
    {
      "cell_type": "code",
      "execution_count": null,
      "metadata": {
        "id": "SG7fiTaIaOFd"
      },
      "outputs": [],
      "source": [
        "tab_dl = to.dataloaders(bs=8)"
      ]
    },
    {
      "cell_type": "markdown",
      "metadata": {
        "id": "OICnSchRaOFe"
      },
      "source": [
        "## Vision"
      ]
    },
    {
      "cell_type": "code",
      "execution_count": null,
      "metadata": {
        "id": "ouv5bMqeaOFg"
      },
      "outputs": [],
      "source": [
        "# get_x = lambda x:path/f'{x[0]}.dcm'\n",
        "# get_y=ColReader('target')\n",
        "# batch_tfms = aug_transforms(flip_vert=True, max_lighting=0.1, max_zoom=1.05, max_warp=0.)\n",
        "# blocks = (ImageBlock(cls=PILDicom), CategoryBlock(vocab=[0,1]))\n",
        "# melanoma = DataBlock(blocks=blocks,\n",
        "#                    get_x=get_x,\n",
        "#                    splitter=splitter,\n",
        "#                    item_tfms=Resize(128),\n",
        "#                    get_y=ColReader('target'),\n",
        "#                    batch_tfms=batch_tfms)"
      ]
    },
    {
      "cell_type": "code",
      "execution_count": null,
      "metadata": {
        "colab": {
          "base_uri": "https://localhost:8080/",
          "height": 289
        },
        "id": "hSpGnT-UaOFh",
        "outputId": "145d4b27-db60-4d6a-dd18-e8e2de7d26bc",
        "scrolled": true
      },
      "outputs": [],
      "source": [
        "df.head(3)"
      ]
    },
    {
      "cell_type": "code",
      "execution_count": null,
      "metadata": {
        "id": "tqIJ9qFiaOFh"
      },
      "outputs": [],
      "source": [
        "# get_x = lambda x:path/f'{x[4]}'\n",
        "# get_x = lambda x:path/f'{x[19]}'\n",
        "# get_x = lambda x:path/f'{x[20]}'\n",
        "get_x = lambda x:path/f'{x[38]}'\n",
        "# get_y=ColReader('Yield')\n",
        "get_y=ColReader('price_value')\n",
        "\n",
        "augmentations = [\n",
        "        # Rotate(10, p=0.4, mode='bilinear'),\n",
        "        Brightness(max_lighting=0.1,p=0.5),\n",
        "        Contrast(max_lighting=0.1, p=0.5),\n",
        "        # RandomErasing(p=0.3, sl=0.0, sh=0.2, min_aspect=0.3, max_count=1),\n",
        "        # Flip(p=0.5),\n",
        "        # Zoom(max_zoom=1,p=0.5),\n",
        "        # RandomResizedCrop(img_size)\n",
        "        Normalize.from_stats(*imagenet_stats)\n",
        "    ]\n",
        "\n",
        "batch_tfms = aug_transforms(flip_vert=True, max_lighting=0.1, max_zoom=1.05, max_warp=0.)\n",
        "#blocks = (ImageBlock(cls=PILDicom), CategoryBlock(vocab=[0,1]))\n",
        "\n",
        "melanoma = DataBlock(blocks    = (ImageBlock, RegressionBlock),\n",
        "                   get_x = get_x,\n",
        "                   get_y     = ColReader('price_value'),\n",
        "                   #item_tfms = RandomResizedCrop(128, min_scale=0.35),\n",
        "                   #batch_tfms=Normalize.from_stats(*imagenet_stats)\n",
        "                   splitter = splitter,\n",
        "                   item_tfms = Resize(224),\n",
        "                   batch_tfms = augmentations #batch_tfms\n",
        "                  )"
      ]
    },
    {
      "cell_type": "code",
      "execution_count": null,
      "metadata": {
        "id": "DsVK_PU2aOFi",
        "scrolled": true
      },
      "outputs": [],
      "source": [
        "vis_dl = melanoma.dataloaders(df, bs=8)"
      ]
    },
    {
      "cell_type": "code",
      "execution_count": null,
      "metadata": {
        "colab": {
          "base_uri": "https://localhost:8080/",
          "height": 513
        },
        "id": "GWIG2OAHaOFj",
        "outputId": "a3e2ea3b-4f94-46c2-b428-c196cfd9d9cc"
      },
      "outputs": [],
      "source": [
        "vis_dl.show_batch()"
      ]
    },
    {
      "cell_type": "code",
      "execution_count": null,
      "metadata": {
        "colab": {
          "base_uri": "https://localhost:8080/"
        },
        "id": "N9sqVRmt_pZu",
        "outputId": "038e9d4d-3fba-4221-e550-88498bbdfb56"
      },
      "outputs": [],
      "source": [
        "vis_dl[0]"
      ]
    },
    {
      "cell_type": "code",
      "execution_count": null,
      "metadata": {
        "colab": {
          "base_uri": "https://localhost:8080/"
        },
        "id": "IF3_oXbSaOFl",
        "outputId": "9e187b52-d84b-47cb-a618-5a3ca0dd41a6"
      },
      "outputs": [],
      "source": [
        "type(vis_dl[0])"
      ]
    },
    {
      "cell_type": "markdown",
      "metadata": {
        "id": "J1njl-yVaOFl"
      },
      "source": [
        "# Combination of the `DataLoaders`"
      ]
    },
    {
      "cell_type": "code",
      "execution_count": null,
      "metadata": {
        "id": "bNtIS0ReaOFn"
      },
      "outputs": [],
      "source": [
        "from fastai.data.load import _FakeLoader, _loaders"
      ]
    },
    {
      "cell_type": "code",
      "execution_count": null,
      "metadata": {
        "id": "qfVROvYeaOFn"
      },
      "outputs": [],
      "source": [
        "class MixedDL():\n",
        "    def __init__(self, tab_dl:TabDataLoader, vis_dl:TfmdDL, device='cuda:0'):\n",
        "        \"Stores away `tab_dl` and `vis_dl`, and overrides `shuffle_fn`\"\n",
        "        self.device = device\n",
        "        tab_dl.shuffle_fn = self.shuffle_fn\n",
        "        vis_dl.shuffle_fn = self.shuffle_fn\n",
        "        self.dls = [tab_dl, vis_dl]\n",
        "        self.count = 0\n",
        "        self.fake_l = _FakeLoader(self, False, 0, 0, 5)\n",
        "\n",
        "    def __len__(self): return len(self.dls[0])\n",
        "\n",
        "    def shuffle_fn(self, idxs):\n",
        "        \"Generates a new `rng` based upon which `DataLoader` is called\"\n",
        "        if self.count == 0: # if we haven't generated an rng yet\n",
        "            self.rng = self.dls[0].rng.sample(idxs, len(idxs))\n",
        "            self.count += 1\n",
        "            return self.rng\n",
        "        else:\n",
        "            self.count = 0\n",
        "            return self.rng\n",
        "\n",
        "    def to(self, device): self.device = device"
      ]
    },
    {
      "cell_type": "code",
      "execution_count": null,
      "metadata": {
        "colab": {
          "base_uri": "https://localhost:8080/"
        },
        "id": "ZVEUhIKiaOFp",
        "outputId": "c4dbc0c2-ee5b-48fa-847b-d974f89f2dc9"
      },
      "outputs": [],
      "source": [
        "vis_dl[0].get_idxs()[:10]"
      ]
    },
    {
      "cell_type": "code",
      "execution_count": null,
      "metadata": {
        "colab": {
          "base_uri": "https://localhost:8080/"
        },
        "id": "Xt91VN1CaOFq",
        "outputId": "7d02a886-cf2e-4f76-d5d0-4e70ad4529eb"
      },
      "outputs": [],
      "source": [
        "tab_dl[0].get_idxs()[:10]"
      ]
    },
    {
      "cell_type": "code",
      "execution_count": null,
      "metadata": {
        "id": "FR-Gu6w1aOFr"
      },
      "outputs": [],
      "source": [
        "# mixed_dl = MixedDL(tab_dl[0], vis_dl[0])\n",
        "mixed_dl = MixedDL(tab_dl[1], vis_dl[1])"
      ]
    },
    {
      "cell_type": "code",
      "execution_count": null,
      "metadata": {
        "colab": {
          "base_uri": "https://localhost:8080/"
        },
        "id": "WGVFWURCaOFs",
        "outputId": "db0a2224-e48d-4503-9d21-ed8412b8855d"
      },
      "outputs": [],
      "source": [
        "mixed_dl.dls[0].get_idxs()[:10]"
      ]
    },
    {
      "cell_type": "code",
      "execution_count": null,
      "metadata": {
        "colab": {
          "base_uri": "https://localhost:8080/"
        },
        "id": "31Kys-uyaOFt",
        "outputId": "2cddda2f-834b-45a4-8179-10e89f33582f"
      },
      "outputs": [],
      "source": [
        "mixed_dl.dls[1].get_idxs()[:10]"
      ]
    },
    {
      "cell_type": "code",
      "execution_count": null,
      "metadata": {
        "id": "3s6lDlpNaOFv"
      },
      "outputs": [],
      "source": [
        "@patch\n",
        "def __iter__(dl:MixedDL):\n",
        "    \"Iterate over your `DataLoader`\"\n",
        "    z = zip(*[_loaders[i.fake_l.num_workers==0](i.fake_l) for i in dl.dls])\n",
        "    for b in z:\n",
        "        if dl.device is not None:\n",
        "            b = to_device(b, dl.device)\n",
        "        batch = []\n",
        "        batch.extend(dl.dls[0].after_batch(b[0])[:2])\n",
        "        batch.append(dl.dls[1].after_batch(b[1][0]))\n",
        "        try: # In case the data is unlabelled\n",
        "            batch.append(b[1][1])\n",
        "            yield tuple(batch)\n",
        "        except:\n",
        "            yield tuple(batch)"
      ]
    },
    {
      "cell_type": "code",
      "execution_count": null,
      "metadata": {
        "id": "Tx_JLTyAaOFw"
      },
      "outputs": [],
      "source": [
        "@patch\n",
        "def one_batch(x:MixedDL):\n",
        "    \"Grab a batch from the `DataLoader`\"\n",
        "    with x.fake_l.no_multiproc(): res = first(x)\n",
        "    if hasattr(x, 'it'): delattr(x, 'it')\n",
        "    return res"
      ]
    },
    {
      "cell_type": "code",
      "execution_count": null,
      "metadata": {
        "id": "bWrEc4mVaOFx"
      },
      "outputs": [],
      "source": [
        "# batch = mixed_dl.one_batch()"
      ]
    },
    {
      "cell_type": "code",
      "execution_count": null,
      "metadata": {
        "id": "EoWCJFThaOFy"
      },
      "outputs": [],
      "source": [
        "# batch[0]"
      ]
    },
    {
      "cell_type": "code",
      "execution_count": null,
      "metadata": {
        "id": "JzvHYxG2aOFy"
      },
      "outputs": [],
      "source": [
        "# batch[1]"
      ]
    },
    {
      "cell_type": "code",
      "execution_count": null,
      "metadata": {
        "id": "5dNFf5T2aOFz"
      },
      "outputs": [],
      "source": [
        "# batch[2]"
      ]
    },
    {
      "cell_type": "code",
      "execution_count": null,
      "metadata": {
        "id": "g4UmXCF5aOF0"
      },
      "outputs": [],
      "source": [
        "# batch[3]"
      ]
    },
    {
      "cell_type": "code",
      "execution_count": null,
      "metadata": {
        "id": "2a3Crj27aOF2"
      },
      "outputs": [],
      "source": [
        "@patch\n",
        "def show_batch(x:MixedDL):\n",
        "    \"Show a batch from multiple `DataLoaders`\"\n",
        "    for dl in x.dls:\n",
        "        dl.show_batch()"
      ]
    },
    {
      "cell_type": "code",
      "execution_count": null,
      "metadata": {
        "colab": {
          "base_uri": "https://localhost:8080/",
          "height": 816
        },
        "id": "EUijEOO7aOF3",
        "outputId": "00645bed-c4f3-4289-f7e5-b27604bbe1db"
      },
      "outputs": [],
      "source": [
        "mixed_dl.show_batch()"
      ]
    },
    {
      "cell_type": "markdown",
      "metadata": {
        "id": "mWOU7ufoaOF4"
      },
      "source": [
        "## Get Train + Valid MixedDL"
      ]
    },
    {
      "cell_type": "code",
      "execution_count": null,
      "metadata": {
        "id": "xm-CBFViaOF4"
      },
      "outputs": [],
      "source": [
        "train_mixed_dl = MixedDL(tab_dl[0], vis_dl[0])\n",
        "valid_mixed_dl = MixedDL(tab_dl[1], vis_dl[1])\n",
        "mixed_dls = DataLoaders(train_mixed_dl, valid_mixed_dl).cuda()"
      ]
    },
    {
      "cell_type": "code",
      "execution_count": null,
      "metadata": {
        "id": "I-hHSlDvaOF5"
      },
      "outputs": [],
      "source": [
        "tab_learn = tabular_learner(tab_dl,[200, 100], metrics=rmse)"
      ]
    },
    {
      "cell_type": "code",
      "execution_count": null,
      "metadata": {
        "colab": {
          "base_uri": "https://localhost:8080/",
          "height": 143
        },
        "id": "tseCtPhoaOF6",
        "outputId": "595599a5-745b-41f0-c94b-6b1bd53f115a"
      },
      "outputs": [],
      "source": [
        "tab_learn.fit_one_cycle(3)"
      ]
    },
    {
      "cell_type": "code",
      "execution_count": null,
      "metadata": {
        "colab": {
          "base_uri": "https://localhost:8080/",
          "height": 320
        },
        "id": "_jM-ZLTraOF6",
        "outputId": "8b323c81-1011-48c8-bcce-62e1ee2aa2d8"
      },
      "outputs": [],
      "source": [
        "tab_learn.show_results()"
      ]
    },
    {
      "cell_type": "code",
      "execution_count": null,
      "metadata": {
        "colab": {
          "base_uri": "https://localhost:8080/"
        },
        "id": "SaWxm8dwaOF8",
        "outputId": "b1f8c792-4b43-4614-a973-3ae53f9f62a6"
      },
      "outputs": [],
      "source": [
        "vis_learn = cnn_learner(vis_dl, resnet34, metrics=accuracy, pretrained=False)"
      ]
    },
    {
      "cell_type": "code",
      "execution_count": null,
      "metadata": {
        "colab": {
          "base_uri": "https://localhost:8080/",
          "height": 81
        },
        "id": "RtRHzq3LaOF9",
        "outputId": "ad45d175-d0fe-436e-8427-daa88fe9fa23"
      },
      "outputs": [],
      "source": [
        "vis_learn.fit_one_cycle(1, 1e-2)"
      ]
    },
    {
      "cell_type": "code",
      "execution_count": null,
      "metadata": {
        "id": "ZHj28lysaOF9"
      },
      "outputs": [],
      "source": [
        "# vis_learn_p = cnn_learner(vis_dl, resnet18, metrics=[rmse], pretrained=True)"
      ]
    },
    {
      "cell_type": "code",
      "execution_count": null,
      "metadata": {
        "id": "S_qIwXQ1aOF-",
        "scrolled": true
      },
      "outputs": [],
      "source": [
        "# vis_learn_p.fit_one_cycle(2, lr_max=5e-4)"
      ]
    },
    {
      "cell_type": "markdown",
      "metadata": {
        "id": "fj_MhbFyaOF-"
      },
      "source": [
        "## Joint Model"
      ]
    },
    {
      "cell_type": "code",
      "execution_count": null,
      "metadata": {
        "id": "D9lwf0VnaOF_"
      },
      "outputs": [],
      "source": [
        "# o=mixed_dl.one_batch(); len(o)"
      ]
    },
    {
      "cell_type": "code",
      "execution_count": null,
      "metadata": {
        "id": "1BCc1nfXaOF_"
      },
      "outputs": [],
      "source": [
        "# hooks = {}\n",
        "# for name, module in tab_learn.model.named_modules():\n",
        "#     hooks[name] = module.register_forward_hook(hook_fn)\n",
        "\n",
        "# tt = tab_learn.model(o[0], o[1])\n",
        "# tt"
      ]
    },
    {
      "cell_type": "code",
      "execution_count": null,
      "metadata": {
        "id": "_z6jO0etaOGA"
      },
      "outputs": [],
      "source": [
        "# def printnorm(self, input, output):\n",
        "#     # input is a tuple of packed inputs\n",
        "#     # output is a Tensor. output.data is the Tensor we are interested\n",
        "#     print('Inside ' + self.__class__.__name__ + ' forward')\n",
        "#     print('')\n",
        "#     print('input: ', type(input))\n",
        "#     print('input[0]: ', type(input[0]))\n",
        "#     print('output: ', type(output))\n",
        "#     print('')\n",
        "#     print('input size:', input[0].size())\n",
        "#     print('output size:', output.data.size())\n",
        "#     print('output norm:', output.data.norm())\n",
        "\n",
        "\n",
        "# tab_learn.model.layers[2][0].register_forward_hook(printnorm)\n",
        "\n",
        "# out = tab_learn.model(o[0], o[1])"
      ]
    },
    {
      "cell_type": "markdown",
      "metadata": {
        "id": "8-oVYU4xaOGB"
      },
      "source": [
        "## PyTorch Hooks"
      ]
    },
    {
      "cell_type": "code",
      "execution_count": null,
      "metadata": {
        "id": "yJkdA5uraOGB"
      },
      "outputs": [],
      "source": [
        "global glb_tab_logits\n",
        "def get_tab_logits(self, inp, out):\n",
        "    global glb_tab_logits\n",
        "    glb_tab_logits = inp\n",
        "    #return None\n",
        "\n",
        "global glb_vis_logits\n",
        "def get_vis_logits(self, inp, out):\n",
        "    global glb_vis_logits\n",
        "    glb_vis_logits = out\n",
        "    #return None"
      ]
    },
    {
      "cell_type": "markdown",
      "metadata": {
        "id": "2lNyFbKiaOGC"
      },
      "source": [
        "## Define Multi-Modal Model"
      ]
    },
    {
      "cell_type": "code",
      "execution_count": null,
      "metadata": {
        "id": "u_cfdrtMaOGC"
      },
      "outputs": [],
      "source": [
        "class TabVis(nn.Module):\n",
        "    def __init__(self, tab_model, vis_model, num_classes=1):\n",
        "        super(TabVis, self).__init__()\n",
        "        self.tab_model = tab_model\n",
        "        self.vis_model = vis_model\n",
        "\n",
        "        self.mixed_cls = nn.Linear(64+21, num_classes)\n",
        "        self.tab_cls = nn.Linear(21, num_classes)\n",
        "        self.vis_cls = nn.Linear(64, num_classes)\n",
        "\n",
        "        #self.print_handle = self.tab_model.layers[2][0].register_forward_hook(printnorm)\n",
        "        self.tab_handle = self.tab_model.layers[0].register_forward_hook(get_tab_logits)\n",
        "        self.vis_handle = self.vis_model[-1][-1].register_forward_hook(get_vis_logits)\n",
        "\n",
        "    def remove_my_hooks(self):\n",
        "        self.tab_handle.remove()\n",
        "        self.vis_handle.remove()\n",
        "        #self.print_handle.remove()\n",
        "        return None\n",
        "\n",
        "    def forward(self, x_cat, x_cont, x_im):\n",
        "        # Tabular Classifier\n",
        "        tab_pred = self.tab_model(x_cat, x_cont)\n",
        "\n",
        "        # Vision Classifier\n",
        "        vis_pred = self.vis_model(x_im)\n",
        "\n",
        "        # Logits\n",
        "        tab_logits = glb_tab_logits[0]   # Only grabbling weights, not bias'\n",
        "        # vis_logits = glb_vis_logits[0]   # Only grabbling weights, not bias'\n",
        "        vis_logits = glb_vis_logits   # Only grabbling weights, not bias'\n",
        "        mixed = torch.cat((tab_logits, vis_logits), dim=1)\n",
        "\n",
        "        # Mixed Classifier\n",
        "        mixed_pred = self.mixed_cls(mixed)\n",
        "        return mixed_pred"
      ]
    },
    {
      "cell_type": "code",
      "execution_count": null,
      "metadata": {
        "id": "K2PGeA71aOGD"
      },
      "outputs": [],
      "source": [
        "# def ModCELoss(pred, targ, ce=True):\n",
        "#     # pred = pred.softmax(dim=-1)\n",
        "#     targ = targ.flatten()\n",
        "#     if ce:\n",
        "#         loss = F.mse_loss(pred, targ)\n",
        "#     else:\n",
        "#         loss = F.mse_loss(pred, targ)\n",
        "#     #loss = torch.mean(ce)\n",
        "#     return loss\n",
        "\n",
        "# class myGradientBlending(nn.Module):\n",
        "#     def __init__(self, tab_weight=0.0, visual_weight=0.0, tab_vis_weight=1.0, loss_scale=1.0, use_cel=True):\n",
        "#         \"Expects weights for each model, the combined model, and an overall scale\"\n",
        "#         super(myGradientBlending, self).__init__()\n",
        "#         self.tab_weight = tab_weight\n",
        "#         self.visual_weight = visual_weight\n",
        "#         self.tab_vis_weight = tab_vis_weight\n",
        "#         self.ce =  use_cel\n",
        "#         self.scale = loss_scale\n",
        "\n",
        "#     def forward(self, xb, yb):\n",
        "#         tab_out, visual_out, tv_out = xb\n",
        "#         targ = yb\n",
        "#         \"Gathers `self.loss` for each model, weighs, then sums\"\n",
        "#         tv_loss = ModCELoss(tv_out, targ, self.ce) * self.scale\n",
        "#         t_loss = ModCELoss(tab_out, targ, self.ce) * self.scale\n",
        "#         v_loss = ModCELoss(visual_out, targ, self.ce) * self.scale\n",
        "\n",
        "#         weighted_t_loss = t_loss * self.tab_weight\n",
        "#         weighted_v_loss = v_loss * self.visual_weight\n",
        "#         weighted_tv_loss = tv_loss * self.tab_vis_weight\n",
        "\n",
        "#         loss = weighted_t_loss + weighted_v_loss + weighted_tv_loss\n",
        "#         return loss"
      ]
    },
    {
      "cell_type": "code",
      "execution_count": null,
      "metadata": {
        "id": "Jec-3RwlaOGE",
        "scrolled": true
      },
      "outputs": [],
      "source": [
        "#multi_model = TabVis(tab_learn.model, vis_learn.model)"
      ]
    },
    {
      "cell_type": "code",
      "execution_count": null,
      "metadata": {
        "id": "IP2UerTMaOGF",
        "scrolled": true
      },
      "outputs": [],
      "source": [
        "#tab_pred, vis_pred, mixed_pred = multi_model(o[0], o[1] , o[2])"
      ]
    },
    {
      "cell_type": "code",
      "execution_count": null,
      "metadata": {
        "id": "_WL7N31XaOGF"
      },
      "outputs": [],
      "source": [
        "# gb_loss = myGradientBlending(tab_weight=0.333, visual_weight=0.333, vis_tab_weight=0.333,\n",
        "#                              loss_scale=1.0, use_cel=True)\n",
        "\n",
        "# loss = gb_loss(tab_pred, vis_pred, mixed_pred, targ=o[3])\n",
        "# loss"
      ]
    },
    {
      "cell_type": "code",
      "execution_count": null,
      "metadata": {
        "id": "20vVxbLQaOGG"
      },
      "outputs": [],
      "source": [
        "#loss.backward()"
      ]
    },
    {
      "cell_type": "code",
      "execution_count": null,
      "metadata": {
        "id": "AqCRqb2RaOGG"
      },
      "outputs": [],
      "source": [
        "#multi_model.remove_my_hooks()"
      ]
    },
    {
      "cell_type": "markdown",
      "metadata": {
        "id": "84AfC6BeaOGH"
      },
      "source": [
        "## Learner testing"
      ]
    },
    {
      "cell_type": "code",
      "execution_count": null,
      "metadata": {
        "id": "Oia1uUXBaOGH"
      },
      "outputs": [],
      "source": [
        "# class Looky(Callback):\n",
        "#     def after_pred(self):\n",
        "#         return None\n",
        "#         #print(len(self.pred))\n",
        "#         #print(self.pred)"
      ]
    },
    {
      "cell_type": "code",
      "execution_count": null,
      "metadata": {
        "id": "P_iyXoFTaOGI"
      },
      "outputs": [],
      "source": [
        "# def t_accuracy(inp, targ, axis=-1):\n",
        "#     \"Compute accuracy with `targ` when `pred` is bs * n_classes\"\n",
        "#     # print(inp[0])\n",
        "#     # print(inp[0].argmax(dim=axis))\n",
        "#     # print(targ)\n",
        "#     # pred,targ = flatten_check(inp[0].argmax(dim=axis), targ)\n",
        "#     # return (pred == targ).float().mean()\n",
        "#     # return torch.sqrt(F.mse_loss(pred, targ))\n",
        "#     # return F.mse_loss(*flatten_check(inp[0],targ))\n",
        "#     return torch.sqrt(F.mse_loss(*flatten_check(inp[0],targ)))\n",
        "\n",
        "# def v_accuracy(inp, targ, axis=-1):\n",
        "#     \"Compute accuracy with `targ` when `pred` is bs * n_classes\"\n",
        "#     # pred,targ = flatten_check(inp[1].argmax(dim=axis), targ)\n",
        "#     # return (pred == targ).float().mean()\n",
        "#     # return torch.sqrt(F.mse_loss(pred, targ))\n",
        "#     # return F.mse_loss(*flatten_check(inp[1],targ))\n",
        "#     return torch.sqrt(F.mse_loss(*flatten_check(inp[1],targ)))\n",
        "\n",
        "# def tv_accuracy(inp, targ, axis=-1):\n",
        "#     \"Compute accuracy with `targ` when `pred` is bs * n_classes\"\n",
        "#     # pred,targ = flatten_check(inp[2].argmax(dim=axis), targ)\n",
        "#     # return (pred == targ).float().mean()\n",
        "#     # return torch.sqrt(F.mse_loss(pred, targ))\n",
        "#     # return F.mse_loss(*flatten_check(inp[2],targ))\n",
        "#     return torch.sqrt(F.mse_loss(*flatten_check(inp[2],targ)))\n",
        "\n",
        "# def weighted_accuracy(inp, targ, axis=-1, w_t=0.333, w_v=0.333, w_tv=0.333):\n",
        "#     t_inp = inp[0] * w_t\n",
        "#     v_inp = inp[1] * w_v\n",
        "#     tv_inp = inp[2] * w_tv\n",
        "#     inp_fin = (t_inp + v_inp + tv_inp)/3\n",
        "#     # pred,targ = flatten_check(inp_fin.argmax(dim=axis), targ)\n",
        "#     # return (pred == targ).float().mean()\n",
        "#     # return torch.sqrt(F.mse_loss(pred, targ))\n",
        "#     # return F.mse_loss(*flatten_check(inp_fin,targ))\n",
        "#     return torch.sqrt(F.mse_loss(*flatten_check(inp_fin,targ)))"
      ]
    },
    {
      "cell_type": "code",
      "execution_count": null,
      "metadata": {
        "id": "6RlJLb8tcCk5"
      },
      "outputs": [],
      "source": [
        "new_head = create_head(512, 64)"
      ]
    },
    {
      "cell_type": "code",
      "execution_count": null,
      "metadata": {
        "colab": {
          "base_uri": "https://localhost:8080/"
        },
        "id": "ODGgQHmBcIxC",
        "outputId": "ab075c4d-11bb-495b-86cf-460ec24e9d12"
      },
      "outputs": [],
      "source": [
        "new_head"
      ]
    },
    {
      "cell_type": "code",
      "execution_count": null,
      "metadata": {
        "colab": {
          "base_uri": "https://localhost:8080/",
          "height": 66,
          "referenced_widgets": [
            "f5448262a96547db8d69d65827520d6e",
            "b60be8ff77134300beac1160b09b74e8",
            "a93356fef1424e9a99187586c1018483",
            "1e9340730f1d425a84020103c62a0713",
            "44b05be9bc8240c18f42bef6d47f8156",
            "db9826570b94475ab6cb261eed040465",
            "789a1413aecc4dc4bf1ce1d1c2e230dd",
            "70f52703d69b48019015fa0c613fdca7",
            "7cda3fab85124c9288a1ce18621458ac",
            "2b35ab7f75664fb8ac6d310f4524a718",
            "e539265a91b848f4a615c3fc3c472322"
          ]
        },
        "id": "hd3CD8VHaOGI",
        "outputId": "f6123b8a-d171-42c9-c27e-3f474b8ddba5"
      },
      "outputs": [],
      "source": [
        "# Get uni-modal models, ugly but quick way to grab a tabular and vision model\n",
        "# v_model = cnn_learner(vis_dl, resnet34, metrics=rmse, pretrained=True).model\n",
        "# t_model = tabular_learner(tab_dl, metrics=rmse).model\n",
        "# t_model = tabular_learner(tab_dl,[50, 1], metrics=rmse).model\n",
        "\n",
        "v_model = vision_learner(vis_dl, resnet34, metrics=rmse, pretrained=True, custom_head = new_head).model\n",
        "# t_model = tabular_learner(tab_dl, metrics=rmse).model\n",
        "t_model = tabular_learner(tab_dl,[], metrics=rmse).model\n",
        "\n",
        "# Create our Multi-Modal model\n",
        "multi_model = TabVis(t_model, v_model)\n",
        "\n",
        "# Set weights for each loss\n",
        "# tab_w = 0.15\n",
        "# vis_w = 0.6\n",
        "# tv_w = 0.25\n",
        "\n",
        "# Initialise Loss\n",
        "# gb_loss = myGradientBlending(tab_weight=tab_w, visual_weight=vis_w, tab_vis_weight=tv_w,\n",
        "#                              loss_scale=1.0, use_cel=True)\n",
        "\n",
        "# Define accuracy weights\n",
        "# w_accuracy = partial(weighted_accuracy, w_t=tab_w, w_v=vis_w, w_tv=tv_w)\n",
        "\n",
        "# metrics = [t_accuracy,v_accuracy,tv_accuracy, w_accuracy]\n",
        "# metrics = [rmse, R2Score]\n",
        "cbs=[]"
      ]
    },
    {
      "cell_type": "code",
      "execution_count": null,
      "metadata": {
        "colab": {
          "base_uri": "https://localhost:8080/"
        },
        "id": "PxT_QPMscogY",
        "outputId": "c7aecad0-fb56-49c2-c8c6-9989392e0880"
      },
      "outputs": [],
      "source": [
        "t_model"
      ]
    },
    {
      "cell_type": "code",
      "execution_count": null,
      "metadata": {
        "colab": {
          "base_uri": "https://localhost:8080/"
        },
        "id": "J-s61vqccwN0",
        "outputId": "87e3ed46-91f6-4278-db40-b0c4cbeefc90"
      },
      "outputs": [],
      "source": [
        "v_model"
      ]
    },
    {
      "cell_type": "code",
      "execution_count": null,
      "metadata": {
        "colab": {
          "base_uri": "https://localhost:8080/"
        },
        "id": "KGj2zttCc5Rx",
        "outputId": "b6c566de-7d73-40f2-e102-af88b1f85bd6"
      },
      "outputs": [],
      "source": [
        "multi_model.vis_model[-1][-1]"
      ]
    },
    {
      "cell_type": "code",
      "execution_count": null,
      "metadata": {
        "colab": {
          "base_uri": "https://localhost:8080/"
        },
        "id": "76zBRn06c666",
        "outputId": "d6663ef8-9ecb-498e-f84a-1cb05740001f"
      },
      "outputs": [],
      "source": [
        "t_model.layers[0]"
      ]
    },
    {
      "cell_type": "code",
      "execution_count": null,
      "metadata": {
        "id": "FGyCyC5AaVnl"
      },
      "outputs": [],
      "source": [
        "# # get an integrated model that combines the two components and concatenate their outputs\n",
        "# # which will pass through additional fully connected layers\n",
        "# cnn_out_sz = 512\n",
        "# tab_out_sz = 1\n",
        "\n",
        "# integrate_model = CNNTabularModel(v_model,\n",
        "#                                   t_model,\n",
        "#                                   layers = [cnn_out_sz + tab_out_sz, 1],\n",
        "#                                   ps=0.2,\n",
        "#                                   out_sz=1).to(device)"
      ]
    },
    {
      "cell_type": "code",
      "execution_count": null,
      "metadata": {
        "id": "vQgwh3LFeKub"
      },
      "outputs": [],
      "source": [
        "# # package everything in a fastai learner, add auc roc score as a metric\n",
        "# #learn = Learner(db, integrate_model, metrics=[accuracy, ROCAUC()], loss_func=loss_func)\n",
        "# learn = Learner(mixed_dls, integrate_model, loss_func=MSELossFlat(), cbs=cbs, metrics=rmse, model_dir = '/content/drive/MyDrive/Fastai/')\n",
        "# # learn.loss_func = MSELossFlat()"
      ]
    },
    {
      "cell_type": "code",
      "execution_count": null,
      "metadata": {
        "id": "yqY8rSeEmVyU"
      },
      "outputs": [],
      "source": [
        "# X = df.copy()"
      ]
    },
    {
      "cell_type": "code",
      "execution_count": null,
      "metadata": {
        "id": "ogRo9Bvonwvf"
      },
      "outputs": [],
      "source": [
        "# from sklearn.model_selection import KFold\n",
        "\n",
        "# random_state = None\n",
        "# k = 2 #10\n",
        "# kf = KFold(n_splits=k, random_state=random_state)"
      ]
    },
    {
      "cell_type": "code",
      "execution_count": null,
      "metadata": {
        "id": "lutro4LNaOGJ"
      },
      "outputs": [],
      "source": [
        "# multi_learn = Learner(mixed_dls, multi_model, gb_loss, cbs=cbs, metrics=metrics)\n",
        "multi_learn = Learner(mixed_dls, multi_model, loss_func=MSELossFlat(), cbs=cbs, metrics=rmse, model_dir = '/content/drive/MyDrive/Fastai/')"
      ]
    },
    {
      "cell_type": "code",
      "execution_count": null,
      "metadata": {
        "colab": {
          "base_uri": "https://localhost:8080/"
        },
        "id": "-M3aKttT9MVr",
        "outputId": "9423f471-b566-493e-f0a0-468a179c5b80"
      },
      "outputs": [],
      "source": [
        "multi_learn.model"
      ]
    },
    {
      "cell_type": "code",
      "execution_count": null,
      "metadata": {
        "id": "RAT7zymXfsPZ"
      },
      "outputs": [],
      "source": [
        "# learn.model"
      ]
    },
    {
      "cell_type": "code",
      "execution_count": null,
      "metadata": {
        "id": "tnfR6VS6gMV2"
      },
      "outputs": [],
      "source": [
        "# find learning rate to train the last layer group first\n",
        "# learn.freeze()\n",
        "# learn.lr_find()\n",
        "# learn.recorder.plot(suggestion=True)"
      ]
    },
    {
      "cell_type": "code",
      "execution_count": null,
      "metadata": {
        "colab": {
          "base_uri": "https://localhost:8080/",
          "height": 558
        },
        "id": "CjaPLo8MaOGJ",
        "outputId": "defd6ca3-2b1a-414f-d08b-fd3dcf4cff88"
      },
      "outputs": [],
      "source": [
        "multi_learn.freeze()\n",
        "multi_learn.lr_find()"
      ]
    },
    {
      "cell_type": "markdown",
      "metadata": {
        "id": "DMLjGeHOaOGK"
      },
      "source": [
        "## Standard fit_one_cycle"
      ]
    },
    {
      "cell_type": "code",
      "execution_count": null,
      "metadata": {
        "id": "j7LPj22raOGK",
        "scrolled": true
      },
      "outputs": [],
      "source": [
        "# multi_learn.fit_one_cycle(3)"
      ]
    },
    {
      "cell_type": "code",
      "execution_count": null,
      "metadata": {
        "id": "EeDapWBvaOGM"
      },
      "outputs": [],
      "source": [
        "# Remove hooks from model (not sure if this is working)\n",
        "# multi_learn.model.remove_my_hooks()"
      ]
    },
    {
      "cell_type": "code",
      "execution_count": null,
      "metadata": {
        "id": "NG0qXIpRaOGN"
      },
      "outputs": [],
      "source": [
        "# multi_learn.recorder.plot_loss()"
      ]
    },
    {
      "cell_type": "code",
      "execution_count": null,
      "metadata": {
        "id": "K5uVPcUxmA72"
      },
      "outputs": [],
      "source": [
        "# for train_index , test_index in kf.split(X):\n",
        "#         X_train , X_test = df.iloc[train_index,:],df.iloc[test_index,:]\n",
        "#         # y_train , y_test = y[train_index] , y[test_index]\n",
        "#         splits = splitter(range_of(X_train))\n",
        "#         to = TabularPandas(X_train, procs, cat_names, cont_names,\n",
        "#                   y_names='Yield', y_block=RegressionBlock(),\n",
        "#                   splits=splits)\n",
        "#         tab_dl = to.dataloaders(bs=8)\n",
        "#         vis_dl = melanoma.dataloaders(X_train, bs=8)\n",
        "#         # mixed_dl = MixedDL(tab_dl[0], vis_dl[0])\n",
        "#         train_mixed_dl = MixedDL(tab_dl[0], vis_dl[0])\n",
        "#         valid_mixed_dl = MixedDL(tab_dl[1], vis_dl[1])\n",
        "#         mixed_dls = DataLoaders(train_mixed_dl, valid_mixed_dl).cuda()\n",
        "#         # multi_learn.fit_one_cycle(3)\n",
        "#         multi_learn.fit_flat_cos(30, cbs=SaveModelCallback)\n",
        "\n",
        "#         # dls = dblock.dataloaders(X_train)\n",
        "#         # learn.fit_flat_cos(30, cbs=SaveModelCallback)\n",
        "#         # tst_dl = learn.dls.test_dl(X_test)\n",
        "#         # preds, _ = learn.get_preds(dl=tst_dl)"
      ]
    },
    {
      "cell_type": "markdown",
      "metadata": {
        "id": "yflvJ01CaOGN"
      },
      "source": [
        "## 1e-4, fit_one_cycle"
      ]
    },
    {
      "cell_type": "code",
      "execution_count": null,
      "metadata": {
        "colab": {
          "base_uri": "https://localhost:8080/",
          "height": 710
        },
        "id": "tifTbhy-aOGO",
        "outputId": "af1c0875-3c9d-4c37-c5e3-b248b735f0d7",
        "scrolled": true
      },
      "outputs": [],
      "source": [
        "# multi_learn.fit_one_cycle(10, 1e-2)\n",
        "# multi_learn.fit_flat_cos(10, 1e-2, cbs=SaveModelCallback)\n",
        "multi_learn.fit_one_cycle(15, 1e-3, cbs=SaveModelCallback)"
      ]
    },
    {
      "cell_type": "code",
      "execution_count": null,
      "metadata": {
        "id": "HC99W8gIaOGO"
      },
      "outputs": [],
      "source": [
        "# Remove hooks from model (not sure if this is working)\n",
        "# multi_learn.model.remove_my_hooks()"
      ]
    },
    {
      "cell_type": "code",
      "execution_count": null,
      "metadata": {
        "colab": {
          "base_uri": "https://localhost:8080/",
          "height": 430
        },
        "id": "5_aI10-zaOGP",
        "outputId": "ab6d7dbd-30d4-499a-f797-cc2c742e51d4"
      },
      "outputs": [],
      "source": [
        "multi_learn.recorder.plot_loss()"
      ]
    },
    {
      "cell_type": "code",
      "execution_count": null,
      "metadata": {
        "colab": {
          "base_uri": "https://localhost:8080/"
        },
        "id": "lPEpA9Ko6zx8",
        "outputId": "0610c0ec-3aa2-409a-a64a-edb40d0dda60"
      },
      "outputs": [],
      "source": [
        "multi_learn.save('bio_multi_freeze')\n",
        "multi_learn.load('bio_multi_freeze')"
      ]
    },
    {
      "cell_type": "code",
      "execution_count": null,
      "metadata": {
        "id": "Qu-pa7rPOaiz"
      },
      "outputs": [],
      "source": [
        "# print(mixed_dl)"
      ]
    },
    {
      "cell_type": "code",
      "execution_count": null,
      "metadata": {
        "id": "heSSqBnRV7ti"
      },
      "outputs": [],
      "source": [
        "# idx = mixed_dl.dls[1].get_idxs()\n",
        "# idx"
      ]
    },
    {
      "cell_type": "code",
      "execution_count": null,
      "metadata": {
        "id": "drjgQnDbZ7LK"
      },
      "outputs": [],
      "source": [
        "# len(idx)"
      ]
    },
    {
      "cell_type": "code",
      "execution_count": null,
      "metadata": {
        "id": "gCBdJ9QfqNwb"
      },
      "outputs": [],
      "source": [
        "# test_dl = multi_learn.dls.test_dl(test_df)\n",
        "mixed_dl_val = MixedDL(tab_dl[1], vis_dl[1])"
      ]
    },
    {
      "cell_type": "code",
      "execution_count": null,
      "metadata": {
        "id": "BchHOerLQLme"
      },
      "outputs": [],
      "source": [
        "mixed_dl_train = MixedDL(tab_dl[0], vis_dl[0])"
      ]
    },
    {
      "cell_type": "code",
      "execution_count": null,
      "metadata": {
        "colab": {
          "base_uri": "https://localhost:8080/",
          "height": 17
        },
        "id": "XVyWd7P478zd",
        "outputId": "996e59b8-ee07-400c-bc07-cc8965633678"
      },
      "outputs": [],
      "source": [
        "inp, preds, gro,dec_preds = multi_learn.get_preds(dl=mixed_dl_val, with_input=True, with_decoded=True)"
      ]
    },
    {
      "cell_type": "code",
      "execution_count": null,
      "metadata": {
        "id": "eVCp5MS1CcCT"
      },
      "outputs": [],
      "source": [
        "# print(len(preds))"
      ]
    },
    {
      "cell_type": "code",
      "execution_count": null,
      "metadata": {
        "id": "tVo9cqC5oIko"
      },
      "outputs": [],
      "source": [
        "# v_learn = Learner(vis_dl, v_model)"
      ]
    },
    {
      "cell_type": "code",
      "execution_count": null,
      "metadata": {
        "id": "l83CcMqgSYQP"
      },
      "outputs": [],
      "source": [
        "# df_test = df.iloc[0:4000]"
      ]
    },
    {
      "cell_type": "code",
      "execution_count": null,
      "metadata": {
        "id": "Funfp7TIoNEI"
      },
      "outputs": [],
      "source": [
        "# # test_dl = v_learn.dls.test_dl(test_df)\n",
        "# # test_dl = v_learn.dls.test_dl(df[0:5000])\n",
        "# test_dl = v_learn.dls.test_dl(df_test)\n",
        "# inpv, predsv,_,dec_predsvdsv = v_learn.get_preds(dl=test_dl, with_input=True, with_decoded=True)"
      ]
    },
    {
      "cell_type": "code",
      "execution_count": null,
      "metadata": {
        "id": "sE4sk28Kolfm"
      },
      "outputs": [],
      "source": [
        "# predsv"
      ]
    },
    {
      "cell_type": "code",
      "execution_count": null,
      "metadata": {
        "id": "D3SceTJ7onhi"
      },
      "outputs": [],
      "source": [
        "# predsv.shape"
      ]
    },
    {
      "cell_type": "code",
      "execution_count": null,
      "metadata": {
        "id": "hB0OLxLSQzbB"
      },
      "outputs": [],
      "source": [
        "# df_train_dl = tab_dl.train.dataset\n",
        "# df_train_dl"
      ]
    },
    {
      "cell_type": "code",
      "execution_count": null,
      "metadata": {
        "id": "OmX8EAAaQ8El"
      },
      "outputs": [],
      "source": [
        "# df_test_dl = tab_dl.valid.dataset\n",
        "# df_test_dl"
      ]
    },
    {
      "cell_type": "code",
      "execution_count": null,
      "metadata": {
        "colab": {
          "base_uri": "https://localhost:8080/",
          "height": 423
        },
        "id": "MPbOJLzkRGvD",
        "outputId": "8160e0ca-b16e-432b-92b2-ccfa025abac1"
      },
      "outputs": [
        {
          "data": {
            "text/html": [
              "\n",
              "  <div id=\"df-76580656-b9a3-4bb3-969f-50f55bcd53ed\">\n",
              "    <div class=\"colab-df-container\">\n",
              "      <div>\n",
              "<style scoped>\n",
              "    .dataframe tbody tr th:only-of-type {\n",
              "        vertical-align: middle;\n",
              "    }\n",
              "\n",
              "    .dataframe tbody tr th {\n",
              "        vertical-align: top;\n",
              "    }\n",
              "\n",
              "    .dataframe thead th {\n",
              "        text-align: right;\n",
              "    }\n",
              "</style>\n",
              "<table border=\"1\" class=\"dataframe\">\n",
              "  <thead>\n",
              "    <tr style=\"text-align: right;\">\n",
              "      <th></th>\n",
              "      <th>Ground</th>\n",
              "    </tr>\n",
              "  </thead>\n",
              "  <tbody>\n",
              "    <tr>\n",
              "      <th>0</th>\n",
              "      <td>13.112313</td>\n",
              "    </tr>\n",
              "    <tr>\n",
              "      <th>1</th>\n",
              "      <td>13.629181</td>\n",
              "    </tr>\n",
              "    <tr>\n",
              "      <th>2</th>\n",
              "      <td>13.407542</td>\n",
              "    </tr>\n",
              "    <tr>\n",
              "      <th>3</th>\n",
              "      <td>14.038654</td>\n",
              "    </tr>\n",
              "    <tr>\n",
              "      <th>4</th>\n",
              "      <td>13.270783</td>\n",
              "    </tr>\n",
              "    <tr>\n",
              "      <th>...</th>\n",
              "      <td>...</td>\n",
              "    </tr>\n",
              "    <tr>\n",
              "      <th>2122</th>\n",
              "      <td>13.218582</td>\n",
              "    </tr>\n",
              "    <tr>\n",
              "      <th>2123</th>\n",
              "      <td>13.764217</td>\n",
              "    </tr>\n",
              "    <tr>\n",
              "      <th>2124</th>\n",
              "      <td>13.201175</td>\n",
              "    </tr>\n",
              "    <tr>\n",
              "      <th>2125</th>\n",
              "      <td>12.911642</td>\n",
              "    </tr>\n",
              "    <tr>\n",
              "      <th>2126</th>\n",
              "      <td>13.337475</td>\n",
              "    </tr>\n",
              "  </tbody>\n",
              "</table>\n",
              "<p>2127 rows × 1 columns</p>\n",
              "</div>\n",
              "      <button class=\"colab-df-convert\" onclick=\"convertToInteractive('df-76580656-b9a3-4bb3-969f-50f55bcd53ed')\"\n",
              "              title=\"Convert this dataframe to an interactive table.\"\n",
              "              style=\"display:none;\">\n",
              "        \n",
              "  <svg xmlns=\"http://www.w3.org/2000/svg\" height=\"24px\"viewBox=\"0 0 24 24\"\n",
              "       width=\"24px\">\n",
              "    <path d=\"M0 0h24v24H0V0z\" fill=\"none\"/>\n",
              "    <path d=\"M18.56 5.44l.94 2.06.94-2.06 2.06-.94-2.06-.94-.94-2.06-.94 2.06-2.06.94zm-11 1L8.5 8.5l.94-2.06 2.06-.94-2.06-.94L8.5 2.5l-.94 2.06-2.06.94zm10 10l.94 2.06.94-2.06 2.06-.94-2.06-.94-.94-2.06-.94 2.06-2.06.94z\"/><path d=\"M17.41 7.96l-1.37-1.37c-.4-.4-.92-.59-1.43-.59-.52 0-1.04.2-1.43.59L10.3 9.45l-7.72 7.72c-.78.78-.78 2.05 0 2.83L4 21.41c.39.39.9.59 1.41.59.51 0 1.02-.2 1.41-.59l7.78-7.78 2.81-2.81c.8-.78.8-2.07 0-2.86zM5.41 20L4 18.59l7.72-7.72 1.47 1.35L5.41 20z\"/>\n",
              "  </svg>\n",
              "      </button>\n",
              "      \n",
              "  <style>\n",
              "    .colab-df-container {\n",
              "      display:flex;\n",
              "      flex-wrap:wrap;\n",
              "      gap: 12px;\n",
              "    }\n",
              "\n",
              "    .colab-df-convert {\n",
              "      background-color: #E8F0FE;\n",
              "      border: none;\n",
              "      border-radius: 50%;\n",
              "      cursor: pointer;\n",
              "      display: none;\n",
              "      fill: #1967D2;\n",
              "      height: 32px;\n",
              "      padding: 0 0 0 0;\n",
              "      width: 32px;\n",
              "    }\n",
              "\n",
              "    .colab-df-convert:hover {\n",
              "      background-color: #E2EBFA;\n",
              "      box-shadow: 0px 1px 2px rgba(60, 64, 67, 0.3), 0px 1px 3px 1px rgba(60, 64, 67, 0.15);\n",
              "      fill: #174EA6;\n",
              "    }\n",
              "\n",
              "    [theme=dark] .colab-df-convert {\n",
              "      background-color: #3B4455;\n",
              "      fill: #D2E3FC;\n",
              "    }\n",
              "\n",
              "    [theme=dark] .colab-df-convert:hover {\n",
              "      background-color: #434B5C;\n",
              "      box-shadow: 0px 1px 3px 1px rgba(0, 0, 0, 0.15);\n",
              "      filter: drop-shadow(0px 1px 2px rgba(0, 0, 0, 0.3));\n",
              "      fill: #FFFFFF;\n",
              "    }\n",
              "  </style>\n",
              "\n",
              "      <script>\n",
              "        const buttonEl =\n",
              "          document.querySelector('#df-76580656-b9a3-4bb3-969f-50f55bcd53ed button.colab-df-convert');\n",
              "        buttonEl.style.display =\n",
              "          google.colab.kernel.accessAllowed ? 'block' : 'none';\n",
              "\n",
              "        async function convertToInteractive(key) {\n",
              "          const element = document.querySelector('#df-76580656-b9a3-4bb3-969f-50f55bcd53ed');\n",
              "          const dataTable =\n",
              "            await google.colab.kernel.invokeFunction('convertToInteractive',\n",
              "                                                     [key], {});\n",
              "          if (!dataTable) return;\n",
              "\n",
              "          const docLinkHtml = 'Like what you see? Visit the ' +\n",
              "            '<a target=\"_blank\" href=https://colab.research.google.com/notebooks/data_table.ipynb>data table notebook</a>'\n",
              "            + ' to learn more about interactive tables.';\n",
              "          element.innerHTML = '';\n",
              "          dataTable['output_type'] = 'display_data';\n",
              "          await google.colab.output.renderOutput(dataTable, element);\n",
              "          const docLink = document.createElement('div');\n",
              "          docLink.innerHTML = docLinkHtml;\n",
              "          element.appendChild(docLink);\n",
              "        }\n",
              "      </script>\n",
              "    </div>\n",
              "  </div>\n",
              "  "
            ],
            "text/plain": [
              "         Ground\n",
              "0     13.112313\n",
              "1     13.629181\n",
              "2     13.407542\n",
              "3     14.038654\n",
              "4     13.270783\n",
              "...         ...\n",
              "2122  13.218582\n",
              "2123  13.764217\n",
              "2124  13.201175\n",
              "2125  12.911642\n",
              "2126  13.337475\n",
              "\n",
              "[2127 rows x 1 columns]"
            ]
          },
          "execution_count": 115,
          "metadata": {},
          "output_type": "execute_result"
        }
      ],
      "source": [
        "df_g = pd.DataFrame(data=gro, columns=['Ground'])\n",
        "df_g"
      ]
    },
    {
      "cell_type": "code",
      "execution_count": null,
      "metadata": {
        "colab": {
          "base_uri": "https://localhost:8080/",
          "height": 423
        },
        "id": "r1GEj64RRMds",
        "outputId": "6318026a-4efe-430b-c66c-2a7e3438e249"
      },
      "outputs": [
        {
          "data": {
            "text/html": [
              "\n",
              "  <div id=\"df-c8eb2bfb-b851-466e-ae30-463711c02fd4\">\n",
              "    <div class=\"colab-df-container\">\n",
              "      <div>\n",
              "<style scoped>\n",
              "    .dataframe tbody tr th:only-of-type {\n",
              "        vertical-align: middle;\n",
              "    }\n",
              "\n",
              "    .dataframe tbody tr th {\n",
              "        vertical-align: top;\n",
              "    }\n",
              "\n",
              "    .dataframe thead th {\n",
              "        text-align: right;\n",
              "    }\n",
              "</style>\n",
              "<table border=\"1\" class=\"dataframe\">\n",
              "  <thead>\n",
              "    <tr style=\"text-align: right;\">\n",
              "      <th></th>\n",
              "      <th>Predicted</th>\n",
              "    </tr>\n",
              "  </thead>\n",
              "  <tbody>\n",
              "    <tr>\n",
              "      <th>0</th>\n",
              "      <td>13.083427</td>\n",
              "    </tr>\n",
              "    <tr>\n",
              "      <th>1</th>\n",
              "      <td>13.479285</td>\n",
              "    </tr>\n",
              "    <tr>\n",
              "      <th>2</th>\n",
              "      <td>13.466653</td>\n",
              "    </tr>\n",
              "    <tr>\n",
              "      <th>3</th>\n",
              "      <td>13.688446</td>\n",
              "    </tr>\n",
              "    <tr>\n",
              "      <th>4</th>\n",
              "      <td>13.049701</td>\n",
              "    </tr>\n",
              "    <tr>\n",
              "      <th>...</th>\n",
              "      <td>...</td>\n",
              "    </tr>\n",
              "    <tr>\n",
              "      <th>2122</th>\n",
              "      <td>13.459263</td>\n",
              "    </tr>\n",
              "    <tr>\n",
              "      <th>2123</th>\n",
              "      <td>13.427782</td>\n",
              "    </tr>\n",
              "    <tr>\n",
              "      <th>2124</th>\n",
              "      <td>13.226317</td>\n",
              "    </tr>\n",
              "    <tr>\n",
              "      <th>2125</th>\n",
              "      <td>13.130778</td>\n",
              "    </tr>\n",
              "    <tr>\n",
              "      <th>2126</th>\n",
              "      <td>13.658682</td>\n",
              "    </tr>\n",
              "  </tbody>\n",
              "</table>\n",
              "<p>2127 rows × 1 columns</p>\n",
              "</div>\n",
              "      <button class=\"colab-df-convert\" onclick=\"convertToInteractive('df-c8eb2bfb-b851-466e-ae30-463711c02fd4')\"\n",
              "              title=\"Convert this dataframe to an interactive table.\"\n",
              "              style=\"display:none;\">\n",
              "        \n",
              "  <svg xmlns=\"http://www.w3.org/2000/svg\" height=\"24px\"viewBox=\"0 0 24 24\"\n",
              "       width=\"24px\">\n",
              "    <path d=\"M0 0h24v24H0V0z\" fill=\"none\"/>\n",
              "    <path d=\"M18.56 5.44l.94 2.06.94-2.06 2.06-.94-2.06-.94-.94-2.06-.94 2.06-2.06.94zm-11 1L8.5 8.5l.94-2.06 2.06-.94-2.06-.94L8.5 2.5l-.94 2.06-2.06.94zm10 10l.94 2.06.94-2.06 2.06-.94-2.06-.94-.94-2.06-.94 2.06-2.06.94z\"/><path d=\"M17.41 7.96l-1.37-1.37c-.4-.4-.92-.59-1.43-.59-.52 0-1.04.2-1.43.59L10.3 9.45l-7.72 7.72c-.78.78-.78 2.05 0 2.83L4 21.41c.39.39.9.59 1.41.59.51 0 1.02-.2 1.41-.59l7.78-7.78 2.81-2.81c.8-.78.8-2.07 0-2.86zM5.41 20L4 18.59l7.72-7.72 1.47 1.35L5.41 20z\"/>\n",
              "  </svg>\n",
              "      </button>\n",
              "      \n",
              "  <style>\n",
              "    .colab-df-container {\n",
              "      display:flex;\n",
              "      flex-wrap:wrap;\n",
              "      gap: 12px;\n",
              "    }\n",
              "\n",
              "    .colab-df-convert {\n",
              "      background-color: #E8F0FE;\n",
              "      border: none;\n",
              "      border-radius: 50%;\n",
              "      cursor: pointer;\n",
              "      display: none;\n",
              "      fill: #1967D2;\n",
              "      height: 32px;\n",
              "      padding: 0 0 0 0;\n",
              "      width: 32px;\n",
              "    }\n",
              "\n",
              "    .colab-df-convert:hover {\n",
              "      background-color: #E2EBFA;\n",
              "      box-shadow: 0px 1px 2px rgba(60, 64, 67, 0.3), 0px 1px 3px 1px rgba(60, 64, 67, 0.15);\n",
              "      fill: #174EA6;\n",
              "    }\n",
              "\n",
              "    [theme=dark] .colab-df-convert {\n",
              "      background-color: #3B4455;\n",
              "      fill: #D2E3FC;\n",
              "    }\n",
              "\n",
              "    [theme=dark] .colab-df-convert:hover {\n",
              "      background-color: #434B5C;\n",
              "      box-shadow: 0px 1px 3px 1px rgba(0, 0, 0, 0.15);\n",
              "      filter: drop-shadow(0px 1px 2px rgba(0, 0, 0, 0.3));\n",
              "      fill: #FFFFFF;\n",
              "    }\n",
              "  </style>\n",
              "\n",
              "      <script>\n",
              "        const buttonEl =\n",
              "          document.querySelector('#df-c8eb2bfb-b851-466e-ae30-463711c02fd4 button.colab-df-convert');\n",
              "        buttonEl.style.display =\n",
              "          google.colab.kernel.accessAllowed ? 'block' : 'none';\n",
              "\n",
              "        async function convertToInteractive(key) {\n",
              "          const element = document.querySelector('#df-c8eb2bfb-b851-466e-ae30-463711c02fd4');\n",
              "          const dataTable =\n",
              "            await google.colab.kernel.invokeFunction('convertToInteractive',\n",
              "                                                     [key], {});\n",
              "          if (!dataTable) return;\n",
              "\n",
              "          const docLinkHtml = 'Like what you see? Visit the ' +\n",
              "            '<a target=\"_blank\" href=https://colab.research.google.com/notebooks/data_table.ipynb>data table notebook</a>'\n",
              "            + ' to learn more about interactive tables.';\n",
              "          element.innerHTML = '';\n",
              "          dataTable['output_type'] = 'display_data';\n",
              "          await google.colab.output.renderOutput(dataTable, element);\n",
              "          const docLink = document.createElement('div');\n",
              "          docLink.innerHTML = docLinkHtml;\n",
              "          element.appendChild(docLink);\n",
              "        }\n",
              "      </script>\n",
              "    </div>\n",
              "  </div>\n",
              "  "
            ],
            "text/plain": [
              "      Predicted\n",
              "0     13.083427\n",
              "1     13.479285\n",
              "2     13.466653\n",
              "3     13.688446\n",
              "4     13.049701\n",
              "...         ...\n",
              "2122  13.459263\n",
              "2123  13.427782\n",
              "2124  13.226317\n",
              "2125  13.130778\n",
              "2126  13.658682\n",
              "\n",
              "[2127 rows x 1 columns]"
            ]
          },
          "execution_count": 116,
          "metadata": {},
          "output_type": "execute_result"
        }
      ],
      "source": [
        "# print(preds)\n",
        "df2 = pd.DataFrame(data=preds, columns=['Predicted'])\n",
        "df2\n",
        "# print(preds)\n",
        "# columns=['v0', 'v1', 'v2', 'v3', 'v4', 'v5', 'v6', 'v7', 'v8', 'v9',\\\n",
        "#          'v10', 'v11', 'v12', 'v13', 'v14', 'v15', 'v16', 'v17', 'v18', 'v19',\\\n",
        "#          'v20', 'v21', 'v22', 'v23', 'v24', 'v25', 'v26', 'v27', 'v28', 'v29',\\\n",
        "#          'v30', 'v31', 'v32', 'v33', 'v34', 'v35', 'v36', 'v37', 'v38', 'v39',\\\n",
        "#          'v40', 'v41', 'v42', 'v43', 'v44', 'v45', 'v46', 'v47', 'v48', 'v49',\\\n",
        "#          'v50', 'v51', 'v52', 'v53', 'v54', 'v55', 'v56', 'v57', 'v58', 'v59',\\\n",
        "#          'v60', 'v61', 'v62', 'v63']\n",
        "# df2 = pd.DataFrame(data=predsv, columns=columns)\n",
        "# df2"
      ]
    },
    {
      "cell_type": "code",
      "execution_count": null,
      "metadata": {
        "id": "YpBct0KdR3tr"
      },
      "outputs": [],
      "source": [
        "Y_true = df_g['Ground']\n",
        "pred = df2['Predicted']"
      ]
    },
    {
      "cell_type": "code",
      "execution_count": null,
      "metadata": {
        "colab": {
          "base_uri": "https://localhost:8080/"
        },
        "id": "2V1HOt8kSFre",
        "outputId": "c2318469-1a47-4c49-e4b9-fa9fb2c9262f"
      },
      "outputs": [],
      "source": [
        "from sklearn.metrics import r2_score\n",
        "\n",
        "r2_score(Y_true,pred)"
      ]
    },
    {
      "cell_type": "code",
      "execution_count": null,
      "metadata": {
        "id": "ITT6e86_SJDp"
      },
      "outputs": [],
      "source": [
        "import sklearn.metrics\n",
        "import math"
      ]
    },
    {
      "cell_type": "code",
      "execution_count": null,
      "metadata": {
        "colab": {
          "base_uri": "https://localhost:8080/"
        },
        "id": "N2NfBa2MSNdM",
        "outputId": "47d58a86-f75f-42be-cee3-115b6609f0a5"
      },
      "outputs": [],
      "source": [
        "mse = sklearn.metrics.mean_squared_error(Y_true, pred)\n",
        "\n",
        "rmse = math.sqrt(mse)\n",
        "\n",
        "print(mse)\n",
        "print(rmse)"
      ]
    },
    {
      "cell_type": "code",
      "execution_count": null,
      "metadata": {
        "id": "UrvM9Ssgo8pk"
      },
      "outputs": [],
      "source": [
        "# df3 = df_test.copy()"
      ]
    },
    {
      "cell_type": "code",
      "execution_count": null,
      "metadata": {
        "id": "l2Q6SW9no_Vp"
      },
      "outputs": [],
      "source": [
        "# df3 = df3.reset_index(drop=True)\n",
        "# df3"
      ]
    },
    {
      "cell_type": "code",
      "execution_count": null,
      "metadata": {
        "id": "2uAxLTRvpCZG"
      },
      "outputs": [],
      "source": [
        "# result = pd.concat([df3, df2], axis=1, join='inner')\n",
        "# # result.loc[(result.Predicted < 0), 'Predicted'] = 0\n",
        "# # result.loc[(result.Predicted > 500), 'Predicted'] = 500\n",
        "# result"
      ]
    },
    {
      "cell_type": "code",
      "execution_count": null,
      "metadata": {
        "id": "E_Ueyf1lpKs9"
      },
      "outputs": [],
      "source": [
        "# result.to_csv('/content/drive/MyDrive/data/proj_RE_bing_ex2_2019_T_o_04.csv')\n",
        "# result"
      ]
    },
    {
      "cell_type": "code",
      "execution_count": null,
      "metadata": {
        "colab": {
          "base_uri": "https://localhost:8080/",
          "height": 634
        },
        "id": "jR2oiEv_R6o5",
        "outputId": "ca6762e1-f408-48ce-8f91-9c20c59cfcde"
      },
      "outputs": [],
      "source": [
        "fig = plt.figure(figsize=[10, 10])\n",
        "ax = fig.add_subplot(2, 2, 1)\n",
        "ax.scatter(df_g['Ground'], df_test_dl['price_value'])\n",
        "ax.set_xlabel('value')\n",
        "ax.set_ylabel('predicted')\n",
        "ax.set_title(str(df_test_dl['price_value'].corr(df_g['Ground'])))"
      ]
    }
  ],
  "metadata": {
    "accelerator": "GPU",
    "colab": {
      "provenance": []
    },
    "gpuClass": "standard",
    "kernelspec": {
      "display_name": "Python 3",
      "language": "python",
      "name": "python3"
    },
    "language_info": {
      "codemirror_mode": {
        "name": "ipython",
        "version": 3
      },
      "file_extension": ".py",
      "mimetype": "text/x-python",
      "name": "python",
      "nbconvert_exporter": "python",
      "pygments_lexer": "ipython3",
      "version": "3.7.6"
    },
    "widgets": {
      "application/vnd.jupyter.widget-state+json": {
        "1e9340730f1d425a84020103c62a0713": {
          "model_module": "@jupyter-widgets/controls",
          "model_module_version": "1.5.0",
          "model_name": "HTMLModel",
          "state": {
            "_dom_classes": [],
            "_model_module": "@jupyter-widgets/controls",
            "_model_module_version": "1.5.0",
            "_model_name": "HTMLModel",
            "_view_count": null,
            "_view_module": "@jupyter-widgets/controls",
            "_view_module_version": "1.5.0",
            "_view_name": "HTMLView",
            "description": "",
            "description_tooltip": null,
            "layout": "IPY_MODEL_2b35ab7f75664fb8ac6d310f4524a718",
            "placeholder": "​",
            "style": "IPY_MODEL_e539265a91b848f4a615c3fc3c472322",
            "value": " 83.3M/83.3M [00:00&lt;00:00, 242MB/s]"
          }
        },
        "2b35ab7f75664fb8ac6d310f4524a718": {
          "model_module": "@jupyter-widgets/base",
          "model_module_version": "1.2.0",
          "model_name": "LayoutModel",
          "state": {
            "_model_module": "@jupyter-widgets/base",
            "_model_module_version": "1.2.0",
            "_model_name": "LayoutModel",
            "_view_count": null,
            "_view_module": "@jupyter-widgets/base",
            "_view_module_version": "1.2.0",
            "_view_name": "LayoutView",
            "align_content": null,
            "align_items": null,
            "align_self": null,
            "border": null,
            "bottom": null,
            "display": null,
            "flex": null,
            "flex_flow": null,
            "grid_area": null,
            "grid_auto_columns": null,
            "grid_auto_flow": null,
            "grid_auto_rows": null,
            "grid_column": null,
            "grid_gap": null,
            "grid_row": null,
            "grid_template_areas": null,
            "grid_template_columns": null,
            "grid_template_rows": null,
            "height": null,
            "justify_content": null,
            "justify_items": null,
            "left": null,
            "margin": null,
            "max_height": null,
            "max_width": null,
            "min_height": null,
            "min_width": null,
            "object_fit": null,
            "object_position": null,
            "order": null,
            "overflow": null,
            "overflow_x": null,
            "overflow_y": null,
            "padding": null,
            "right": null,
            "top": null,
            "visibility": null,
            "width": null
          }
        },
        "44b05be9bc8240c18f42bef6d47f8156": {
          "model_module": "@jupyter-widgets/base",
          "model_module_version": "1.2.0",
          "model_name": "LayoutModel",
          "state": {
            "_model_module": "@jupyter-widgets/base",
            "_model_module_version": "1.2.0",
            "_model_name": "LayoutModel",
            "_view_count": null,
            "_view_module": "@jupyter-widgets/base",
            "_view_module_version": "1.2.0",
            "_view_name": "LayoutView",
            "align_content": null,
            "align_items": null,
            "align_self": null,
            "border": null,
            "bottom": null,
            "display": null,
            "flex": null,
            "flex_flow": null,
            "grid_area": null,
            "grid_auto_columns": null,
            "grid_auto_flow": null,
            "grid_auto_rows": null,
            "grid_column": null,
            "grid_gap": null,
            "grid_row": null,
            "grid_template_areas": null,
            "grid_template_columns": null,
            "grid_template_rows": null,
            "height": null,
            "justify_content": null,
            "justify_items": null,
            "left": null,
            "margin": null,
            "max_height": null,
            "max_width": null,
            "min_height": null,
            "min_width": null,
            "object_fit": null,
            "object_position": null,
            "order": null,
            "overflow": null,
            "overflow_x": null,
            "overflow_y": null,
            "padding": null,
            "right": null,
            "top": null,
            "visibility": null,
            "width": null
          }
        },
        "70f52703d69b48019015fa0c613fdca7": {
          "model_module": "@jupyter-widgets/base",
          "model_module_version": "1.2.0",
          "model_name": "LayoutModel",
          "state": {
            "_model_module": "@jupyter-widgets/base",
            "_model_module_version": "1.2.0",
            "_model_name": "LayoutModel",
            "_view_count": null,
            "_view_module": "@jupyter-widgets/base",
            "_view_module_version": "1.2.0",
            "_view_name": "LayoutView",
            "align_content": null,
            "align_items": null,
            "align_self": null,
            "border": null,
            "bottom": null,
            "display": null,
            "flex": null,
            "flex_flow": null,
            "grid_area": null,
            "grid_auto_columns": null,
            "grid_auto_flow": null,
            "grid_auto_rows": null,
            "grid_column": null,
            "grid_gap": null,
            "grid_row": null,
            "grid_template_areas": null,
            "grid_template_columns": null,
            "grid_template_rows": null,
            "height": null,
            "justify_content": null,
            "justify_items": null,
            "left": null,
            "margin": null,
            "max_height": null,
            "max_width": null,
            "min_height": null,
            "min_width": null,
            "object_fit": null,
            "object_position": null,
            "order": null,
            "overflow": null,
            "overflow_x": null,
            "overflow_y": null,
            "padding": null,
            "right": null,
            "top": null,
            "visibility": null,
            "width": null
          }
        },
        "789a1413aecc4dc4bf1ce1d1c2e230dd": {
          "model_module": "@jupyter-widgets/controls",
          "model_module_version": "1.5.0",
          "model_name": "DescriptionStyleModel",
          "state": {
            "_model_module": "@jupyter-widgets/controls",
            "_model_module_version": "1.5.0",
            "_model_name": "DescriptionStyleModel",
            "_view_count": null,
            "_view_module": "@jupyter-widgets/base",
            "_view_module_version": "1.2.0",
            "_view_name": "StyleView",
            "description_width": ""
          }
        },
        "7cda3fab85124c9288a1ce18621458ac": {
          "model_module": "@jupyter-widgets/controls",
          "model_module_version": "1.5.0",
          "model_name": "ProgressStyleModel",
          "state": {
            "_model_module": "@jupyter-widgets/controls",
            "_model_module_version": "1.5.0",
            "_model_name": "ProgressStyleModel",
            "_view_count": null,
            "_view_module": "@jupyter-widgets/base",
            "_view_module_version": "1.2.0",
            "_view_name": "StyleView",
            "bar_color": null,
            "description_width": ""
          }
        },
        "a93356fef1424e9a99187586c1018483": {
          "model_module": "@jupyter-widgets/controls",
          "model_module_version": "1.5.0",
          "model_name": "FloatProgressModel",
          "state": {
            "_dom_classes": [],
            "_model_module": "@jupyter-widgets/controls",
            "_model_module_version": "1.5.0",
            "_model_name": "FloatProgressModel",
            "_view_count": null,
            "_view_module": "@jupyter-widgets/controls",
            "_view_module_version": "1.5.0",
            "_view_name": "ProgressView",
            "bar_style": "success",
            "description": "",
            "description_tooltip": null,
            "layout": "IPY_MODEL_70f52703d69b48019015fa0c613fdca7",
            "max": 87319819,
            "min": 0,
            "orientation": "horizontal",
            "style": "IPY_MODEL_7cda3fab85124c9288a1ce18621458ac",
            "value": 87319819
          }
        },
        "b60be8ff77134300beac1160b09b74e8": {
          "model_module": "@jupyter-widgets/controls",
          "model_module_version": "1.5.0",
          "model_name": "HTMLModel",
          "state": {
            "_dom_classes": [],
            "_model_module": "@jupyter-widgets/controls",
            "_model_module_version": "1.5.0",
            "_model_name": "HTMLModel",
            "_view_count": null,
            "_view_module": "@jupyter-widgets/controls",
            "_view_module_version": "1.5.0",
            "_view_name": "HTMLView",
            "description": "",
            "description_tooltip": null,
            "layout": "IPY_MODEL_db9826570b94475ab6cb261eed040465",
            "placeholder": "​",
            "style": "IPY_MODEL_789a1413aecc4dc4bf1ce1d1c2e230dd",
            "value": "100%"
          }
        },
        "db9826570b94475ab6cb261eed040465": {
          "model_module": "@jupyter-widgets/base",
          "model_module_version": "1.2.0",
          "model_name": "LayoutModel",
          "state": {
            "_model_module": "@jupyter-widgets/base",
            "_model_module_version": "1.2.0",
            "_model_name": "LayoutModel",
            "_view_count": null,
            "_view_module": "@jupyter-widgets/base",
            "_view_module_version": "1.2.0",
            "_view_name": "LayoutView",
            "align_content": null,
            "align_items": null,
            "align_self": null,
            "border": null,
            "bottom": null,
            "display": null,
            "flex": null,
            "flex_flow": null,
            "grid_area": null,
            "grid_auto_columns": null,
            "grid_auto_flow": null,
            "grid_auto_rows": null,
            "grid_column": null,
            "grid_gap": null,
            "grid_row": null,
            "grid_template_areas": null,
            "grid_template_columns": null,
            "grid_template_rows": null,
            "height": null,
            "justify_content": null,
            "justify_items": null,
            "left": null,
            "margin": null,
            "max_height": null,
            "max_width": null,
            "min_height": null,
            "min_width": null,
            "object_fit": null,
            "object_position": null,
            "order": null,
            "overflow": null,
            "overflow_x": null,
            "overflow_y": null,
            "padding": null,
            "right": null,
            "top": null,
            "visibility": null,
            "width": null
          }
        },
        "e539265a91b848f4a615c3fc3c472322": {
          "model_module": "@jupyter-widgets/controls",
          "model_module_version": "1.5.0",
          "model_name": "DescriptionStyleModel",
          "state": {
            "_model_module": "@jupyter-widgets/controls",
            "_model_module_version": "1.5.0",
            "_model_name": "DescriptionStyleModel",
            "_view_count": null,
            "_view_module": "@jupyter-widgets/base",
            "_view_module_version": "1.2.0",
            "_view_name": "StyleView",
            "description_width": ""
          }
        },
        "f5448262a96547db8d69d65827520d6e": {
          "model_module": "@jupyter-widgets/controls",
          "model_module_version": "1.5.0",
          "model_name": "HBoxModel",
          "state": {
            "_dom_classes": [],
            "_model_module": "@jupyter-widgets/controls",
            "_model_module_version": "1.5.0",
            "_model_name": "HBoxModel",
            "_view_count": null,
            "_view_module": "@jupyter-widgets/controls",
            "_view_module_version": "1.5.0",
            "_view_name": "HBoxView",
            "box_style": "",
            "children": [
              "IPY_MODEL_b60be8ff77134300beac1160b09b74e8",
              "IPY_MODEL_a93356fef1424e9a99187586c1018483",
              "IPY_MODEL_1e9340730f1d425a84020103c62a0713"
            ],
            "layout": "IPY_MODEL_44b05be9bc8240c18f42bef6d47f8156"
          }
        }
      }
    }
  },
  "nbformat": 4,
  "nbformat_minor": 0
}
