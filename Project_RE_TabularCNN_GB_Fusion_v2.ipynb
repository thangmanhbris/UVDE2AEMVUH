{
  "cells": [
    {
      "cell_type": "code",
      "execution_count": null,
      "metadata": {
        "id": "HPc8Pqy8j8zz"
      },
      "outputs": [],
      "source": [
        "!mkdir /content/Bing_data"
      ]
    },
    {
      "cell_type": "code",
      "execution_count": null,
      "metadata": {
        "id": "BjTggF3Fko1X"
      },
      "outputs": [],
      "source": [
        "#/content/drive/MyDrive/Sync/BingImage-ACACIA_RIDGE_QLD7.zip\n",
        "\n",
        "import zipfile\n",
        "\n",
        "zip_file = \"/content/drive/MyDrive/Bing_data/Bing_data01.zip\"\n",
        "\n",
        "try:\n",
        "    with zipfile.ZipFile(zip_file) as z:\n",
        "        z.extractall(\"/content/Bing_data/\")\n",
        "        print(\"Extracted all\")\n",
        "except:\n",
        "    print(\"Invalid file\")"
      ]
    },
    {
      "cell_type": "code",
      "execution_count": null,
      "metadata": {
        "id": "CjLBCyZj_lnZ"
      },
      "outputs": [],
      "source": [
        "!mkdir /content/Google_data"
      ]
    },
    {
      "cell_type": "code",
      "execution_count": null,
      "metadata": {
        "id": "h6Mke45K_r1D"
      },
      "outputs": [],
      "source": [
        "#/content/drive/MyDrive/Sync/BingImage-ACACIA_RIDGE_QLD7.zip\n",
        "\n",
        "import zipfile\n",
        "\n",
        "zip_file = \"/content/drive/MyDrive/Google_data/Google_data01.zip\"\n",
        "\n",
        "try:\n",
        "    with zipfile.ZipFile(zip_file) as z:\n",
        "        z.extractall(\"/content/Google_data/\")\n",
        "        print(\"Extracted all\")\n",
        "except:\n",
        "    print(\"Invalid file\")"
      ]
    },
    {
      "cell_type": "code",
      "execution_count": null,
      "metadata": {
        "colab": {
          "base_uri": "https://localhost:8080/"
        },
        "id": "mSkb0vVIleEj",
        "outputId": "c2381c4b-afec-42b0-b138-5bcdb45ea7b9"
      },
      "outputs": [],
      "source": [
        "cd /content/drive/MyDrive/image_tabular-master"
      ]
    },
    {
      "cell_type": "code",
      "execution_count": null,
      "metadata": {
        "colab": {
          "base_uri": "https://localhost:8080/",
          "height": 35
        },
        "id": "bHVAP1zPllhM",
        "outputId": "213b313e-6954-4966-af4e-dbf3b135b001"
      },
      "outputs": [
        {
          "data": {
            "application/vnd.google.colaboratory.intrinsic+json": {
              "type": "string"
            },
            "text/plain": [
              "'1.0.61'"
            ]
          },
          "execution_count": 83,
          "metadata": {},
          "output_type": "execute_result"
        }
      ],
      "source": [
        "import fastai; fastai.__version__"
      ]
    },
    {
      "cell_type": "code",
      "execution_count": null,
      "metadata": {
        "id": "7K_7o1uDlqTS"
      },
      "outputs": [],
      "source": [
        "%reload_ext autoreload\n",
        "%autoreload 2\n",
        "%matplotlib inline"
      ]
    },
    {
      "cell_type": "code",
      "execution_count": null,
      "metadata": {
        "id": "zpEcJFJolwJN"
      },
      "outputs": [],
      "source": [
        "from fastai.vision import *\n",
        "from fastai.tabular import *\n",
        "from image2_tabular.core import *\n",
        "from image2_tabular.dataset import *\n",
        "from image2_tabular.model import *\n",
        "from image2_tabular.metric import *"
      ]
    },
    {
      "cell_type": "code",
      "execution_count": null,
      "metadata": {
        "id": "69wcIo9Cl3tT"
      },
      "outputs": [],
      "source": [
        "bs = 32\n",
        "imsize = 256\n",
        "\n",
        "np.random.seed(2)"
      ]
    },
    {
      "cell_type": "code",
      "execution_count": null,
      "metadata": {
        "id": "Rkuprx1WmARr"
      },
      "outputs": [],
      "source": [
        "import warnings\n",
        "warnings.filterwarnings(\"ignore\", category=UserWarning, module=\"torch.nn.functional\")"
      ]
    },
    {
      "cell_type": "code",
      "execution_count": null,
      "metadata": {
        "id": "mYyWKty7mE5-"
      },
      "outputs": [],
      "source": [
        "data_path = Path(\"/content/sample_data/\")"
      ]
    },
    {
      "cell_type": "code",
      "execution_count": null,
      "metadata": {
        "colab": {
          "base_uri": "https://localhost:8080/",
          "height": 661
        },
        "id": "FQ7ldc7DmJlD",
        "outputId": "86a378ed-6813-489b-b2aa-c9a1ceced347"
      },
      "outputs": [],
      "source": [
        "house_price_df = pd.read_csv('/content/drive/MyDrive/QUTREProject/Brisbane_suburbs_02_sales_2019_property_GB_Prop_dist16_T_new.csv', index_col=0)\n",
        "house_price_df"
      ]
    },
    {
      "cell_type": "code",
      "execution_count": null,
      "metadata": {
        "colab": {
          "base_uri": "https://localhost:8080/",
          "height": 661
        },
        "id": "rznGrbR9mQ_U",
        "outputId": "84af47e7-0939-454b-98ca-38e5691070ee"
      },
      "outputs": [],
      "source": [
        "train_df=house_price_df.sample(frac=0.8,random_state=200) #random state is a seed value\n",
        "test_df=house_price_df.drop(train_df.index)\n",
        "train_df.reset_index()\n",
        "test_df.reset_index()"
      ]
    },
    {
      "cell_type": "code",
      "execution_count": null,
      "metadata": {
        "colab": {
          "base_uri": "https://localhost:8080/",
          "height": 661
        },
        "id": "Q86dHjojmXhd",
        "outputId": "7d08c118-8651-463a-c5f7-3b8650d6eb6d"
      },
      "outputs": [],
      "source": [
        "train_df.reset_index(drop=True, inplace=True)\n",
        "train_df"
      ]
    },
    {
      "cell_type": "code",
      "execution_count": null,
      "metadata": {
        "colab": {
          "base_uri": "https://localhost:8080/",
          "height": 661
        },
        "id": "xTzO_lkrmd-5",
        "outputId": "4afd7c8b-c140-4f39-fee4-c562a2709eca"
      },
      "outputs": [],
      "source": [
        "test_df.reset_index(drop=True, inplace=True)\n",
        "test_df"
      ]
    },
    {
      "cell_type": "code",
      "execution_count": null,
      "metadata": {
        "colab": {
          "base_uri": "https://localhost:8080/"
        },
        "id": "ZDzkWc6ZnGrl",
        "outputId": "908175f9-3708-4234-a830-5d131229c139"
      },
      "outputs": [],
      "source": [
        "# Check the length of the dataset\n",
        "print(train_df.shape)\n",
        "print(test_df.shape)"
      ]
    },
    {
      "cell_type": "code",
      "execution_count": null,
      "metadata": {
        "colab": {
          "base_uri": "https://localhost:8080/"
        },
        "id": "KzoEROsznJJc",
        "outputId": "b6cf7f76-4037-4a34-ff4c-6864f8755379"
      },
      "outputs": [],
      "source": [
        "print(train_df.columns)"
      ]
    },
    {
      "cell_type": "code",
      "execution_count": null,
      "metadata": {
        "colab": {
          "base_uri": "https://localhost:8080/",
          "height": 394
        },
        "id": "NdeMIj6NnOhz",
        "outputId": "80257150-c91f-4021-df53-691905409a91"
      },
      "outputs": [],
      "source": [
        "train_df.describe()"
      ]
    },
    {
      "cell_type": "code",
      "execution_count": null,
      "metadata": {
        "id": "3CwZqV7VnV00"
      },
      "outputs": [],
      "source": [
        "tfms = get_transforms(do_flip=False, max_rotate=5, max_zoom=1.05)\n",
        "\n",
        "procs = [Normalize]\n",
        "\n",
        "size = 256"
      ]
    },
    {
      "cell_type": "code",
      "execution_count": null,
      "metadata": {
        "colab": {
          "base_uri": "https://localhost:8080/"
        },
        "id": "sFOKOZA4ndZT",
        "outputId": "3cda69c3-463e-4fb6-c4f5-7c70d45353e9"
      },
      "outputs": [],
      "source": [
        "# idx for validation, shared by image and tabular data\n",
        "val_idx = get_valid_index(train_df)\n",
        "len(val_idx)"
      ]
    },
    {
      "cell_type": "code",
      "execution_count": null,
      "metadata": {
        "colab": {
          "base_uri": "https://localhost:8080/"
        },
        "id": "19dGBPjEnjBW",
        "outputId": "71fe9feb-9811-4cfa-89b7-6cd259342ca3"
      },
      "outputs": [],
      "source": [
        "# load image data using train_df and prepare fastai LabelLists\n",
        "image_path_Bing = Path(\"/content/Bing_data/\")\n",
        "\n",
        "image_data_Bing = (ImageList.from_df(train_df, path=image_path_Bing, cols=\"image_Bing\")\n",
        "              .split_by_idx(val_idx)\n",
        "              .label_from_df(cols=\"price_value\", label_cls=FloatList, log=True)\n",
        "              .transform(tfms, size=size))\n",
        "\n",
        "# add test data so that we can make predictions\n",
        "test_image_data_Bing = ImageList.from_df(test_df, path=image_path_Bing, cols=\"image_Bing\")\n",
        "image_data_Bing.add_test(test_image_data_Bing)"
      ]
    },
    {
      "cell_type": "code",
      "execution_count": null,
      "metadata": {
        "colab": {
          "base_uri": "https://localhost:8080/",
          "height": 290
        },
        "id": "xTB99TaWnvP5",
        "outputId": "c32e5d2d-e229-4dd8-87a9-48a68823aec7"
      },
      "outputs": [],
      "source": [
        "# show one example image\n",
        "print(image_data_Bing.train[0][1])\n",
        "image_data_Bing.train[0][0]"
      ]
    },
    {
      "cell_type": "code",
      "execution_count": null,
      "metadata": {
        "colab": {
          "base_uri": "https://localhost:8080/"
        },
        "id": "_Qat4p6otiaB",
        "outputId": "db76f3a6-9832-4050-d27f-12a65ede1dcf"
      },
      "outputs": [],
      "source": [
        "# load image data using train_df and prepare fastai LabelLists\n",
        "image_path_Google = Path(\"/content/Google_data/\")\n",
        "\n",
        "image_data_Google = (ImageList.from_df(train_df, path=image_path_Google, cols=\"image_Google\")\n",
        "              .split_by_idx(val_idx)\n",
        "              .label_from_df(cols=\"price_value\", label_cls=FloatList, log=True)\n",
        "              .transform(tfms, size=size))\n",
        "\n",
        "# add test data so that we can make predictions\n",
        "test_image_data_Google = ImageList.from_df(test_df, path=image_path_Google, cols=\"image_Google\")\n",
        "image_data_Google.add_test(test_image_data_Google)"
      ]
    },
    {
      "cell_type": "code",
      "execution_count": null,
      "metadata": {
        "colab": {
          "base_uri": "https://localhost:8080/",
          "height": 290
        },
        "id": "YBqeOnxYvZGf",
        "outputId": "1a06a09c-5b62-4b1c-9e06-c1d04364f810"
      },
      "outputs": [],
      "source": [
        "# show one example image\n",
        "print(image_data_Google.train[0][1])\n",
        "image_data_Google.train[0][0]"
      ]
    },
    {
      "cell_type": "code",
      "execution_count": null,
      "metadata": {
        "id": "eUTRNoLhn_Om"
      },
      "outputs": [],
      "source": [
        "dep_var = 'price_value'\n",
        "#cat_names = ['suburb_id_x']\n",
        "cat_names = []\n",
        "cont_names = ['propertyFeatures_bedrooms_x', 'propertyFeatures_bathrooms_x', 'propertyFeatures_carparks_x', 'landDetails_propertyArea_x', 'school_dist'\\\n",
        "              , 'hospital_dist', 'uni_dist', 'park_dist', 'mall_dist', 'CBD_dist', 'First_year_transaction', 'highway_dist', 'bus_stop_dist', \\\n",
        "       'ferry_terminal_dist', 'railway_station_dist', 'number_transaction', \\\n",
        "       'crime_rate_2019', 'state_school_percentage', \\\n",
        "       'class_size_achievement_pct_2019', 'Density', 'Score2019']\n",
        "procs = [FillMissing, Categorify, Normalize]"
      ]
    },
    {
      "cell_type": "code",
      "execution_count": null,
      "metadata": {
        "colab": {
          "base_uri": "https://localhost:8080/"
        },
        "id": "L89UwUQLoGAU",
        "outputId": "50557515-c51f-4caa-e4e7-63dfc22caa69"
      },
      "outputs": [],
      "source": [
        "tab_data = (TabularList.from_df(train_df, path=data_path, cat_names=cat_names, cont_names=cont_names, procs=procs)\n",
        "                           .split_by_idx(val_idx)\n",
        "                           .label_from_df(cols=dep_var, label_cls=FloatList, log=True))\n",
        "\n",
        "# add test\n",
        "tab_data.add_test(TabularList.from_df(test_df, cat_names=cat_names, cont_names=cont_names,\n",
        "                                      processor = tab_data.train.x.processor))"
      ]
    },
    {
      "cell_type": "code",
      "execution_count": null,
      "metadata": {
        "colab": {
          "base_uri": "https://localhost:8080/"
        },
        "id": "wh06dmlfoLXG",
        "outputId": "cce9fbe5-a92c-4384-b73c-e862e6292dd1"
      },
      "outputs": [],
      "source": [
        "tab_data.train[0]"
      ]
    },
    {
      "cell_type": "code",
      "execution_count": null,
      "metadata": {
        "id": "8MgUu5vcoQSb"
      },
      "outputs": [],
      "source": [
        "integrate_train, integrate_valid, integrate_test = get_imagetabdatasets(image_data_Google, image_data_Bing, tab_data)"
      ]
    },
    {
      "cell_type": "code",
      "execution_count": null,
      "metadata": {
        "colab": {
          "base_uri": "https://localhost:8080/"
        },
        "id": "9IRDKIl1oWB_",
        "outputId": "30a715a6-827d-48fa-cfb9-74d111c91622"
      },
      "outputs": [],
      "source": [
        "# package train, valid, and test datasets into a fastai databunch\n",
        "bs = 64\n",
        "\n",
        "db = DataBunch.create(integrate_train, integrate_valid, integrate_test, path=data_path, bs=bs)\n",
        "db"
      ]
    },
    {
      "cell_type": "code",
      "execution_count": null,
      "metadata": {
        "id": "Iy34DEu3oag5"
      },
      "outputs": [],
      "source": [
        "# image normalization with imagenet_stats\n",
        "db.norm, db.denorm = normalize_funcs_image_tab(*imagenet_stats)\n",
        "db.add_tfm(db.norm)"
      ]
    },
    {
      "cell_type": "code",
      "execution_count": null,
      "metadata": {
        "colab": {
          "base_uri": "https://localhost:8080/"
        },
        "id": "gwsQNkuuoltY",
        "outputId": "1535b0de-35e5-497c-8c08-c991eceff2dd"
      },
      "outputs": [],
      "source": [
        "# check the shape of one batch\n",
        "x, y = next(iter(db.train_dl))\n",
        "len(x)"
      ]
    },
    {
      "cell_type": "code",
      "execution_count": null,
      "metadata": {
        "colab": {
          "base_uri": "https://localhost:8080/"
        },
        "id": "Z0w_EM4zovN0",
        "outputId": "6a9fc346-0a5b-4ae0-b827-be6f6b2cdadf"
      },
      "outputs": [],
      "source": [
        "# images\n",
        "x[0].shape"
      ]
    },
    {
      "cell_type": "code",
      "execution_count": null,
      "metadata": {
        "colab": {
          "base_uri": "https://localhost:8080/"
        },
        "id": "mwxCmIemo04X",
        "outputId": "e2d21140-2b0a-42c6-d9c6-4a9e4b69b29b"
      },
      "outputs": [],
      "source": [
        "# categorical and continuous tabular data\n",
        "x[1][0].shape, x[1][1].shape"
      ]
    },
    {
      "cell_type": "code",
      "execution_count": null,
      "metadata": {
        "colab": {
          "base_uri": "https://localhost:8080/"
        },
        "id": "H7fR4k56o9aL",
        "outputId": "5830de09-bda9-469c-af1a-ec74dccedddc"
      },
      "outputs": [],
      "source": [
        "# targets\n",
        "y.shape"
      ]
    },
    {
      "cell_type": "code",
      "execution_count": null,
      "metadata": {
        "id": "IjIXFA99pGvF"
      },
      "outputs": [],
      "source": [
        "# cnn model for images, use Resnet50 as an example\n",
        "cnn_arch = models.resnet34\n",
        "\n",
        "# cnn_out_sz is the output size of the cnn model that will be concatenated with tabular model output\n",
        "cnn_out_sz = 128\n",
        "\n",
        "# use fastai functions to get a cnn model\n",
        "image_data_db_Google = image_data_Google.databunch()\n",
        "image_data_db_Google.c = cnn_out_sz\n",
        "cnn_learn_Google = cnn_learner(image_data_db_Google, cnn_arch, ps=0.2)\n",
        "cnn_model_Google = cnn_learn_Google.model"
      ]
    },
    {
      "cell_type": "code",
      "execution_count": null,
      "metadata": {
        "id": "9oO_8xwKwTIH"
      },
      "outputs": [],
      "source": [
        "# cnn model for images, use Resnet50 as an example\n",
        "cnn_arch = models.resnet34\n",
        "\n",
        "# cnn_out_sz is the output size of the cnn model that will be concatenated with tabular model output\n",
        "cnn_out_sz = 128\n",
        "\n",
        "# use fastai functions to get a cnn model\n",
        "image_data_db_Bing = image_data_Bing.databunch()\n",
        "image_data_db_Bing.c = cnn_out_sz\n",
        "cnn_learn_Bing = cnn_learner(image_data_db_Bing, cnn_arch, ps=0.2)\n",
        "cnn_model_Bing = cnn_learn_Bing.model"
      ]
    },
    {
      "cell_type": "code",
      "execution_count": null,
      "metadata": {
        "colab": {
          "base_uri": "https://localhost:8080/"
        },
        "id": "Sgyt4lgkpW8i",
        "outputId": "eb66ac3c-a58e-4ffa-8cbd-6aeeade63020"
      },
      "outputs": [],
      "source": [
        "# get embedding sizes of categorical data\n",
        "emb_szs = tab_data.train.get_emb_szs()\n",
        "\n",
        "# output size of the tabular model that will be concatenated with cnn model output\n",
        "tab_out_sz = 1\n",
        "\n",
        "# use fastai functions to get a tabular model\n",
        "tabular_model = TabularModel(emb_szs, len(cont_names), out_sz=tab_out_sz, layers=[], ps=0.2)\n",
        "tabular_model"
      ]
    },
    {
      "cell_type": "code",
      "execution_count": null,
      "metadata": {
        "id": "SnO-w4zvpmNh"
      },
      "outputs": [],
      "source": [
        "# use gpu by default if available\n",
        "device = torch.device('cuda:0' if torch.cuda.is_available() else 'cpu')\n",
        "#device = torch.device('cpu')"
      ]
    },
    {
      "cell_type": "code",
      "execution_count": null,
      "metadata": {
        "colab": {
          "base_uri": "https://localhost:8080/"
        },
        "id": "yHhK-aZYpyYP",
        "outputId": "cde1e752-5df6-4e98-a4d8-1bbc92cf06fe"
      },
      "outputs": [],
      "source": [
        "torch.cuda.is_available()"
      ]
    },
    {
      "cell_type": "code",
      "execution_count": null,
      "metadata": {
        "id": "JrRvBtW-p31U"
      },
      "outputs": [],
      "source": [
        "# get an integrated model that combines the two components and concatenate their outputs\n",
        "# which will pass through additional fully connected layers\n",
        "cnn_out_total_sz = 2 * cnn_out_sz\n",
        "integrate_model = CNNTabularModel(cnn_model_Google,\n",
        "                                  cnn_model_Bing,\n",
        "                                  tabular_model,\n",
        "                                  layers = [cnn_out_total_sz + tab_out_sz, 1],\n",
        "                                  ps=0.2,\n",
        "                                  out_sz=1).to(device)"
      ]
    },
    {
      "cell_type": "code",
      "execution_count": null,
      "metadata": {
        "colab": {
          "base_uri": "https://localhost:8080/"
        },
        "id": "trvzOtcZp8OF",
        "outputId": "6e6feb21-4d8c-491f-b2b9-c4fecdeefbaa"
      },
      "outputs": [],
      "source": [
        "# check model output dimension, should be (bs, 2)\n",
        "integrate_model(*x).shape"
      ]
    },
    {
      "cell_type": "code",
      "execution_count": null,
      "metadata": {
        "id": "4ztHvDzrqBg2"
      },
      "outputs": [],
      "source": [
        "# adjust loss function weight because the dataset is extremely unbalanced\n",
        "weights = [1/(1-train_df[\"price_value\"].mean()), 1/train_df[\"price_value\"].mean()]\n",
        "#loss_func = CrossEntropyFlat(weight=torch.FloatTensor(weights).to(device))\n",
        "#loss_func = CrossEntropyFlat(weight=torch.FloatTensor(weights).to(device))\n",
        "class L1LossFlat(nn.SmoothL1Loss):\n",
        "    def forward(self, input:Tensor, target:Tensor) -> Rank0Tensor:\n",
        "        return super().forward(input.view(-1), target.view(-1))"
      ]
    },
    {
      "cell_type": "code",
      "execution_count": null,
      "metadata": {
        "id": "3r-1CKHxqH1v"
      },
      "outputs": [],
      "source": [
        "# package everything in a fastai learner, add auc roc score as a metric\n",
        "#learn = Learner(db, integrate_model, metrics=[accuracy, ROCAUC()], loss_func=loss_func)\n",
        "learn = Learner(db, integrate_model, metrics=root_mean_squared_error)\n",
        "#learn.loss_func = L1LossFlat()\n",
        "learn.loss_func = MSELossFlat()"
      ]
    },
    {
      "cell_type": "code",
      "execution_count": null,
      "metadata": {
        "id": "pt_meVZQqh7h"
      },
      "outputs": [],
      "source": [
        "# organize layer groups in order to use differential learning rates provided by fastai\n",
        "# the first two layer groups are earlier layers of resnet\n",
        "# the last layer group consists of the fully connected layers of cnn model, tabular model,\n",
        "# and final fully connected layers for the concatenated data\n",
        "learn.layer_groups = [nn.Sequential(*flatten_model(cnn_learn_Google.layer_groups[0])),\n",
        "                      nn.Sequential(*flatten_model(cnn_learn_Bing.layer_groups[0])),\n",
        "                      nn.Sequential(*flatten_model(cnn_learn_Google.layer_groups[1])),\n",
        "                      nn.Sequential(*flatten_model(cnn_learn_Bing.layer_groups[1])),\n",
        "                      nn.Sequential(*(flatten_model(cnn_learn_Google.layer_groups[2]) +\n",
        "                                      flatten_model(cnn_learn_Bing.layer_groups[2]) +\n",
        "                                      flatten_model(integrate_model.tabular_model) +\n",
        "                                      flatten_model(integrate_model.layers)))]"
      ]
    },
    {
      "cell_type": "code",
      "execution_count": null,
      "metadata": {
        "colab": {
          "base_uri": "https://localhost:8080/",
          "height": 410
        },
        "id": "33J-UypFqorj",
        "outputId": "718f90b8-4d2e-436a-b1f4-a7b31cd31017"
      },
      "outputs": [],
      "source": [
        "# find learning rate to train the last layer group first\n",
        "learn.freeze()\n",
        "learn.lr_find()\n",
        "learn.recorder.plot(suggestion=True)"
      ]
    },
    {
      "cell_type": "code",
      "execution_count": null,
      "metadata": {
        "id": "i8TbVMGX7QLL"
      },
      "outputs": [],
      "source": [
        "min_grad_lr = learn.recorder.min_grad_lr"
      ]
    },
    {
      "cell_type": "code",
      "execution_count": null,
      "metadata": {
        "colab": {
          "base_uri": "https://localhost:8080/",
          "height": 457
        },
        "id": "qepsIimNrb0e",
        "outputId": "032b213a-dbd8-4c6f-eb98-781c9838794a"
      },
      "outputs": [],
      "source": [
        "# train\n",
        "min_grad_lr = 1e-1 #learn.recorder.min_grad_lr\n",
        "learn.fit_one_cycle(13, min_grad_lr)"
      ]
    },
    {
      "cell_type": "code",
      "execution_count": null,
      "metadata": {
        "colab": {
          "base_uri": "https://localhost:8080/",
          "height": 279
        },
        "id": "kmJKU7VCDCTu",
        "outputId": "734f7fcd-edcf-4d83-bbcc-4f84c2bb5a53"
      },
      "outputs": [],
      "source": [
        "learn.recorder.plot_losses()"
      ]
    },
    {
      "cell_type": "code",
      "execution_count": null,
      "metadata": {
        "colab": {
          "base_uri": "https://localhost:8080/"
        },
        "id": "JALg0XtdDFsD",
        "outputId": "9f24fa4d-3be4-401c-9b70-d5399e1915d3"
      },
      "outputs": [],
      "source": [
        "learn.save('TabularCNN_resnet34_freeze_GB')\n",
        "learn.load('TabularCNN_resnet34_freeze_GB')"
      ]
    },
    {
      "cell_type": "code",
      "execution_count": null,
      "metadata": {
        "colab": {
          "base_uri": "https://localhost:8080/",
          "height": 17
        },
        "id": "i3RM7p2QZdTO",
        "outputId": "3203d7b3-8ef2-4756-b042-61e6da3589fc"
      },
      "outputs": [],
      "source": [
        "# make predictions for the test set\n",
        "preds, y = learn.get_preds(DatasetType.Test)"
      ]
    },
    {
      "cell_type": "code",
      "execution_count": null,
      "metadata": {
        "colab": {
          "base_uri": "https://localhost:8080/"
        },
        "id": "50aTOwMaEYM_",
        "outputId": "8a5c2b94-cbf3-47e5-97fd-b382f14e9c2a"
      },
      "outputs": [],
      "source": [
        "print(preds)"
      ]
    },
    {
      "cell_type": "code",
      "execution_count": null,
      "metadata": {
        "colab": {
          "base_uri": "https://localhost:8080/"
        },
        "id": "L8bU5zqBEd8K",
        "outputId": "b67dfd50-980b-47f3-ed3d-863f07a76902"
      },
      "outputs": [],
      "source": [
        "print(y)"
      ]
    },
    {
      "cell_type": "code",
      "execution_count": null,
      "metadata": {
        "colab": {
          "base_uri": "https://localhost:8080/",
          "height": 206
        },
        "id": "sDZlAIthEkKt",
        "outputId": "3eedff10-872c-4ed1-c459-b2f8793e2231"
      },
      "outputs": [],
      "source": [
        "# submit predictions to kaggle\n",
        "labels = [np.exp(p[0].data.item()) for p in preds]\n",
        "submission = pd.DataFrame({'Id': test_df['id_combined'], 'Price': test_df['price_value']})\n",
        "submission[\"Predicted\"] = labels\n",
        "submission.to_csv(data_path/'image_tab_Bing.csv', index=False)\n",
        "submission.head()"
      ]
    },
    {
      "cell_type": "code",
      "execution_count": null,
      "metadata": {
        "id": "zx55oCBJHeJK"
      },
      "outputs": [],
      "source": [
        "import pandas\n",
        "import matplotlib.pyplot as plt\n",
        "import statsmodels.api\n",
        "import statsmodels.formula.api as sm\n",
        "import scipy.stats as stats"
      ]
    },
    {
      "cell_type": "code",
      "execution_count": null,
      "metadata": {
        "colab": {
          "base_uri": "https://localhost:8080/",
          "height": 342
        },
        "id": "P-p0yPdxI5hX",
        "outputId": "613223e0-f55c-4a46-95ee-077f9a265741"
      },
      "outputs": [],
      "source": [
        "fig = plt.figure(figsize=[10, 10])\n",
        "ax = fig.add_subplot(2, 2, 1)\n",
        "ax.scatter(submission['Price'], submission['Predicted'])\n",
        "ax.set_xlabel('value')\n",
        "ax.set_ylabel('predicted')\n",
        "ax.set_title(str(submission['Price'].corr(submission['Predicted'])))"
      ]
    },
    {
      "cell_type": "code",
      "execution_count": null,
      "metadata": {
        "colab": {
          "base_uri": "https://localhost:8080/"
        },
        "id": "hYzYZ16wNpCd",
        "outputId": "ab666b84-1b58-4dcd-de98-6201288310fc"
      },
      "outputs": [],
      "source": [
        "import numpy as np\n",
        "Y_true = submission['Price']\n",
        "pred = submission['Predicted']\n",
        "\n",
        "\n",
        "#RMSLE\n",
        "error = np.square(np.log(pred + 1) - np.log(Y_true +1)).mean() ** 0.5\n",
        "print(error)\n",
        "\n",
        "score = 1 - error\n",
        "print(\"SCORE For test : \",score)\n"
      ]
    },
    {
      "cell_type": "code",
      "execution_count": null,
      "metadata": {
        "id": "bkdgkXcwlDc4"
      },
      "outputs": [],
      "source": [
        "dfCopyf = test_df.copy()\n",
        "dfCopyf[\"Predicted\"] = labels\n"
      ]
    },
    {
      "cell_type": "code",
      "execution_count": null,
      "metadata": {
        "id": "SQCZWQgZltmz"
      },
      "outputs": [],
      "source": [
        "# dfCopy.reset_index(drop=True, inplace=True)\n",
        "dfCopyf.to_csv('/content/drive/MyDrive/QUTREProject/2019_test_results_Hedonic_CNN_Fusion_GB256_T_new_freeze.csv',index=False)\n",
        "dfCopyf.to_pickle('/content/drive/MyDrive/QUTREProject/2019_test_results_Hedonic_CNN_Fusion_GB256_T_new_freeze.pkl')"
      ]
    },
    {
      "cell_type": "code",
      "execution_count": null,
      "metadata": {
        "colab": {
          "base_uri": "https://localhost:8080/",
          "height": 206
        },
        "id": "kv2Ob42vOQK5",
        "outputId": "74ec6af7-867b-4c25-d48e-192e1a5c6285"
      },
      "outputs": [],
      "source": [
        "# unfreeze all layer groups to train the entire model using differential learning rates\n",
        "learn.unfreeze()\n",
        "learn.fit_one_cycle(5, slice(min_grad_lr, 1e-5))"
      ]
    },
    {
      "cell_type": "code",
      "execution_count": null,
      "metadata": {
        "colab": {
          "base_uri": "https://localhost:8080/",
          "height": 279
        },
        "id": "ApIn39jSS2yV",
        "outputId": "a4a1f9d7-ff1f-4890-e4b3-6529bae26fbd"
      },
      "outputs": [],
      "source": [
        "learn.recorder.plot_losses()"
      ]
    },
    {
      "cell_type": "code",
      "execution_count": null,
      "metadata": {
        "colab": {
          "base_uri": "https://localhost:8080/"
        },
        "id": "xXi7Uy3iS-Wo",
        "outputId": "c549de2f-194d-48f7-e340-1612264aa253"
      },
      "outputs": [],
      "source": [
        "learn.save('TabularCNN_resnet34_unfreeze_GB')\n",
        "learn.load('TabularCNN_resnet34_unfreeze_GB')"
      ]
    },
    {
      "cell_type": "code",
      "execution_count": null,
      "metadata": {
        "colab": {
          "base_uri": "https://localhost:8080/",
          "height": 17
        },
        "id": "TqYU5yxgUCzx",
        "outputId": "85cc6940-fd64-4855-f405-9ff114269773"
      },
      "outputs": [],
      "source": [
        "# make predictions for the test set\n",
        "preds, y = learn.get_preds(DatasetType.Test)"
      ]
    },
    {
      "cell_type": "code",
      "execution_count": null,
      "metadata": {
        "colab": {
          "base_uri": "https://localhost:8080/"
        },
        "id": "eMZtGs_-UUWs",
        "outputId": "1f43f2a7-82d0-44dc-9d27-ce00b35df8ec"
      },
      "outputs": [],
      "source": [
        "print(preds)"
      ]
    },
    {
      "cell_type": "code",
      "execution_count": null,
      "metadata": {
        "colab": {
          "base_uri": "https://localhost:8080/"
        },
        "id": "Clxq6ayjUZnd",
        "outputId": "c399c757-ca32-4480-8092-1afba605eeb2"
      },
      "outputs": [],
      "source": [
        "print(y)"
      ]
    },
    {
      "cell_type": "code",
      "execution_count": null,
      "metadata": {
        "colab": {
          "base_uri": "https://localhost:8080/",
          "height": 206
        },
        "id": "tNL_1B8tUDkZ",
        "outputId": "cba24535-a00c-4578-8f2a-9f20a71197a5"
      },
      "outputs": [],
      "source": [
        "# submit predictions to kaggle\n",
        "labels = [np.exp(p[0].data.item()) for p in preds]\n",
        "submission = pd.DataFrame({'Id': test_df['id_combined'], 'Price': test_df['price_value']})\n",
        "submission[\"Predicted\"] = labels\n",
        "submission.to_csv(data_path/'image_tab.csv', index=False)\n",
        "submission.head()"
      ]
    },
    {
      "cell_type": "code",
      "execution_count": null,
      "metadata": {
        "colab": {
          "base_uri": "https://localhost:8080/",
          "height": 342
        },
        "id": "hGUTqkD-UkfC",
        "outputId": "207fc3fe-fbb2-4eae-f447-a3a2e3aa9298"
      },
      "outputs": [],
      "source": [
        "fig = plt.figure(figsize=[10, 10])\n",
        "ax = fig.add_subplot(2, 2, 1)\n",
        "ax.scatter(submission['Price'], submission['Predicted'])\n",
        "ax.set_xlabel('value')\n",
        "ax.set_ylabel('predicted')\n",
        "ax.set_title(str(submission['Price'].corr(submission['Predicted'])))"
      ]
    },
    {
      "cell_type": "code",
      "execution_count": null,
      "metadata": {
        "colab": {
          "base_uri": "https://localhost:8080/"
        },
        "id": "Wkd9VSFCVAyD",
        "outputId": "af34349a-0c6e-4b73-a17d-750210af2ded"
      },
      "outputs": [],
      "source": [
        "import numpy as np\n",
        "Y_true = submission['Price']\n",
        "pred = submission['Predicted']\n",
        "\n",
        "\n",
        "#RMSLE\n",
        "error = np.square(np.log(pred + 1) - np.log(Y_true +1)).mean() ** 0.5\n",
        "print(error)\n",
        "\n",
        "score = 1 - error\n",
        "print(\"SCORE For test : \",score)\n"
      ]
    },
    {
      "cell_type": "code",
      "execution_count": null,
      "metadata": {
        "colab": {
          "base_uri": "https://localhost:8080/",
          "height": 661
        },
        "id": "D2VSNZnbmB2Q",
        "outputId": "19bd0341-799d-47be-8bdc-f58bc43ea39e"
      },
      "outputs": [],
      "source": [
        "dfCopy = test_df.copy()\n",
        "dfCopy"
      ]
    },
    {
      "cell_type": "code",
      "execution_count": null,
      "metadata": {
        "colab": {
          "base_uri": "https://localhost:8080/",
          "height": 661
        },
        "id": "SLDIj4OImM6e",
        "outputId": "dfd1e187-2d3b-4a50-f470-1ea2be788eed"
      },
      "outputs": [],
      "source": [
        "dfCopy[\"Predicted\"] = labels\n",
        "dfCopy"
      ]
    },
    {
      "cell_type": "code",
      "execution_count": null,
      "metadata": {
        "id": "39NUt7a5mRw0"
      },
      "outputs": [],
      "source": [
        "# dfCopy.reset_index(drop=True, inplace=True)\n",
        "dfCopy.to_csv('/content/drive/MyDrive/QUTREProject/2019_test_results_Hedonic_CNN_Fusion_GB256_T_new_unfreeze.csv',index=False)\n",
        "dfCopy.to_pickle('/content/drive/MyDrive/QUTREProject/2019_test_results_Hedonic_CNN_Fusion_GB256_T_new_unfreeze.pkl')"
      ]
    }
  ],
  "metadata": {
    "accelerator": "GPU",
    "colab": {
      "provenance": []
    },
    "kernelspec": {
      "display_name": "Python 3",
      "name": "python3"
    },
    "language_info": {
      "name": "python"
    }
  },
  "nbformat": 4,
  "nbformat_minor": 0
}
